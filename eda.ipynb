{
 "cells": [
  {
   "cell_type": "markdown",
   "id": "c935db63",
   "metadata": {},
   "source": [
    "### Step 1: Load Packages and Data"
   ]
  },
  {
   "cell_type": "code",
   "execution_count": 1,
   "id": "5c57bf5d",
   "metadata": {},
   "outputs": [],
   "source": [
    "# import the packages\n",
    "\n",
    "import pandas as pd\n",
    "import numpy as np\n",
    "\n",
    "# for accessing of database\n",
    "import sqlite3\n",
    "\n",
    "# for plotting\n",
    "import matplotlib.pyplot as plt\n",
    "import seaborn as sns"
   ]
  },
  {
   "cell_type": "code",
   "execution_count": 2,
   "id": "a99690ae",
   "metadata": {},
   "outputs": [],
   "source": [
    "# create connection to database\n",
    "con = sqlite3.connect('data/fishing.db')"
   ]
  },
  {
   "cell_type": "code",
   "execution_count": 3,
   "id": "3ab74133",
   "metadata": {},
   "outputs": [
    {
     "data": {
      "text/html": [
       "<div>\n",
       "<style scoped>\n",
       "    .dataframe tbody tr th:only-of-type {\n",
       "        vertical-align: middle;\n",
       "    }\n",
       "\n",
       "    .dataframe tbody tr th {\n",
       "        vertical-align: top;\n",
       "    }\n",
       "\n",
       "    .dataframe thead th {\n",
       "        text-align: right;\n",
       "    }\n",
       "</style>\n",
       "<table border=\"1\" class=\"dataframe\">\n",
       "  <thead>\n",
       "    <tr style=\"text-align: right;\">\n",
       "      <th></th>\n",
       "      <th>Date</th>\n",
       "      <th>Location</th>\n",
       "      <th>Rainfall</th>\n",
       "      <th>Evaporation</th>\n",
       "      <th>Sunshine</th>\n",
       "      <th>WindGustDir</th>\n",
       "      <th>WindGustSpeed</th>\n",
       "      <th>WindDir9am</th>\n",
       "      <th>WindDir3pm</th>\n",
       "      <th>WindSpeed9am</th>\n",
       "      <th>...</th>\n",
       "      <th>Humidity9am</th>\n",
       "      <th>Humidity3pm</th>\n",
       "      <th>Pressure9am</th>\n",
       "      <th>Pressure3pm</th>\n",
       "      <th>Cloud9am</th>\n",
       "      <th>Cloud3pm</th>\n",
       "      <th>RainToday</th>\n",
       "      <th>RainTomorrow</th>\n",
       "      <th>ColourOfBoats</th>\n",
       "      <th>AverageTemp</th>\n",
       "    </tr>\n",
       "  </thead>\n",
       "  <tbody>\n",
       "    <tr>\n",
       "      <th>0</th>\n",
       "      <td>2009-03-08</td>\n",
       "      <td>Changi</td>\n",
       "      <td>0.0</td>\n",
       "      <td>7.0</td>\n",
       "      <td>11.2</td>\n",
       "      <td>E</td>\n",
       "      <td>35.0</td>\n",
       "      <td>E</td>\n",
       "      <td>ESE</td>\n",
       "      <td>15.0</td>\n",
       "      <td>...</td>\n",
       "      <td>60.0</td>\n",
       "      <td>54.0</td>\n",
       "      <td>MED</td>\n",
       "      <td>Med</td>\n",
       "      <td>4.0</td>\n",
       "      <td>5.0</td>\n",
       "      <td>No</td>\n",
       "      <td>No</td>\n",
       "      <td>blue</td>\n",
       "      <td>33.4</td>\n",
       "    </tr>\n",
       "    <tr>\n",
       "      <th>1</th>\n",
       "      <td>2014-11-12</td>\n",
       "      <td>Woodlands</td>\n",
       "      <td>0.0</td>\n",
       "      <td>8.4</td>\n",
       "      <td>9.6</td>\n",
       "      <td>WNW</td>\n",
       "      <td>37.0</td>\n",
       "      <td>NNE</td>\n",
       "      <td>NW</td>\n",
       "      <td>13.0</td>\n",
       "      <td>...</td>\n",
       "      <td>60.0</td>\n",
       "      <td>56.0</td>\n",
       "      <td>MeD</td>\n",
       "      <td>LOw</td>\n",
       "      <td>1.0</td>\n",
       "      <td>2.0</td>\n",
       "      <td>None</td>\n",
       "      <td>Yes</td>\n",
       "      <td>blue</td>\n",
       "      <td>35.4</td>\n",
       "    </tr>\n",
       "    <tr>\n",
       "      <th>2</th>\n",
       "      <td>2008-08-08</td>\n",
       "      <td>Woodlands</td>\n",
       "      <td>0.0</td>\n",
       "      <td>7.6</td>\n",
       "      <td>11.1</td>\n",
       "      <td>ESE</td>\n",
       "      <td>52.0</td>\n",
       "      <td>SE</td>\n",
       "      <td>E</td>\n",
       "      <td>19.0</td>\n",
       "      <td>...</td>\n",
       "      <td>NaN</td>\n",
       "      <td>13.0</td>\n",
       "      <td>Med</td>\n",
       "      <td>MEd</td>\n",
       "      <td>0.0</td>\n",
       "      <td>0.0</td>\n",
       "      <td>None</td>\n",
       "      <td>No</td>\n",
       "      <td>blue</td>\n",
       "      <td>32.8</td>\n",
       "    </tr>\n",
       "    <tr>\n",
       "      <th>3</th>\n",
       "      <td>2015-10-12</td>\n",
       "      <td>Changi</td>\n",
       "      <td>0.0</td>\n",
       "      <td>7.2</td>\n",
       "      <td>11.4</td>\n",
       "      <td>NE</td>\n",
       "      <td>31.0</td>\n",
       "      <td>NNW</td>\n",
       "      <td>NE</td>\n",
       "      <td>9.0</td>\n",
       "      <td>...</td>\n",
       "      <td>51.0</td>\n",
       "      <td>53.0</td>\n",
       "      <td>hIgh</td>\n",
       "      <td>med</td>\n",
       "      <td>1.0</td>\n",
       "      <td>1.0</td>\n",
       "      <td>No</td>\n",
       "      <td>No</td>\n",
       "      <td>red</td>\n",
       "      <td>31.4</td>\n",
       "    </tr>\n",
       "    <tr>\n",
       "      <th>4</th>\n",
       "      <td>2013-10-27</td>\n",
       "      <td>Woodlands</td>\n",
       "      <td>5.6</td>\n",
       "      <td>7.0</td>\n",
       "      <td>8.5</td>\n",
       "      <td>NNW</td>\n",
       "      <td>33.0</td>\n",
       "      <td>N</td>\n",
       "      <td>N</td>\n",
       "      <td>13.0</td>\n",
       "      <td>...</td>\n",
       "      <td>68.0</td>\n",
       "      <td>64.0</td>\n",
       "      <td>meD</td>\n",
       "      <td>MeD</td>\n",
       "      <td>6.0</td>\n",
       "      <td>5.0</td>\n",
       "      <td>None</td>\n",
       "      <td>No</td>\n",
       "      <td>grey</td>\n",
       "      <td>35.4</td>\n",
       "    </tr>\n",
       "  </tbody>\n",
       "</table>\n",
       "<p>5 rows × 21 columns</p>\n",
       "</div>"
      ],
      "text/plain": [
       "         Date   Location  Rainfall  Evaporation  Sunshine WindGustDir  \\\n",
       "0  2009-03-08     Changi       0.0          7.0      11.2           E   \n",
       "1  2014-11-12  Woodlands       0.0          8.4       9.6         WNW   \n",
       "2  2008-08-08  Woodlands       0.0          7.6      11.1         ESE   \n",
       "3  2015-10-12     Changi       0.0          7.2      11.4          NE   \n",
       "4  2013-10-27  Woodlands       5.6          7.0       8.5         NNW   \n",
       "\n",
       "   WindGustSpeed WindDir9am WindDir3pm  WindSpeed9am  ...  Humidity9am  \\\n",
       "0           35.0          E        ESE          15.0  ...         60.0   \n",
       "1           37.0        NNE         NW          13.0  ...         60.0   \n",
       "2           52.0         SE          E          19.0  ...          NaN   \n",
       "3           31.0        NNW         NE           9.0  ...         51.0   \n",
       "4           33.0          N          N          13.0  ...         68.0   \n",
       "\n",
       "   Humidity3pm  Pressure9am Pressure3pm Cloud9am  Cloud3pm  RainToday  \\\n",
       "0         54.0          MED         Med      4.0       5.0         No   \n",
       "1         56.0          MeD         LOw      1.0       2.0       None   \n",
       "2         13.0          Med         MEd      0.0       0.0       None   \n",
       "3         53.0         hIgh         med      1.0       1.0         No   \n",
       "4         64.0          meD         MeD      6.0       5.0       None   \n",
       "\n",
       "  RainTomorrow ColourOfBoats AverageTemp  \n",
       "0           No          blue        33.4  \n",
       "1          Yes          blue        35.4  \n",
       "2           No          blue        32.8  \n",
       "3           No           red        31.4  \n",
       "4           No          grey        35.4  \n",
       "\n",
       "[5 rows x 21 columns]"
      ]
     },
     "execution_count": 3,
     "metadata": {},
     "output_type": "execute_result"
    }
   ],
   "source": [
    "# read SQL query and load into dataframe\n",
    "df = pd.read_sql_query(\"SELECT * FROM fishing\", con)\n",
    "\n",
    "# inspect the dataset\n",
    "df.head()"
   ]
  },
  {
   "cell_type": "code",
   "execution_count": 4,
   "id": "c3ff9044",
   "metadata": {},
   "outputs": [
    {
     "name": "stdout",
     "output_type": "stream",
     "text": [
      "<class 'pandas.core.frame.DataFrame'>\n",
      "RangeIndex: 12997 entries, 0 to 12996\n",
      "Data columns (total 21 columns):\n",
      " #   Column         Non-Null Count  Dtype  \n",
      "---  ------         --------------  -----  \n",
      " 0   Date           12997 non-null  object \n",
      " 1   Location       12997 non-null  object \n",
      " 2   Rainfall       12997 non-null  float64\n",
      " 3   Evaporation    12917 non-null  float64\n",
      " 4   Sunshine       12939 non-null  float64\n",
      " 5   WindGustDir    12913 non-null  object \n",
      " 6   WindGustSpeed  12917 non-null  float64\n",
      " 7   WindDir9am     12697 non-null  object \n",
      " 8   WindDir3pm     12945 non-null  object \n",
      " 9   WindSpeed9am   12992 non-null  float64\n",
      " 10  WindSpeed3pm   12991 non-null  float64\n",
      " 11  Humidity9am    12983 non-null  float64\n",
      " 12  Humidity3pm    12970 non-null  float64\n",
      " 13  Pressure9am    12995 non-null  object \n",
      " 14  Pressure3pm    12989 non-null  object \n",
      " 15  Cloud9am       12693 non-null  float64\n",
      " 16  Cloud3pm       12615 non-null  float64\n",
      " 17  RainToday      9799 non-null   object \n",
      " 18  RainTomorrow   12997 non-null  object \n",
      " 19  ColourOfBoats  12997 non-null  object \n",
      " 20  AverageTemp    12988 non-null  float64\n",
      "dtypes: float64(11), object(10)\n",
      "memory usage: 2.1+ MB\n"
     ]
    }
   ],
   "source": [
    "# inspect the dataset\n",
    "df.info()"
   ]
  },
  {
   "cell_type": "code",
   "execution_count": 5,
   "id": "f33931bf",
   "metadata": {},
   "outputs": [
    {
     "data": {
      "text/plain": [
       "Date             3193\n",
       "Location            4\n",
       "Rainfall          334\n",
       "Evaporation       115\n",
       "Sunshine          276\n",
       "WindGustDir        19\n",
       "WindGustSpeed      54\n",
       "WindDir9am         17\n",
       "WindDir3pm         17\n",
       "WindSpeed9am       37\n",
       "WindSpeed3pm       37\n",
       "Humidity9am        90\n",
       "Humidity3pm        97\n",
       "Pressure9am        33\n",
       "Pressure3pm        33\n",
       "Cloud9am           10\n",
       "Cloud3pm           10\n",
       "RainToday           3\n",
       "RainTomorrow        2\n",
       "ColourOfBoats       4\n",
       "AverageTemp       138\n",
       "dtype: int64"
      ]
     },
     "execution_count": 5,
     "metadata": {},
     "output_type": "execute_result"
    }
   ],
   "source": [
    "# check cardinality of each variable\n",
    "df.nunique(dropna=False)  # NaN counted as 1 unique category"
   ]
  },
  {
   "cell_type": "code",
   "execution_count": 6,
   "id": "665adfff",
   "metadata": {},
   "outputs": [
    {
     "name": "stdout",
     "output_type": "stream",
     "text": [
      "Date: ['2009-03-08' '2014-11-12' '2008-08-08' ... '2015-12-25' '2015-04-25'\n",
      " '2012-02-19']\n",
      "\n",
      "Location: ['Changi' 'Woodlands' 'Tuas' 'Sentosa']\n",
      "\n",
      "Rainfall: [0.000e+00 5.600e+00 8.100e+01 1.800e+00 4.600e+00 1.520e+01 1.760e+01\n",
      " 2.740e+01 4.000e-01 9.360e+01 1.440e+01 1.960e+01 3.400e+00 1.420e+01\n",
      " 1.920e+01 6.000e-01 2.600e+00 8.000e-01 2.000e-01 1.020e+01 5.000e+00\n",
      " 4.800e+00 1.800e+01 2.800e+00 3.460e+01 5.800e+00 1.400e+00 3.520e+01\n",
      " 2.240e+01 1.200e+00 5.400e+00 1.120e+01 8.600e+00 1.380e+01 4.000e+00\n",
      " 4.200e+00 5.200e+00 1.600e+00 2.200e+00 3.800e+00 3.200e+00 7.400e+00\n",
      " 9.200e+00 6.800e+00 6.600e+00 8.400e+00 7.200e+00 1.700e+01 7.000e+00\n",
      " 6.620e+01 3.680e+01 1.580e+01 1.000e+00 8.800e+00 1.780e+01 9.600e+00\n",
      " 2.560e+01 8.000e+00 1.900e+01 4.260e+01 6.200e+00 1.060e+01 3.020e+01\n",
      " 9.000e+00 4.400e+00 3.600e+00 2.320e+01 1.160e+01 7.800e+00 1.600e+01\n",
      " 1.000e+01 9.400e+00 1.640e+01 7.600e+00 6.000e+00 1.064e+02 2.000e+00\n",
      " 1.294e+02 1.040e+01 1.400e+01 1.740e+01 1.360e+01 9.800e+00 1.480e+01\n",
      " 6.400e+00 4.580e+01 1.220e+01 8.200e+00 1.022e+02 3.000e+00 2.000e+01\n",
      " 4.480e+01 2.580e+01 1.200e+01 2.120e+01 2.640e+01 6.820e+01 1.280e+01\n",
      " 1.500e+01 4.100e+01 2.080e+01 2.180e+01 2.420e+01 2.380e+01 2.660e+01\n",
      " 2.680e+01 5.620e+01 1.080e+01 2.880e+01 2.520e+01 1.412e+02 3.280e+01\n",
      " 1.820e+01 1.680e+01 3.860e+01 1.660e+01 1.240e+01 1.144e+02 2.500e+01\n",
      " 2.220e+01 1.228e+02 2.400e+00 1.260e+01 1.320e+01 2.260e+01 1.140e+01\n",
      " 3.060e+01 4.020e+01 1.460e+01 2.300e+01 1.940e+01 3.160e+01 3.320e+01\n",
      " 3.340e+01 2.940e+01 2.140e+01 2.600e+01 1.100e+01 2.400e+01 1.840e+01\n",
      " 1.004e+02 5.120e+01 2.440e+01 3.640e+01 1.620e+01 4.320e+01 2.340e+01\n",
      " 3.300e+01 1.340e+01 2.280e+01 2.540e+01 7.460e+01 1.560e+01 2.620e+01\n",
      " 3.120e+01 2.460e+01 1.980e+01 1.180e+01 1.540e+01 3.960e+01 3.920e+01\n",
      " 2.100e+01 1.326e+02 5.780e+01 4.900e+01 2.360e+01 6.420e+01 5.060e+01\n",
      " 5.960e+01 3.140e+01 7.640e+01 1.300e+01 1.452e+02 8.860e+01 3.180e+01\n",
      " 2.060e+01 5.460e+01 6.840e+01 7.220e+01 2.820e+01 2.720e+01 3.100e+01\n",
      " 4.460e+01 6.480e+01 5.740e+01 1.048e+02 9.680e+01 2.800e+01 1.364e+02\n",
      " 3.480e+01 5.680e+01 1.822e+02 2.920e+01 4.880e+01 1.826e+02 9.160e+01\n",
      " 4.740e+01 5.000e+01 2.200e+01 6.580e+01 5.760e+01 1.450e+02 8.060e+01\n",
      " 6.060e+01 9.800e+01 4.280e+01 4.760e+01 3.260e+01 8.500e+01 4.440e+01\n",
      " 4.340e+01 6.520e+01 2.480e+01 6.880e+01 2.760e+01 4.500e+01 3.580e+01\n",
      " 5.300e+01 6.020e+01 5.400e+01 5.080e+01 2.980e+01 9.260e+01 4.940e+01\n",
      " 3.000e+01 6.120e+01 2.160e+01 4.920e+01 4.120e+01 3.980e+01 3.620e+01\n",
      " 3.720e+01 4.360e+01 8.220e+01 1.720e+01 1.860e+01 5.820e+01 4.060e+01\n",
      " 5.340e+01 1.846e+02 6.180e+01 1.050e+02 3.840e+01 3.420e+01 7.720e+01\n",
      " 9.060e+01 2.040e+01 4.080e+01 1.422e+02 6.860e+01 5.160e+01 2.960e+01\n",
      " 8.180e+01 3.220e+01 1.880e+01 3.200e+01 5.840e+01 1.108e+02 1.106e+02\n",
      " 3.400e+01 5.500e+01 2.900e+01 7.940e+01 7.280e+01 3.500e+01 4.000e+01\n",
      " 3.040e+01 8.260e+01 9.400e+01 3.760e+01 1.456e+02 8.920e+01 3.676e+02\n",
      " 6.220e+01 2.106e+02 3.240e+01 3.700e+01 3.080e+01 9.100e+01 8.900e+01\n",
      " 3.660e+01 1.314e+02 9.580e+01 5.320e+01 4.180e+01 5.180e+01 2.840e+01\n",
      " 4.140e+01 4.040e+01 2.700e+01 5.600e+01 3.440e+01 3.560e+01 6.040e+01\n",
      " 4.640e+01 3.880e+01 3.380e+01 6.140e+01 4.620e+01 3.820e+01 7.840e+01\n",
      " 4.860e+01 3.900e+01 4.540e+01 9.040e+01 8.320e+01 4.200e+01 5.700e+01\n",
      " 4.380e+01 6.400e+01 3.540e+01 9.140e+01 2.860e+01 4.160e+01 1.214e+02\n",
      " 1.622e+02 7.620e+01 3.600e+01 7.080e+01 6.800e+01 8.820e+01 1.098e+02\n",
      " 2.020e+01 8.040e+01 5.520e+01 5.660e+01 5.860e+01 3.360e+01 4.680e+01\n",
      " 3.940e+01 4.720e+01 3.800e+01 1.684e+02 7.800e+01]\n",
      "\n",
      "Evaporation: [ 7.   8.4  7.6  7.2 10.6  7.8  5.2  0.8  4.8  8.   4.6  6.   6.6  2.6\n",
      "  2.2  1.8  4.2  5.8  9.2  8.6  8.5 13.   6.8  1.6  8.8  4.4  6.4  3.4\n",
      "  3.2  0.6  5.6  2.4  3.8  3.   9.   1.2  7.4  2.   9.6  0.4 11.6  5.\n",
      "  4.   6.2  2.8  9.8 12.2  5.4  3.6  9.4  8.2 11.4  1.  10.4 10.2 10.\n",
      "  1.4  0.  11.  12.  12.4 14.8 11.2 10.8 13.4 12.6  nan 15.4  5.1 13.2\n",
      " 14.4 14.2 18.4 19.4 11.8 16.8  7.5 23.8 13.8  0.2  5.3 17.   4.3 12.8\n",
      " 18.6  3.1 14.  15.8 16.2  4.5 16.4 16.  20.2 14.6 15.  15.6  2.1 13.6\n",
      "  2.7  1.9 19.  21.6  6.7  6.9 15.2  2.5 22.8 10.1  0.7 19.8 20.4 19.2\n",
      "  7.7 44.   4.9]\n",
      "\n",
      "Sunshine: [ 11.2   9.6  11.1  11.4   8.5  12.8   4.7  12.7   5.8   2.1  -9.7   7.2\n",
      "   6.8   9.7  -3.8  10.4   5.2   1.7   4.2   4.6   4.4  10.7   9.3  -8.1\n",
      "   0.   10.6   5.3   nan   2.    8.   -2.5  -2.8  10.8   1.5   8.4   5.9\n",
      "  13.    1.6  12.2   6.   10.9 -10.8   6.3   7.6   9.1  -0.2  -0.3   5.7\n",
      "   9.9  -2.3   8.8   0.2  10.2   7.1   9.8  13.1  -5.7  11.3   3.7   8.1\n",
      "   3.5   9.5   8.2   9.2  -4.3   4.5 -13.  -10.5   7.4   5.    0.6   6.5\n",
      "  11.6   2.9   3.8   2.7  11.    4.8   8.7  11.8   5.1 -11.2   2.3  10.1\n",
      "   8.9   8.6  12.6  11.5   7.    5.6  -0.1  12.1  12.4  10.3  13.2  12.5\n",
      "   6.9  12.9   9.4  -7.3   9.   -8.4  10.5   0.9 -13.2  -4.6  11.7   4.3\n",
      "  -8.2   3.4   0.1   5.4 -13.3   7.8   4.9  11.9  -7.2   8.3   1.8 -11.9\n",
      "   2.5 -10.6  13.3   1.9 -12.8  -0.5  -9.8  10.    7.7   6.2 -10.    6.7\n",
      "   3.6   7.5   2.4  -9.3   0.3   4.1   4.    7.9   6.6  13.5   1.2   0.8\n",
      "   5.5   7.3   1.  -11.6   6.1   3.   -6.7   2.6 -10.9  -7.4  -2.6   3.9\n",
      "   1.3   3.3  -1.2  13.4  -8.5  -4.4  -6.4   0.4  12.3  -4.8  -1.6   1.4\n",
      "  12.   -9.2  -1.7 -12.1  -6.8   6.4  -0.8  -2.1 -11.1 -11.5   2.2   0.5\n",
      "   3.2  -7.8   2.8  -8.7  -7.6 -13.1  -1.8 -10.3 -10.7 -11.   -8.    1.1\n",
      "  -2.7  -9.  -10.1 -11.4  -8.8  -5.3  -9.1  -3.9 -10.4  -9.6  -6.  -12.9\n",
      "   3.1  -6.9  -2.2  -4.1  -7.   -5.8   0.7  -9.4  -3.4  -6.3 -11.7  -3.2\n",
      " -12.4  -7.5  -1.   -3.7  -0.4  -4.5  -5.1  -9.5  -2.9  -1.4  -5.   -6.2\n",
      "  -5.4  -4.7 -12.6 -13.4  -8.3 -11.8 -12.2  -8.6  -1.3  -4.2  -9.9  -3.1\n",
      " -10.2  -0.9  -7.1  -7.7 -11.3  -5.9  -3.6  13.7  -6.5  -5.2  -5.5  13.8\n",
      "  -3.5  -1.9  -8.9 -12.5  -4.9  -7.9 -12.3  -1.5  13.6 -12.   13.9  -0.7\n",
      "  -2.   -5.6  -3.   -4.   -2.4 -13.5  -0.6 -12.7  -3.3  -1.1  -6.6  -6.1]\n",
      "\n",
      "WindGustDir: ['E' 'WNW' 'ESE' 'NE' 'NNW' 'S' 'SSW' 'N' 'NW' 'ENE' 'W' 'WSW' 'SSE' 'SW'\n",
      " 'SE' 'NNE' None 'NS' 'EW']\n",
      "\n",
      "WindGustSpeed: [ 35.  37.  52.  31.  33.  43.  28.  41.  22.  20.  19.  30.  26.  44.\n",
      "  72.  39.  78.  48.  46.  24.  59.  74.  54.  61.  56.  89.  70.  50.\n",
      "  13.  57.  nan  81.  17.  69.  63.  65.  15.  67.  80.  91.  76.  94.\n",
      "  85.  11.  96.  93.  83. 100.   9. 102.  98.  87. 104. 126.]\n",
      "\n",
      "WindDir9am: ['E' 'NNE' 'SE' 'NNW' 'N' 'SSE' 'S' 'WSW' 'ENE' 'WNW' 'ESE' 'SSW' 'W' 'SW'\n",
      " 'NW' None 'NE']\n",
      "\n",
      "WindDir3pm: ['ESE' 'NW' 'E' 'NE' 'N' 'SSW' 'WNW' 'SSE' 'NNW' 'WSW' 'NNE' 'ENE' 'SE'\n",
      " 'S' 'SW' 'W' None]\n",
      "\n",
      "WindSpeed9am: [15. 13. 19.  9. 17.  7.  4. 24. 11.  2. 37. 26.  0.  6. 46. 39. 57. 43.\n",
      " 22. 48. 35. 31. 20. 61. 63. 41. 33. 44. 28. 30. 54. 50. 65. 52. 56. 59.\n",
      " nan]\n",
      "\n",
      "WindSpeed3pm: [19. 28. 13. 22. 15. 17.  9.  6. 24. 20. 26.  7. 33. 11. 50. 30. 37. 31.\n",
      " 44. 39.  2. 35.  4. 41. 52. 46. 43.  0. 76. 61. 48. 57. nan 65. 59. 56.\n",
      " 54.]\n",
      "\n",
      "Humidity9am: [ 60.  nan  51.  68.  54.  89.  49.  84.  44.  48.  53.  76.  67.  77.\n",
      "  55.  62.  80.  63.  78.  91.  73.  75.  61.  72.  90.  64.  46.  65.\n",
      "  69.  70.  45.  74.  81.  52.  34.  93.  59.  98.  79.  58.  36.  96.\n",
      "  71.  50.  57.  56.  85.  47.  29.  27.  66.  38.  82.  83.  43.  86.\n",
      "  30.  42.  94.  18.  87.  31.  92.  95.  20.  23.  41.  19.  39.  40.\n",
      "  97.  99.  24.  17.  88.  35.  25.  37.  32.  26.  33.  15.  28. 100.\n",
      "  16.  22.  14.  21.  11.  13.]\n",
      "\n",
      "Humidity3pm: [ 54.  56.  13.  53.  64.  45.  58.  39.  68.  27.  30.  49.  59.  51.\n",
      "  57.  26.  42.  77.  55.  34.  88.  89.  65.  62.  60.  47.  96.  41.\n",
      "  29.  43.  40.  67.  63.  24.  95.  75.  37.  66.  33.  20.  71.  72.\n",
      "  90.  46.  69.  32.  52.  48.  35.  50.  14.  25.  23.  21.  86.  91.\n",
      "   9.  61.  31.  38.  44.  16.  73.  93.  83.  19.  80.  81.  17.  15.\n",
      "  28.  76.  12.  22.  36.  79.  74.  85.  87.  nan  10.  94.  18.  78.\n",
      "  70.  84.  82.  11.  97. 100.  92.  98.   8.   6.   5.   7.  99.]\n",
      "\n",
      "Pressure9am: ['MED' 'MeD' 'Med' 'hIgh' 'meD' 'MEd' 'LOW' 'mED' 'HigH' 'med' 'loW'\n",
      " 'hIgH' 'HiGh' 'LOw' 'hIGh' 'mEd' 'HIGH' 'lOw' 'LoW' 'HIgh' 'HiGH' 'higH'\n",
      " 'hIGH' 'hiGH' 'low' 'HIGh' 'Low' 'lOW' 'High' 'HIgH' 'high' 'hiGh' None]\n",
      "\n",
      "Pressure3pm: ['Med' 'LOw' 'MEd' 'med' 'MeD' 'MED' 'lOW' 'meD' 'mEd' 'HiGh' 'high' 'mED'\n",
      " 'LoW' 'HigH' 'HiGH' 'low' 'High' 'Low' 'hIgH' 'loW' 'HIgh' 'HIGH' 'HIGh'\n",
      " 'higH' 'hIgh' 'LOW' 'lOw' 'hiGH' 'hiGh' 'HIgH' 'hIGH' 'hIGh' None]\n",
      "\n",
      "Cloud9am: [ 4.  1.  0.  6.  8.  2.  7.  3.  5. nan]\n",
      "\n",
      "Cloud3pm: [ 5.  2.  0.  1.  7.  6.  3.  4.  8. nan]\n",
      "\n",
      "RainToday: ['No' None 'Yes']\n",
      "\n",
      "RainTomorrow: ['No' 'Yes']\n",
      "\n",
      "ColourOfBoats: ['blue' 'red' 'grey' 'white']\n",
      "\n",
      "AverageTemp: [33.4 35.4 32.8 31.4 31.9 34.4 29.9 30.  28.1 30.2 32.3 34.6 33.6 27.\n",
      " 29.1 26.5 35.7 35.2 34.5 35.1 33.9 30.1 31.1 30.9 26.2 25.9 30.4 27.1\n",
      " 34.8 28.2 27.3 26.8 27.2 26.7 28.9 32.5 33.8 32.2 33.7 33.3 29.3 25.1\n",
      " 27.5 32.7 25.4 27.7 36.9 28.8 33.  34.7 31.3 36.4 28.5 29.2 35.3 29.8\n",
      " 25.2 35.6 31.7 27.9 32.1 29.6 30.6 33.5 36.1 31.8 28.4 31.2 35.5 32.9\n",
      " 29.  28.6 36.2 31.5 35.  34.9 25.7 29.7 31.  30.3 24.9 30.7 28.3 29.4\n",
      " 30.5 32.  34.2 27.6 34.  28.7 34.3 32.4 35.8 35.9 29.5 30.8 32.6 26.9\n",
      " 27.4 28.  25.6 31.6 25.3 33.2 26.6 33.1 36.3 34.1  nan 26.  36.  26.4\n",
      " 25.8 26.3 25.5 27.8 26.1 36.5 24.7 36.8 24.8 36.6 38.  36.7 37.1 37.7\n",
      " 38.5 24.3 24.5 37.2 25.  38.3 24.6 37.4 38.4 37.  37.6 37.9]\n",
      "\n"
     ]
    }
   ],
   "source": [
    "# inspect unique values in each variable\n",
    "for column in list(df.columns):\n",
    "    print(f\"{column}: {df[column].unique()}\\n\")"
   ]
  },
  {
   "cell_type": "markdown",
   "id": "f362e791",
   "metadata": {},
   "source": [
    "### Step 2: Data Preprocessing"
   ]
  },
  {
   "cell_type": "markdown",
   "id": "96f9d325",
   "metadata": {},
   "source": [
    "###### 2.1 Duplicated values in 'Date' and 'Location'"
   ]
  },
  {
   "cell_type": "code",
   "execution_count": 7,
   "id": "e9a24a87",
   "metadata": {},
   "outputs": [
    {
     "data": {
      "text/html": [
       "<div>\n",
       "<style scoped>\n",
       "    .dataframe tbody tr th:only-of-type {\n",
       "        vertical-align: middle;\n",
       "    }\n",
       "\n",
       "    .dataframe tbody tr th {\n",
       "        vertical-align: top;\n",
       "    }\n",
       "\n",
       "    .dataframe thead th {\n",
       "        text-align: right;\n",
       "    }\n",
       "</style>\n",
       "<table border=\"1\" class=\"dataframe\">\n",
       "  <thead>\n",
       "    <tr style=\"text-align: right;\">\n",
       "      <th></th>\n",
       "      <th>Date</th>\n",
       "      <th>Location</th>\n",
       "      <th>Rainfall</th>\n",
       "      <th>Evaporation</th>\n",
       "      <th>Sunshine</th>\n",
       "      <th>WindGustDir</th>\n",
       "      <th>WindGustSpeed</th>\n",
       "      <th>WindDir9am</th>\n",
       "      <th>WindDir3pm</th>\n",
       "      <th>WindSpeed9am</th>\n",
       "      <th>...</th>\n",
       "      <th>Humidity9am</th>\n",
       "      <th>Humidity3pm</th>\n",
       "      <th>Pressure9am</th>\n",
       "      <th>Pressure3pm</th>\n",
       "      <th>Cloud9am</th>\n",
       "      <th>Cloud3pm</th>\n",
       "      <th>RainToday</th>\n",
       "      <th>RainTomorrow</th>\n",
       "      <th>ColourOfBoats</th>\n",
       "      <th>AverageTemp</th>\n",
       "    </tr>\n",
       "  </thead>\n",
       "  <tbody>\n",
       "    <tr>\n",
       "      <th>4591</th>\n",
       "      <td>2008-07-03</td>\n",
       "      <td>Tuas</td>\n",
       "      <td>0.4</td>\n",
       "      <td>2.2</td>\n",
       "      <td>7.3</td>\n",
       "      <td>NE</td>\n",
       "      <td>31.0</td>\n",
       "      <td>None</td>\n",
       "      <td>WNW</td>\n",
       "      <td>0.0</td>\n",
       "      <td>...</td>\n",
       "      <td>84.0</td>\n",
       "      <td>71.0</td>\n",
       "      <td>MEd</td>\n",
       "      <td>mEd</td>\n",
       "      <td>1.0</td>\n",
       "      <td>3.0</td>\n",
       "      <td>No</td>\n",
       "      <td>Yes</td>\n",
       "      <td>red</td>\n",
       "      <td>27.4</td>\n",
       "    </tr>\n",
       "    <tr>\n",
       "      <th>2409</th>\n",
       "      <td>2008-07-03</td>\n",
       "      <td>Tuas</td>\n",
       "      <td>0.4</td>\n",
       "      <td>2.2</td>\n",
       "      <td>7.3</td>\n",
       "      <td>NE</td>\n",
       "      <td>31.0</td>\n",
       "      <td>None</td>\n",
       "      <td>WNW</td>\n",
       "      <td>0.0</td>\n",
       "      <td>...</td>\n",
       "      <td>84.0</td>\n",
       "      <td>71.0</td>\n",
       "      <td>MEd</td>\n",
       "      <td>mEd</td>\n",
       "      <td>1.0</td>\n",
       "      <td>3.0</td>\n",
       "      <td>No</td>\n",
       "      <td>Yes</td>\n",
       "      <td>red</td>\n",
       "      <td>27.4</td>\n",
       "    </tr>\n",
       "    <tr>\n",
       "      <th>11818</th>\n",
       "      <td>2008-07-05</td>\n",
       "      <td>Woodlands</td>\n",
       "      <td>0.0</td>\n",
       "      <td>7.0</td>\n",
       "      <td>10.8</td>\n",
       "      <td>ESE</td>\n",
       "      <td>46.0</td>\n",
       "      <td>E</td>\n",
       "      <td>E</td>\n",
       "      <td>20.0</td>\n",
       "      <td>...</td>\n",
       "      <td>37.0</td>\n",
       "      <td>16.0</td>\n",
       "      <td>MeD</td>\n",
       "      <td>MED</td>\n",
       "      <td>1.0</td>\n",
       "      <td>1.0</td>\n",
       "      <td>No</td>\n",
       "      <td>No</td>\n",
       "      <td>red</td>\n",
       "      <td>32.3</td>\n",
       "    </tr>\n",
       "    <tr>\n",
       "      <th>6176</th>\n",
       "      <td>2008-07-05</td>\n",
       "      <td>Tuas</td>\n",
       "      <td>1.8</td>\n",
       "      <td>1.4</td>\n",
       "      <td>4.9</td>\n",
       "      <td>WSW</td>\n",
       "      <td>44.0</td>\n",
       "      <td>W</td>\n",
       "      <td>SW</td>\n",
       "      <td>13.0</td>\n",
       "      <td>...</td>\n",
       "      <td>69.0</td>\n",
       "      <td>57.0</td>\n",
       "      <td>med</td>\n",
       "      <td>HIGh</td>\n",
       "      <td>7.0</td>\n",
       "      <td>5.0</td>\n",
       "      <td>Yes</td>\n",
       "      <td>Yes</td>\n",
       "      <td>grey</td>\n",
       "      <td>27.2</td>\n",
       "    </tr>\n",
       "    <tr>\n",
       "      <th>5724</th>\n",
       "      <td>2008-07-05</td>\n",
       "      <td>Tuas</td>\n",
       "      <td>1.8</td>\n",
       "      <td>1.4</td>\n",
       "      <td>4.9</td>\n",
       "      <td>WSW</td>\n",
       "      <td>44.0</td>\n",
       "      <td>W</td>\n",
       "      <td>SW</td>\n",
       "      <td>13.0</td>\n",
       "      <td>...</td>\n",
       "      <td>69.0</td>\n",
       "      <td>57.0</td>\n",
       "      <td>med</td>\n",
       "      <td>HIGh</td>\n",
       "      <td>7.0</td>\n",
       "      <td>5.0</td>\n",
       "      <td>Yes</td>\n",
       "      <td>Yes</td>\n",
       "      <td>grey</td>\n",
       "      <td>27.2</td>\n",
       "    </tr>\n",
       "    <tr>\n",
       "      <th>...</th>\n",
       "      <td>...</td>\n",
       "      <td>...</td>\n",
       "      <td>...</td>\n",
       "      <td>...</td>\n",
       "      <td>...</td>\n",
       "      <td>...</td>\n",
       "      <td>...</td>\n",
       "      <td>...</td>\n",
       "      <td>...</td>\n",
       "      <td>...</td>\n",
       "      <td>...</td>\n",
       "      <td>...</td>\n",
       "      <td>...</td>\n",
       "      <td>...</td>\n",
       "      <td>...</td>\n",
       "      <td>...</td>\n",
       "      <td>...</td>\n",
       "      <td>...</td>\n",
       "      <td>...</td>\n",
       "      <td>...</td>\n",
       "      <td>...</td>\n",
       "    </tr>\n",
       "    <tr>\n",
       "      <th>7030</th>\n",
       "      <td>2017-06-19</td>\n",
       "      <td>Tuas</td>\n",
       "      <td>0.0</td>\n",
       "      <td>3.0</td>\n",
       "      <td>9.1</td>\n",
       "      <td>SW</td>\n",
       "      <td>19.0</td>\n",
       "      <td>ENE</td>\n",
       "      <td>W</td>\n",
       "      <td>4.0</td>\n",
       "      <td>...</td>\n",
       "      <td>84.0</td>\n",
       "      <td>55.0</td>\n",
       "      <td>hIgh</td>\n",
       "      <td>HIgh</td>\n",
       "      <td>1.0</td>\n",
       "      <td>2.0</td>\n",
       "      <td>No</td>\n",
       "      <td>No</td>\n",
       "      <td>white</td>\n",
       "      <td>27.9</td>\n",
       "    </tr>\n",
       "    <tr>\n",
       "      <th>2729</th>\n",
       "      <td>2017-06-21</td>\n",
       "      <td>Tuas</td>\n",
       "      <td>0.2</td>\n",
       "      <td>1.8</td>\n",
       "      <td>7.5</td>\n",
       "      <td>NW</td>\n",
       "      <td>37.0</td>\n",
       "      <td>NNE</td>\n",
       "      <td>NNW</td>\n",
       "      <td>9.0</td>\n",
       "      <td>...</td>\n",
       "      <td>89.0</td>\n",
       "      <td>60.0</td>\n",
       "      <td>MED</td>\n",
       "      <td>MED</td>\n",
       "      <td>5.0</td>\n",
       "      <td>6.0</td>\n",
       "      <td>No</td>\n",
       "      <td>Yes</td>\n",
       "      <td>red</td>\n",
       "      <td>28.3</td>\n",
       "    </tr>\n",
       "    <tr>\n",
       "      <th>8668</th>\n",
       "      <td>2017-06-21</td>\n",
       "      <td>Tuas</td>\n",
       "      <td>0.2</td>\n",
       "      <td>1.8</td>\n",
       "      <td>7.5</td>\n",
       "      <td>NW</td>\n",
       "      <td>37.0</td>\n",
       "      <td>NNE</td>\n",
       "      <td>NNW</td>\n",
       "      <td>9.0</td>\n",
       "      <td>...</td>\n",
       "      <td>89.0</td>\n",
       "      <td>60.0</td>\n",
       "      <td>MED</td>\n",
       "      <td>MED</td>\n",
       "      <td>5.0</td>\n",
       "      <td>6.0</td>\n",
       "      <td>No</td>\n",
       "      <td>Yes</td>\n",
       "      <td>red</td>\n",
       "      <td>28.3</td>\n",
       "    </tr>\n",
       "    <tr>\n",
       "      <th>3355</th>\n",
       "      <td>2017-06-23</td>\n",
       "      <td>Changi</td>\n",
       "      <td>0.0</td>\n",
       "      <td>3.2</td>\n",
       "      <td>-9.4</td>\n",
       "      <td>W</td>\n",
       "      <td>24.0</td>\n",
       "      <td>SW</td>\n",
       "      <td>W</td>\n",
       "      <td>6.0</td>\n",
       "      <td>...</td>\n",
       "      <td>71.0</td>\n",
       "      <td>37.0</td>\n",
       "      <td>hIgH</td>\n",
       "      <td>Med</td>\n",
       "      <td>1.0</td>\n",
       "      <td>3.0</td>\n",
       "      <td>No</td>\n",
       "      <td>No</td>\n",
       "      <td>white</td>\n",
       "      <td>29.3</td>\n",
       "    </tr>\n",
       "    <tr>\n",
       "      <th>10273</th>\n",
       "      <td>2017-06-23</td>\n",
       "      <td>Changi</td>\n",
       "      <td>0.0</td>\n",
       "      <td>3.2</td>\n",
       "      <td>-9.4</td>\n",
       "      <td>W</td>\n",
       "      <td>24.0</td>\n",
       "      <td>SW</td>\n",
       "      <td>W</td>\n",
       "      <td>6.0</td>\n",
       "      <td>...</td>\n",
       "      <td>71.0</td>\n",
       "      <td>37.0</td>\n",
       "      <td>hIgH</td>\n",
       "      <td>Med</td>\n",
       "      <td>1.0</td>\n",
       "      <td>3.0</td>\n",
       "      <td>No</td>\n",
       "      <td>No</td>\n",
       "      <td>white</td>\n",
       "      <td>29.3</td>\n",
       "    </tr>\n",
       "  </tbody>\n",
       "</table>\n",
       "<p>2308 rows × 21 columns</p>\n",
       "</div>"
      ],
      "text/plain": [
       "             Date   Location  Rainfall  Evaporation  Sunshine WindGustDir  \\\n",
       "4591   2008-07-03       Tuas       0.4          2.2       7.3          NE   \n",
       "2409   2008-07-03       Tuas       0.4          2.2       7.3          NE   \n",
       "11818  2008-07-05  Woodlands       0.0          7.0      10.8         ESE   \n",
       "6176   2008-07-05       Tuas       1.8          1.4       4.9         WSW   \n",
       "5724   2008-07-05       Tuas       1.8          1.4       4.9         WSW   \n",
       "...           ...        ...       ...          ...       ...         ...   \n",
       "7030   2017-06-19       Tuas       0.0          3.0       9.1          SW   \n",
       "2729   2017-06-21       Tuas       0.2          1.8       7.5          NW   \n",
       "8668   2017-06-21       Tuas       0.2          1.8       7.5          NW   \n",
       "3355   2017-06-23     Changi       0.0          3.2      -9.4           W   \n",
       "10273  2017-06-23     Changi       0.0          3.2      -9.4           W   \n",
       "\n",
       "       WindGustSpeed WindDir9am WindDir3pm  WindSpeed9am  ...  Humidity9am  \\\n",
       "4591            31.0       None        WNW           0.0  ...         84.0   \n",
       "2409            31.0       None        WNW           0.0  ...         84.0   \n",
       "11818           46.0          E          E          20.0  ...         37.0   \n",
       "6176            44.0          W         SW          13.0  ...         69.0   \n",
       "5724            44.0          W         SW          13.0  ...         69.0   \n",
       "...              ...        ...        ...           ...  ...          ...   \n",
       "7030            19.0        ENE          W           4.0  ...         84.0   \n",
       "2729            37.0        NNE        NNW           9.0  ...         89.0   \n",
       "8668            37.0        NNE        NNW           9.0  ...         89.0   \n",
       "3355            24.0         SW          W           6.0  ...         71.0   \n",
       "10273           24.0         SW          W           6.0  ...         71.0   \n",
       "\n",
       "       Humidity3pm  Pressure9am Pressure3pm Cloud9am  Cloud3pm  RainToday  \\\n",
       "4591          71.0          MEd         mEd      1.0       3.0         No   \n",
       "2409          71.0          MEd         mEd      1.0       3.0         No   \n",
       "11818         16.0          MeD         MED      1.0       1.0         No   \n",
       "6176          57.0          med        HIGh      7.0       5.0        Yes   \n",
       "5724          57.0          med        HIGh      7.0       5.0        Yes   \n",
       "...            ...          ...         ...      ...       ...        ...   \n",
       "7030          55.0         hIgh        HIgh      1.0       2.0         No   \n",
       "2729          60.0          MED         MED      5.0       6.0         No   \n",
       "8668          60.0          MED         MED      5.0       6.0         No   \n",
       "3355          37.0         hIgH         Med      1.0       3.0         No   \n",
       "10273         37.0         hIgH         Med      1.0       3.0         No   \n",
       "\n",
       "      RainTomorrow ColourOfBoats AverageTemp  \n",
       "4591           Yes           red        27.4  \n",
       "2409           Yes           red        27.4  \n",
       "11818           No           red        32.3  \n",
       "6176           Yes          grey        27.2  \n",
       "5724           Yes          grey        27.2  \n",
       "...            ...           ...         ...  \n",
       "7030            No         white        27.9  \n",
       "2729           Yes           red        28.3  \n",
       "8668           Yes           red        28.3  \n",
       "3355            No         white        29.3  \n",
       "10273           No         white        29.3  \n",
       "\n",
       "[2308 rows x 21 columns]"
      ]
     },
     "execution_count": 7,
     "metadata": {},
     "output_type": "execute_result"
    }
   ],
   "source": [
    "# find duplicated values in 'Date' and 'Location'\n",
    "duplicates = df.duplicated(subset=['Date','Location'], keep=False)\n",
    "df[duplicates].sort_values(by='Date')"
   ]
  },
  {
   "cell_type": "code",
   "execution_count": 8,
   "id": "41c6a973",
   "metadata": {
    "scrolled": true
   },
   "outputs": [
    {
     "name": "stdout",
     "output_type": "stream",
     "text": [
      "Number of Rows Before Dropping Duplicates: 12997\n",
      "Number of Rows After Dropping Duplicates: 11815\n"
     ]
    },
    {
     "data": {
      "text/html": [
       "<div>\n",
       "<style scoped>\n",
       "    .dataframe tbody tr th:only-of-type {\n",
       "        vertical-align: middle;\n",
       "    }\n",
       "\n",
       "    .dataframe tbody tr th {\n",
       "        vertical-align: top;\n",
       "    }\n",
       "\n",
       "    .dataframe thead th {\n",
       "        text-align: right;\n",
       "    }\n",
       "</style>\n",
       "<table border=\"1\" class=\"dataframe\">\n",
       "  <thead>\n",
       "    <tr style=\"text-align: right;\">\n",
       "      <th></th>\n",
       "      <th>Date</th>\n",
       "      <th>Location</th>\n",
       "      <th>Rainfall</th>\n",
       "      <th>Evaporation</th>\n",
       "      <th>Sunshine</th>\n",
       "      <th>WindGustDir</th>\n",
       "      <th>WindGustSpeed</th>\n",
       "      <th>WindDir9am</th>\n",
       "      <th>WindDir3pm</th>\n",
       "      <th>WindSpeed9am</th>\n",
       "      <th>...</th>\n",
       "      <th>Humidity9am</th>\n",
       "      <th>Humidity3pm</th>\n",
       "      <th>Pressure9am</th>\n",
       "      <th>Pressure3pm</th>\n",
       "      <th>Cloud9am</th>\n",
       "      <th>Cloud3pm</th>\n",
       "      <th>RainToday</th>\n",
       "      <th>RainTomorrow</th>\n",
       "      <th>ColourOfBoats</th>\n",
       "      <th>AverageTemp</th>\n",
       "    </tr>\n",
       "  </thead>\n",
       "  <tbody>\n",
       "    <tr>\n",
       "      <th>0</th>\n",
       "      <td>2009-03-08</td>\n",
       "      <td>Changi</td>\n",
       "      <td>0.0</td>\n",
       "      <td>7.0</td>\n",
       "      <td>11.2</td>\n",
       "      <td>E</td>\n",
       "      <td>35.0</td>\n",
       "      <td>E</td>\n",
       "      <td>ESE</td>\n",
       "      <td>15.0</td>\n",
       "      <td>...</td>\n",
       "      <td>60.0</td>\n",
       "      <td>54.0</td>\n",
       "      <td>MED</td>\n",
       "      <td>Med</td>\n",
       "      <td>4.0</td>\n",
       "      <td>5.0</td>\n",
       "      <td>No</td>\n",
       "      <td>No</td>\n",
       "      <td>blue</td>\n",
       "      <td>33.4</td>\n",
       "    </tr>\n",
       "    <tr>\n",
       "      <th>1</th>\n",
       "      <td>2014-11-12</td>\n",
       "      <td>Woodlands</td>\n",
       "      <td>0.0</td>\n",
       "      <td>8.4</td>\n",
       "      <td>9.6</td>\n",
       "      <td>WNW</td>\n",
       "      <td>37.0</td>\n",
       "      <td>NNE</td>\n",
       "      <td>NW</td>\n",
       "      <td>13.0</td>\n",
       "      <td>...</td>\n",
       "      <td>60.0</td>\n",
       "      <td>56.0</td>\n",
       "      <td>MeD</td>\n",
       "      <td>LOw</td>\n",
       "      <td>1.0</td>\n",
       "      <td>2.0</td>\n",
       "      <td>None</td>\n",
       "      <td>Yes</td>\n",
       "      <td>blue</td>\n",
       "      <td>35.4</td>\n",
       "    </tr>\n",
       "    <tr>\n",
       "      <th>2</th>\n",
       "      <td>2008-08-08</td>\n",
       "      <td>Woodlands</td>\n",
       "      <td>0.0</td>\n",
       "      <td>7.6</td>\n",
       "      <td>11.1</td>\n",
       "      <td>ESE</td>\n",
       "      <td>52.0</td>\n",
       "      <td>SE</td>\n",
       "      <td>E</td>\n",
       "      <td>19.0</td>\n",
       "      <td>...</td>\n",
       "      <td>NaN</td>\n",
       "      <td>13.0</td>\n",
       "      <td>Med</td>\n",
       "      <td>MEd</td>\n",
       "      <td>0.0</td>\n",
       "      <td>0.0</td>\n",
       "      <td>None</td>\n",
       "      <td>No</td>\n",
       "      <td>blue</td>\n",
       "      <td>32.8</td>\n",
       "    </tr>\n",
       "    <tr>\n",
       "      <th>3</th>\n",
       "      <td>2015-10-12</td>\n",
       "      <td>Changi</td>\n",
       "      <td>0.0</td>\n",
       "      <td>7.2</td>\n",
       "      <td>11.4</td>\n",
       "      <td>NE</td>\n",
       "      <td>31.0</td>\n",
       "      <td>NNW</td>\n",
       "      <td>NE</td>\n",
       "      <td>9.0</td>\n",
       "      <td>...</td>\n",
       "      <td>51.0</td>\n",
       "      <td>53.0</td>\n",
       "      <td>hIgh</td>\n",
       "      <td>med</td>\n",
       "      <td>1.0</td>\n",
       "      <td>1.0</td>\n",
       "      <td>No</td>\n",
       "      <td>No</td>\n",
       "      <td>red</td>\n",
       "      <td>31.4</td>\n",
       "    </tr>\n",
       "    <tr>\n",
       "      <th>4</th>\n",
       "      <td>2013-10-27</td>\n",
       "      <td>Woodlands</td>\n",
       "      <td>5.6</td>\n",
       "      <td>7.0</td>\n",
       "      <td>8.5</td>\n",
       "      <td>NNW</td>\n",
       "      <td>33.0</td>\n",
       "      <td>N</td>\n",
       "      <td>N</td>\n",
       "      <td>13.0</td>\n",
       "      <td>...</td>\n",
       "      <td>68.0</td>\n",
       "      <td>64.0</td>\n",
       "      <td>meD</td>\n",
       "      <td>MeD</td>\n",
       "      <td>6.0</td>\n",
       "      <td>5.0</td>\n",
       "      <td>None</td>\n",
       "      <td>No</td>\n",
       "      <td>grey</td>\n",
       "      <td>35.4</td>\n",
       "    </tr>\n",
       "  </tbody>\n",
       "</table>\n",
       "<p>5 rows × 21 columns</p>\n",
       "</div>"
      ],
      "text/plain": [
       "         Date   Location  Rainfall  Evaporation  Sunshine WindGustDir  \\\n",
       "0  2009-03-08     Changi       0.0          7.0      11.2           E   \n",
       "1  2014-11-12  Woodlands       0.0          8.4       9.6         WNW   \n",
       "2  2008-08-08  Woodlands       0.0          7.6      11.1         ESE   \n",
       "3  2015-10-12     Changi       0.0          7.2      11.4          NE   \n",
       "4  2013-10-27  Woodlands       5.6          7.0       8.5         NNW   \n",
       "\n",
       "   WindGustSpeed WindDir9am WindDir3pm  WindSpeed9am  ...  Humidity9am  \\\n",
       "0           35.0          E        ESE          15.0  ...         60.0   \n",
       "1           37.0        NNE         NW          13.0  ...         60.0   \n",
       "2           52.0         SE          E          19.0  ...          NaN   \n",
       "3           31.0        NNW         NE           9.0  ...         51.0   \n",
       "4           33.0          N          N          13.0  ...         68.0   \n",
       "\n",
       "   Humidity3pm  Pressure9am Pressure3pm Cloud9am  Cloud3pm  RainToday  \\\n",
       "0         54.0          MED         Med      4.0       5.0         No   \n",
       "1         56.0          MeD         LOw      1.0       2.0       None   \n",
       "2         13.0          Med         MEd      0.0       0.0       None   \n",
       "3         53.0         hIgh         med      1.0       1.0         No   \n",
       "4         64.0          meD         MeD      6.0       5.0       None   \n",
       "\n",
       "  RainTomorrow ColourOfBoats AverageTemp  \n",
       "0           No          blue        33.4  \n",
       "1          Yes          blue        35.4  \n",
       "2           No          blue        32.8  \n",
       "3           No           red        31.4  \n",
       "4           No          grey        35.4  \n",
       "\n",
       "[5 rows x 21 columns]"
      ]
     },
     "execution_count": 8,
     "metadata": {},
     "output_type": "execute_result"
    }
   ],
   "source": [
    "# drop rows of duplicated values in 'Date' and 'Location'\n",
    "print(f'Number of Rows Before Dropping Duplicates: {len(df)}')\n",
    "\n",
    "df = df.drop_duplicates(subset=['Date','Location'], keep='first')\n",
    "\n",
    "df.reset_index(drop=True, inplace=True)  # reset index\n",
    "\n",
    "print(f'Number of Rows After Dropping Duplicates: {len(df)}')\n",
    "\n",
    "df.head()"
   ]
  },
  {
   "cell_type": "markdown",
   "id": "4a4a244d",
   "metadata": {},
   "source": [
    "###### 2.2 Negative values in 'Sunshine'"
   ]
  },
  {
   "cell_type": "code",
   "execution_count": 9,
   "id": "d65baae6",
   "metadata": {},
   "outputs": [
    {
     "data": {
      "text/plain": [
       "1119"
      ]
     },
     "execution_count": 9,
     "metadata": {},
     "output_type": "execute_result"
    }
   ],
   "source": [
    "# check number of negative values in 'Sunshine'\n",
    "(df['Sunshine'] < 0).sum()"
   ]
  },
  {
   "cell_type": "code",
   "execution_count": 10,
   "id": "089644e2",
   "metadata": {},
   "outputs": [
    {
     "data": {
      "text/plain": [
       "0"
      ]
     },
     "execution_count": 10,
     "metadata": {},
     "output_type": "execute_result"
    }
   ],
   "source": [
    "# convert negative values in 'Sunshine' to positive\n",
    "df.loc[:,'Sunshine'] = abs(df['Sunshine'])\n",
    "\n",
    "# check number of negative values in 'Sunshine' after conversion\n",
    "(df['Sunshine'] < 0).sum()"
   ]
  },
  {
   "cell_type": "markdown",
   "id": "f7a3a217",
   "metadata": {},
   "source": [
    "###### 2.3 Missing (null) values in 'WindDir9am' and 'WindDir3pm'"
   ]
  },
  {
   "cell_type": "code",
   "execution_count": 11,
   "id": "799c25f9",
   "metadata": {},
   "outputs": [
    {
     "data": {
      "text/plain": [
       "265"
      ]
     },
     "execution_count": 11,
     "metadata": {},
     "output_type": "execute_result"
    }
   ],
   "source": [
    "# check number of missing values (null) in 'WindDir9am'\n",
    "df['WindDir9am'].isna().sum()"
   ]
  },
  {
   "cell_type": "code",
   "execution_count": 12,
   "id": "1b2f9699",
   "metadata": {},
   "outputs": [
    {
     "data": {
      "text/plain": [
       "0.0    261\n",
       "NaN      4\n",
       "Name: WindSpeed9am, dtype: int64"
      ]
     },
     "execution_count": 12,
     "metadata": {},
     "output_type": "execute_result"
    }
   ],
   "source": [
    "# check corresponding 'WindSpeed9am' of null 'WindDir9am'\n",
    "df_WindDir9am_na = df[df['WindDir9am'].isna()]\n",
    "df_WindDir9am_na['WindSpeed9am'].value_counts(dropna=False)"
   ]
  },
  {
   "cell_type": "code",
   "execution_count": 13,
   "id": "29f06783",
   "metadata": {},
   "outputs": [
    {
     "data": {
      "text/plain": [
       "4"
      ]
     },
     "execution_count": 13,
     "metadata": {},
     "output_type": "execute_result"
    }
   ],
   "source": [
    "# replace missing values of 'WindDir9am' that has 'WindSpeed9am' of 0 with 'NoWind'\n",
    "df.loc[:,'WindDir9am'] = np.where((df['WindDir9am'].isna()) & (df['WindSpeed9am']==0), \n",
    "                            'NoWind', df['WindDir9am'])\n",
    "\n",
    "# check number of missing values in 'WindDir9am' after replacement\n",
    "df['WindDir9am'].isna().sum()"
   ]
  },
  {
   "cell_type": "code",
   "execution_count": 14,
   "id": "4f440066",
   "metadata": {},
   "outputs": [
    {
     "data": {
      "text/plain": [
       "47"
      ]
     },
     "execution_count": 14,
     "metadata": {},
     "output_type": "execute_result"
    }
   ],
   "source": [
    "# check number of missing values (null) in 'WindDir3pm'\n",
    "df['WindDir3pm'].isna().sum()"
   ]
  },
  {
   "cell_type": "code",
   "execution_count": 15,
   "id": "caf8acc2",
   "metadata": {},
   "outputs": [
    {
     "data": {
      "text/plain": [
       "0.0    42\n",
       "NaN     5\n",
       "Name: WindSpeed3pm, dtype: int64"
      ]
     },
     "execution_count": 15,
     "metadata": {},
     "output_type": "execute_result"
    }
   ],
   "source": [
    "# check corresponding 'WindSpeed3pm' of null 'WindDir3pm'\n",
    "df_WindDir3pm_na = df[df['WindDir3pm'].isna()]\n",
    "df_WindDir3pm_na['WindSpeed3pm'].value_counts(dropna=False)"
   ]
  },
  {
   "cell_type": "code",
   "execution_count": 16,
   "id": "9e05495b",
   "metadata": {},
   "outputs": [
    {
     "data": {
      "text/plain": [
       "5"
      ]
     },
     "execution_count": 16,
     "metadata": {},
     "output_type": "execute_result"
    }
   ],
   "source": [
    "# replace missing values of 'WindDir3pm' that has 'WindSpeed3pm' of 0 with 'NoWind'\n",
    "df.loc[:,'WindDir3pm'] = np.where((df['WindDir3pm'].isna()) & (df['WindSpeed3pm']==0), \n",
    "                            'NoWind', df['WindDir3pm'])\n",
    "\n",
    "# check number of missing values in 'WindDir9am' after replacement\n",
    "df['WindDir3pm'].isna().sum()"
   ]
  },
  {
   "cell_type": "markdown",
   "id": "51738a7e",
   "metadata": {},
   "source": [
    "###### 2.4 Erroneous entries in 'Pressure9am' and 'Pressure3pm'"
   ]
  },
  {
   "cell_type": "code",
   "execution_count": 17,
   "id": "eb0ed2bc",
   "metadata": {
    "scrolled": true
   },
   "outputs": [
    {
     "data": {
      "text/plain": [
       "meD     939\n",
       "Med     902\n",
       "mEd     895\n",
       "MeD     893\n",
       "MEd     887\n",
       "med     868\n",
       "mED     861\n",
       "MED     846\n",
       "lOw     326\n",
       "lOW     296\n",
       "Low     294\n",
       "LOW     282\n",
       "LOw     279\n",
       "loW     277\n",
       "low     272\n",
       "LoW     269\n",
       "hIGh    172\n",
       "HiGH    164\n",
       "HIgH    162\n",
       "High    159\n",
       "high    156\n",
       "hIgh    156\n",
       "hiGh    155\n",
       "HIgh    153\n",
       "hIgH    151\n",
       "hiGH    151\n",
       "HigH    149\n",
       "HIGH    148\n",
       "higH    146\n",
       "HiGh    141\n",
       "HIGh    134\n",
       "hIGH    130\n",
       "Name: Pressure9am, dtype: int64"
      ]
     },
     "execution_count": 17,
     "metadata": {},
     "output_type": "execute_result"
    }
   ],
   "source": [
    "# check number of unique values in 'Pressure9am'\n",
    "df['Pressure9am'].value_counts()"
   ]
  },
  {
   "cell_type": "code",
   "execution_count": 18,
   "id": "90f5e471",
   "metadata": {},
   "outputs": [
    {
     "data": {
      "text/plain": [
       "MED     7091\n",
       "HIGH    2427\n",
       "LOW     2295\n",
       "Name: Pressure9am, dtype: int64"
      ]
     },
     "execution_count": 18,
     "metadata": {},
     "output_type": "execute_result"
    }
   ],
   "source": [
    "# Convert strings to uppercase in 'Pressure9am'\n",
    "df.loc[:,'Pressure9am'] = df['Pressure9am'].str.upper()\n",
    "\n",
    "# check number of unique values in 'Pressure9am'\n",
    "df['Pressure9am'].value_counts()"
   ]
  },
  {
   "cell_type": "code",
   "execution_count": 19,
   "id": "135fea5e",
   "metadata": {
    "scrolled": true
   },
   "outputs": [
    {
     "data": {
      "text/plain": [
       "meD     890\n",
       "mEd     887\n",
       "mED     883\n",
       "med     880\n",
       "MEd     868\n",
       "MeD     862\n",
       "Med     849\n",
       "MED     821\n",
       "Low     320\n",
       "LoW     312\n",
       "low     306\n",
       "LOW     305\n",
       "lOw     304\n",
       "lOW     294\n",
       "LOw     281\n",
       "loW     274\n",
       "high    177\n",
       "hiGH    170\n",
       "High    170\n",
       "HIGH    168\n",
       "HiGh    167\n",
       "hiGh    161\n",
       "hIgH    158\n",
       "hIgh    157\n",
       "HigH    156\n",
       "higH    150\n",
       "hIGh    150\n",
       "HIgH    147\n",
       "hIGH    139\n",
       "HIGh    138\n",
       "HIgh    136\n",
       "HiGH    128\n",
       "Name: Pressure3pm, dtype: int64"
      ]
     },
     "execution_count": 19,
     "metadata": {},
     "output_type": "execute_result"
    }
   ],
   "source": [
    "# check number of unique values in 'Pressure3pm'\n",
    "df['Pressure3pm'].value_counts()"
   ]
  },
  {
   "cell_type": "code",
   "execution_count": 20,
   "id": "eecfb0e5",
   "metadata": {},
   "outputs": [
    {
     "data": {
      "text/plain": [
       "MED     6940\n",
       "HIGH    2472\n",
       "LOW     2396\n",
       "Name: Pressure3pm, dtype: int64"
      ]
     },
     "execution_count": 20,
     "metadata": {},
     "output_type": "execute_result"
    }
   ],
   "source": [
    "# Convert strings to uppercase in 'Pressure3pm'\n",
    "df.loc[:,'Pressure3pm'] = df['Pressure3pm'].str.upper()\n",
    "\n",
    "# check number of unique values in 'Pressure3pm'\n",
    "df['Pressure3pm'].value_counts()"
   ]
  },
  {
   "cell_type": "markdown",
   "id": "32adb362",
   "metadata": {},
   "source": [
    "###### 2.5 Missing values in 'RainToday'"
   ]
  },
  {
   "cell_type": "code",
   "execution_count": 21,
   "id": "59a5887e",
   "metadata": {},
   "outputs": [
    {
     "data": {
      "text/plain": [
       "2903"
      ]
     },
     "execution_count": 21,
     "metadata": {},
     "output_type": "execute_result"
    }
   ],
   "source": [
    "# check number of missing values in 'RainToday'\n",
    "df['RainToday'].isna().sum()"
   ]
  },
  {
   "cell_type": "code",
   "execution_count": 22,
   "id": "85988528",
   "metadata": {
    "scrolled": true
   },
   "outputs": [
    {
     "data": {
      "text/html": [
       "<div>\n",
       "<style scoped>\n",
       "    .dataframe tbody tr th:only-of-type {\n",
       "        vertical-align: middle;\n",
       "    }\n",
       "\n",
       "    .dataframe tbody tr th {\n",
       "        vertical-align: top;\n",
       "    }\n",
       "\n",
       "    .dataframe thead th {\n",
       "        text-align: right;\n",
       "    }\n",
       "</style>\n",
       "<table border=\"1\" class=\"dataframe\">\n",
       "  <thead>\n",
       "    <tr style=\"text-align: right;\">\n",
       "      <th></th>\n",
       "      <th>Date</th>\n",
       "      <th>Location</th>\n",
       "      <th>Rainfall</th>\n",
       "      <th>Evaporation</th>\n",
       "      <th>Sunshine</th>\n",
       "      <th>WindGustDir</th>\n",
       "      <th>WindGustSpeed</th>\n",
       "      <th>WindDir9am</th>\n",
       "      <th>WindDir3pm</th>\n",
       "      <th>WindSpeed9am</th>\n",
       "      <th>...</th>\n",
       "      <th>Humidity9am</th>\n",
       "      <th>Humidity3pm</th>\n",
       "      <th>Pressure9am</th>\n",
       "      <th>Pressure3pm</th>\n",
       "      <th>Cloud9am</th>\n",
       "      <th>Cloud3pm</th>\n",
       "      <th>RainToday</th>\n",
       "      <th>RainTomorrow</th>\n",
       "      <th>ColourOfBoats</th>\n",
       "      <th>AverageTemp</th>\n",
       "    </tr>\n",
       "  </thead>\n",
       "  <tbody>\n",
       "    <tr>\n",
       "      <th>0</th>\n",
       "      <td>2009-03-08</td>\n",
       "      <td>Changi</td>\n",
       "      <td>0.0</td>\n",
       "      <td>7.0</td>\n",
       "      <td>11.2</td>\n",
       "      <td>E</td>\n",
       "      <td>35.0</td>\n",
       "      <td>E</td>\n",
       "      <td>ESE</td>\n",
       "      <td>15.0</td>\n",
       "      <td>...</td>\n",
       "      <td>60.0</td>\n",
       "      <td>54.0</td>\n",
       "      <td>MED</td>\n",
       "      <td>MED</td>\n",
       "      <td>4.0</td>\n",
       "      <td>5.0</td>\n",
       "      <td>No</td>\n",
       "      <td>No</td>\n",
       "      <td>blue</td>\n",
       "      <td>33.4</td>\n",
       "    </tr>\n",
       "    <tr>\n",
       "      <th>1</th>\n",
       "      <td>2014-11-12</td>\n",
       "      <td>Woodlands</td>\n",
       "      <td>0.0</td>\n",
       "      <td>8.4</td>\n",
       "      <td>9.6</td>\n",
       "      <td>WNW</td>\n",
       "      <td>37.0</td>\n",
       "      <td>NNE</td>\n",
       "      <td>NW</td>\n",
       "      <td>13.0</td>\n",
       "      <td>...</td>\n",
       "      <td>60.0</td>\n",
       "      <td>56.0</td>\n",
       "      <td>MED</td>\n",
       "      <td>LOW</td>\n",
       "      <td>1.0</td>\n",
       "      <td>2.0</td>\n",
       "      <td>No</td>\n",
       "      <td>Yes</td>\n",
       "      <td>blue</td>\n",
       "      <td>35.4</td>\n",
       "    </tr>\n",
       "    <tr>\n",
       "      <th>2</th>\n",
       "      <td>2008-08-08</td>\n",
       "      <td>Woodlands</td>\n",
       "      <td>0.0</td>\n",
       "      <td>7.6</td>\n",
       "      <td>11.1</td>\n",
       "      <td>ESE</td>\n",
       "      <td>52.0</td>\n",
       "      <td>SE</td>\n",
       "      <td>E</td>\n",
       "      <td>19.0</td>\n",
       "      <td>...</td>\n",
       "      <td>NaN</td>\n",
       "      <td>13.0</td>\n",
       "      <td>MED</td>\n",
       "      <td>MED</td>\n",
       "      <td>0.0</td>\n",
       "      <td>0.0</td>\n",
       "      <td>No</td>\n",
       "      <td>No</td>\n",
       "      <td>blue</td>\n",
       "      <td>32.8</td>\n",
       "    </tr>\n",
       "    <tr>\n",
       "      <th>3</th>\n",
       "      <td>2015-10-12</td>\n",
       "      <td>Changi</td>\n",
       "      <td>0.0</td>\n",
       "      <td>7.2</td>\n",
       "      <td>11.4</td>\n",
       "      <td>NE</td>\n",
       "      <td>31.0</td>\n",
       "      <td>NNW</td>\n",
       "      <td>NE</td>\n",
       "      <td>9.0</td>\n",
       "      <td>...</td>\n",
       "      <td>51.0</td>\n",
       "      <td>53.0</td>\n",
       "      <td>HIGH</td>\n",
       "      <td>MED</td>\n",
       "      <td>1.0</td>\n",
       "      <td>1.0</td>\n",
       "      <td>No</td>\n",
       "      <td>No</td>\n",
       "      <td>red</td>\n",
       "      <td>31.4</td>\n",
       "    </tr>\n",
       "    <tr>\n",
       "      <th>4</th>\n",
       "      <td>2013-10-27</td>\n",
       "      <td>Woodlands</td>\n",
       "      <td>5.6</td>\n",
       "      <td>7.0</td>\n",
       "      <td>8.5</td>\n",
       "      <td>NNW</td>\n",
       "      <td>33.0</td>\n",
       "      <td>N</td>\n",
       "      <td>N</td>\n",
       "      <td>13.0</td>\n",
       "      <td>...</td>\n",
       "      <td>68.0</td>\n",
       "      <td>64.0</td>\n",
       "      <td>MED</td>\n",
       "      <td>MED</td>\n",
       "      <td>6.0</td>\n",
       "      <td>5.0</td>\n",
       "      <td>Yes</td>\n",
       "      <td>No</td>\n",
       "      <td>grey</td>\n",
       "      <td>35.4</td>\n",
       "    </tr>\n",
       "  </tbody>\n",
       "</table>\n",
       "<p>5 rows × 21 columns</p>\n",
       "</div>"
      ],
      "text/plain": [
       "         Date   Location  Rainfall  Evaporation  Sunshine WindGustDir  \\\n",
       "0  2009-03-08     Changi       0.0          7.0      11.2           E   \n",
       "1  2014-11-12  Woodlands       0.0          8.4       9.6         WNW   \n",
       "2  2008-08-08  Woodlands       0.0          7.6      11.1         ESE   \n",
       "3  2015-10-12     Changi       0.0          7.2      11.4          NE   \n",
       "4  2013-10-27  Woodlands       5.6          7.0       8.5         NNW   \n",
       "\n",
       "   WindGustSpeed WindDir9am WindDir3pm  WindSpeed9am  ...  Humidity9am  \\\n",
       "0           35.0          E        ESE          15.0  ...         60.0   \n",
       "1           37.0        NNE         NW          13.0  ...         60.0   \n",
       "2           52.0         SE          E          19.0  ...          NaN   \n",
       "3           31.0        NNW         NE           9.0  ...         51.0   \n",
       "4           33.0          N          N          13.0  ...         68.0   \n",
       "\n",
       "   Humidity3pm  Pressure9am Pressure3pm Cloud9am  Cloud3pm  RainToday  \\\n",
       "0         54.0          MED         MED      4.0       5.0         No   \n",
       "1         56.0          MED         LOW      1.0       2.0         No   \n",
       "2         13.0          MED         MED      0.0       0.0         No   \n",
       "3         53.0         HIGH         MED      1.0       1.0         No   \n",
       "4         64.0          MED         MED      6.0       5.0        Yes   \n",
       "\n",
       "  RainTomorrow ColourOfBoats AverageTemp  \n",
       "0           No          blue        33.4  \n",
       "1          Yes          blue        35.4  \n",
       "2           No          blue        32.8  \n",
       "3           No           red        31.4  \n",
       "4           No          grey        35.4  \n",
       "\n",
       "[5 rows x 21 columns]"
      ]
     },
     "execution_count": 22,
     "metadata": {},
     "output_type": "execute_result"
    }
   ],
   "source": [
    "# create a list of conditions\n",
    "conditions = [(df['Rainfall'] > 1.0), (df['Rainfall'] <= 1.0)]\n",
    "\n",
    "# create a list of the cases to be assigned for each condition\n",
    "cases = ['Yes', 'No']\n",
    "\n",
    "# assign the cases based on the conditions\n",
    "df.loc[:,'RainToday'] = np.select(conditions, cases)\n",
    "\n",
    "df.head()"
   ]
  },
  {
   "cell_type": "code",
   "execution_count": 23,
   "id": "61bb82af",
   "metadata": {},
   "outputs": [
    {
     "data": {
      "text/plain": [
       "0"
      ]
     },
     "execution_count": 23,
     "metadata": {},
     "output_type": "execute_result"
    }
   ],
   "source": [
    "# check number of missing values in 'RainToday' after assigning of the cases\n",
    "df['RainToday'].isna().sum()"
   ]
  },
  {
   "cell_type": "markdown",
   "id": "2fdc4d89",
   "metadata": {},
   "source": [
    "###### 2.6 Missing values for the dataset"
   ]
  },
  {
   "cell_type": "code",
   "execution_count": 24,
   "id": "5ec4e792",
   "metadata": {},
   "outputs": [
    {
     "data": {
      "text/plain": [
       "Date               0\n",
       "Location           0\n",
       "Rainfall           0\n",
       "Evaporation       74\n",
       "Sunshine          57\n",
       "WindGustDir       75\n",
       "WindGustSpeed     72\n",
       "WindDir9am         4\n",
       "WindDir3pm         5\n",
       "WindSpeed9am       4\n",
       "WindSpeed3pm       5\n",
       "Humidity9am       14\n",
       "Humidity3pm       25\n",
       "Pressure9am        2\n",
       "Pressure3pm        7\n",
       "Cloud9am         277\n",
       "Cloud3pm         342\n",
       "RainToday          0\n",
       "RainTomorrow       0\n",
       "ColourOfBoats      0\n",
       "AverageTemp        8\n",
       "dtype: int64"
      ]
     },
     "execution_count": 24,
     "metadata": {},
     "output_type": "execute_result"
    }
   ],
   "source": [
    "# check for missing values in each variable\n",
    "df.isna().sum()"
   ]
  },
  {
   "cell_type": "code",
   "execution_count": 25,
   "id": "e5af8593",
   "metadata": {},
   "outputs": [
    {
     "data": {
      "text/plain": [
       "971"
      ]
     },
     "execution_count": 25,
     "metadata": {},
     "output_type": "execute_result"
    }
   ],
   "source": [
    "# check for total rows with missing values\n",
    "df.isna().sum(axis=1).sum()"
   ]
  },
  {
   "cell_type": "code",
   "execution_count": 26,
   "id": "992f4d04",
   "metadata": {},
   "outputs": [
    {
     "data": {
      "text/plain": [
       "Date             0.000000\n",
       "Location         0.000000\n",
       "Rainfall         0.000000\n",
       "Evaporation      0.006263\n",
       "Sunshine         0.004824\n",
       "WindGustDir      0.006348\n",
       "WindGustSpeed    0.006094\n",
       "WindDir9am       0.000339\n",
       "WindDir3pm       0.000423\n",
       "WindSpeed9am     0.000339\n",
       "WindSpeed3pm     0.000423\n",
       "Humidity9am      0.001185\n",
       "Humidity3pm      0.002116\n",
       "Pressure9am      0.000169\n",
       "Pressure3pm      0.000592\n",
       "Cloud9am         0.023445\n",
       "Cloud3pm         0.028946\n",
       "RainToday        0.000000\n",
       "RainTomorrow     0.000000\n",
       "ColourOfBoats    0.000000\n",
       "AverageTemp      0.000677\n",
       "dtype: float64"
      ]
     },
     "execution_count": 26,
     "metadata": {},
     "output_type": "execute_result"
    }
   ],
   "source": [
    "# find the percentage of missing values in each variable\n",
    "df.isna().mean()"
   ]
  },
  {
   "cell_type": "code",
   "execution_count": 27,
   "id": "6f4676eb",
   "metadata": {},
   "outputs": [
    {
     "data": {
      "text/plain": [
       "0.0821836648328396"
      ]
     },
     "execution_count": 27,
     "metadata": {},
     "output_type": "execute_result"
    }
   ],
   "source": [
    "# find the percentage of rows with missing values\n",
    "df.isna().sum(axis=1).mean()"
   ]
  },
  {
   "cell_type": "markdown",
   "id": "ed4ffe15",
   "metadata": {},
   "source": [
    "About 8.2% of the total rows are with missing values, it is considered low and will not have significant effect on our ML model's performance. Hence, we proceed to remove them. "
   ]
  },
  {
   "cell_type": "code",
   "execution_count": 28,
   "id": "485fc188",
   "metadata": {},
   "outputs": [
    {
     "data": {
      "text/plain": [
       "Date             0\n",
       "Location         0\n",
       "Rainfall         0\n",
       "Evaporation      0\n",
       "Sunshine         0\n",
       "WindGustDir      0\n",
       "WindGustSpeed    0\n",
       "WindDir9am       0\n",
       "WindDir3pm       0\n",
       "WindSpeed9am     0\n",
       "WindSpeed3pm     0\n",
       "Humidity9am      0\n",
       "Humidity3pm      0\n",
       "Pressure9am      0\n",
       "Pressure3pm      0\n",
       "Cloud9am         0\n",
       "Cloud3pm         0\n",
       "RainToday        0\n",
       "RainTomorrow     0\n",
       "ColourOfBoats    0\n",
       "AverageTemp      0\n",
       "dtype: int64"
      ]
     },
     "execution_count": 28,
     "metadata": {},
     "output_type": "execute_result"
    }
   ],
   "source": [
    "# drop all rows with NaN (missing) values and reset index\n",
    "df = df.dropna().reset_index(drop=True)\n",
    "\n",
    "# check for missing values in each variable after dropping of NaN values\n",
    "df.isna().sum()"
   ]
  },
  {
   "cell_type": "markdown",
   "id": "998e2235",
   "metadata": {},
   "source": [
    "###### 2.7 Convert categorical variable to numerical variable for 'RainToday' and 'RainTomorrow'"
   ]
  },
  {
   "cell_type": "code",
   "execution_count": 29,
   "id": "1a1f9ec2",
   "metadata": {},
   "outputs": [
    {
     "data": {
      "text/plain": [
       "No     8585\n",
       "Yes    2641\n",
       "Name: RainToday, dtype: int64"
      ]
     },
     "execution_count": 29,
     "metadata": {},
     "output_type": "execute_result"
    }
   ],
   "source": [
    "# check number of unique values in 'RainToday'\n",
    "df['RainToday'].value_counts()"
   ]
  },
  {
   "cell_type": "code",
   "execution_count": 30,
   "id": "5767cfe2",
   "metadata": {},
   "outputs": [
    {
     "data": {
      "text/plain": [
       "No     8626\n",
       "Yes    2600\n",
       "Name: RainTomorrow, dtype: int64"
      ]
     },
     "execution_count": 30,
     "metadata": {},
     "output_type": "execute_result"
    }
   ],
   "source": [
    "# check number of unique values in 'RainTomorrow'\n",
    "df['RainTomorrow'].value_counts()"
   ]
  },
  {
   "cell_type": "code",
   "execution_count": 31,
   "id": "9ba73fe7",
   "metadata": {},
   "outputs": [
    {
     "data": {
      "text/plain": [
       "0    8585\n",
       "1    2641\n",
       "Name: RainToday, dtype: int64"
      ]
     },
     "execution_count": 31,
     "metadata": {},
     "output_type": "execute_result"
    }
   ],
   "source": [
    "# replace strings with integers\n",
    "to_replace = {'Yes': 1,\n",
    "              'No': 0}\n",
    "\n",
    "df = df.replace({'RainToday': to_replace,\n",
    "                 'RainTomorrow': to_replace\n",
    "                }\n",
    "               )\n",
    "\n",
    "# check number of unique values in 'RainToday' after replacement of strings with integers\n",
    "df['RainToday'].value_counts()"
   ]
  },
  {
   "cell_type": "code",
   "execution_count": 32,
   "id": "3e6aa764",
   "metadata": {},
   "outputs": [
    {
     "data": {
      "text/plain": [
       "0    8626\n",
       "1    2600\n",
       "Name: RainTomorrow, dtype: int64"
      ]
     },
     "execution_count": 32,
     "metadata": {},
     "output_type": "execute_result"
    }
   ],
   "source": [
    "# check number of unique values in 'RainTomorrow' after replacement of strings with integers\n",
    "df['RainTomorrow'].value_counts()"
   ]
  },
  {
   "cell_type": "markdown",
   "id": "cfbf0075",
   "metadata": {},
   "source": [
    "###### 2.8 Exploring of data after initial data preprocessing"
   ]
  },
  {
   "cell_type": "code",
   "execution_count": 33,
   "id": "a7263c70",
   "metadata": {},
   "outputs": [
    {
     "name": "stdout",
     "output_type": "stream",
     "text": [
      "<class 'pandas.core.frame.DataFrame'>\n",
      "RangeIndex: 11226 entries, 0 to 11225\n",
      "Data columns (total 21 columns):\n",
      " #   Column         Non-Null Count  Dtype  \n",
      "---  ------         --------------  -----  \n",
      " 0   Date           11226 non-null  object \n",
      " 1   Location       11226 non-null  object \n",
      " 2   Rainfall       11226 non-null  float64\n",
      " 3   Evaporation    11226 non-null  float64\n",
      " 4   Sunshine       11226 non-null  float64\n",
      " 5   WindGustDir    11226 non-null  object \n",
      " 6   WindGustSpeed  11226 non-null  float64\n",
      " 7   WindDir9am     11226 non-null  object \n",
      " 8   WindDir3pm     11226 non-null  object \n",
      " 9   WindSpeed9am   11226 non-null  float64\n",
      " 10  WindSpeed3pm   11226 non-null  float64\n",
      " 11  Humidity9am    11226 non-null  float64\n",
      " 12  Humidity3pm    11226 non-null  float64\n",
      " 13  Pressure9am    11226 non-null  object \n",
      " 14  Pressure3pm    11226 non-null  object \n",
      " 15  Cloud9am       11226 non-null  float64\n",
      " 16  Cloud3pm       11226 non-null  float64\n",
      " 17  RainToday      11226 non-null  int64  \n",
      " 18  RainTomorrow   11226 non-null  int64  \n",
      " 19  ColourOfBoats  11226 non-null  object \n",
      " 20  AverageTemp    11226 non-null  float64\n",
      "dtypes: float64(11), int64(2), object(8)\n",
      "memory usage: 1.8+ MB\n"
     ]
    }
   ],
   "source": [
    "# inspect the dataset after data preprocessing\n",
    "df.info()"
   ]
  },
  {
   "cell_type": "code",
   "execution_count": 34,
   "id": "e4253f83",
   "metadata": {},
   "outputs": [
    {
     "data": {
      "text/plain": [
       "['Rainfall',\n",
       " 'Evaporation',\n",
       " 'Sunshine',\n",
       " 'WindGustSpeed',\n",
       " 'WindSpeed9am',\n",
       " 'WindSpeed3pm',\n",
       " 'Humidity9am',\n",
       " 'Humidity3pm',\n",
       " 'Cloud9am',\n",
       " 'Cloud3pm',\n",
       " 'RainToday',\n",
       " 'RainTomorrow',\n",
       " 'AverageTemp']"
      ]
     },
     "execution_count": 34,
     "metadata": {},
     "output_type": "execute_result"
    }
   ],
   "source": [
    "# assign numerical data\n",
    "num_cols = [c for c in df.columns if df[c].dtypes !='O']\n",
    "num_cols"
   ]
  },
  {
   "cell_type": "code",
   "execution_count": 35,
   "id": "1c7380f9",
   "metadata": {},
   "outputs": [
    {
     "data": {
      "text/html": [
       "<div>\n",
       "<style scoped>\n",
       "    .dataframe tbody tr th:only-of-type {\n",
       "        vertical-align: middle;\n",
       "    }\n",
       "\n",
       "    .dataframe tbody tr th {\n",
       "        vertical-align: top;\n",
       "    }\n",
       "\n",
       "    .dataframe thead th {\n",
       "        text-align: right;\n",
       "    }\n",
       "</style>\n",
       "<table border=\"1\" class=\"dataframe\">\n",
       "  <thead>\n",
       "    <tr style=\"text-align: right;\">\n",
       "      <th></th>\n",
       "      <th>Rainfall</th>\n",
       "      <th>Evaporation</th>\n",
       "      <th>Sunshine</th>\n",
       "      <th>WindGustSpeed</th>\n",
       "      <th>WindSpeed9am</th>\n",
       "      <th>WindSpeed3pm</th>\n",
       "      <th>Humidity9am</th>\n",
       "      <th>Humidity3pm</th>\n",
       "      <th>Cloud9am</th>\n",
       "      <th>Cloud3pm</th>\n",
       "      <th>RainToday</th>\n",
       "      <th>RainTomorrow</th>\n",
       "      <th>AverageTemp</th>\n",
       "    </tr>\n",
       "  </thead>\n",
       "  <tbody>\n",
       "    <tr>\n",
       "      <th>count</th>\n",
       "      <td>11226.000000</td>\n",
       "      <td>11226.000000</td>\n",
       "      <td>11226.000000</td>\n",
       "      <td>11226.000000</td>\n",
       "      <td>11226.000000</td>\n",
       "      <td>11226.000000</td>\n",
       "      <td>11226.000000</td>\n",
       "      <td>11226.000000</td>\n",
       "      <td>11226.000000</td>\n",
       "      <td>11226.000000</td>\n",
       "      <td>11226.000000</td>\n",
       "      <td>11226.000000</td>\n",
       "      <td>11226.00000</td>\n",
       "    </tr>\n",
       "    <tr>\n",
       "      <th>mean</th>\n",
       "      <td>2.772225</td>\n",
       "      <td>5.550169</td>\n",
       "      <td>8.111598</td>\n",
       "      <td>36.317299</td>\n",
       "      <td>12.224657</td>\n",
       "      <td>16.495991</td>\n",
       "      <td>65.425174</td>\n",
       "      <td>50.831374</td>\n",
       "      <td>4.100303</td>\n",
       "      <td>4.112507</td>\n",
       "      <td>0.235257</td>\n",
       "      <td>0.231605</td>\n",
       "      <td>31.54796</td>\n",
       "    </tr>\n",
       "    <tr>\n",
       "      <th>std</th>\n",
       "      <td>8.988295</td>\n",
       "      <td>2.873037</td>\n",
       "      <td>3.601981</td>\n",
       "      <td>12.326782</td>\n",
       "      <td>8.017472</td>\n",
       "      <td>7.709170</td>\n",
       "      <td>15.395848</td>\n",
       "      <td>16.831389</td>\n",
       "      <td>2.728111</td>\n",
       "      <td>2.647567</td>\n",
       "      <td>0.424179</td>\n",
       "      <td>0.421877</td>\n",
       "      <td>2.95343</td>\n",
       "    </tr>\n",
       "    <tr>\n",
       "      <th>min</th>\n",
       "      <td>0.000000</td>\n",
       "      <td>0.000000</td>\n",
       "      <td>0.000000</td>\n",
       "      <td>9.000000</td>\n",
       "      <td>0.000000</td>\n",
       "      <td>0.000000</td>\n",
       "      <td>11.000000</td>\n",
       "      <td>5.000000</td>\n",
       "      <td>0.000000</td>\n",
       "      <td>0.000000</td>\n",
       "      <td>0.000000</td>\n",
       "      <td>0.000000</td>\n",
       "      <td>24.30000</td>\n",
       "    </tr>\n",
       "    <tr>\n",
       "      <th>25%</th>\n",
       "      <td>0.000000</td>\n",
       "      <td>3.400000</td>\n",
       "      <td>5.800000</td>\n",
       "      <td>28.000000</td>\n",
       "      <td>7.000000</td>\n",
       "      <td>11.000000</td>\n",
       "      <td>56.000000</td>\n",
       "      <td>40.000000</td>\n",
       "      <td>1.000000</td>\n",
       "      <td>1.000000</td>\n",
       "      <td>0.000000</td>\n",
       "      <td>0.000000</td>\n",
       "      <td>29.10000</td>\n",
       "    </tr>\n",
       "    <tr>\n",
       "      <th>50%</th>\n",
       "      <td>0.000000</td>\n",
       "      <td>5.400000</td>\n",
       "      <td>9.200000</td>\n",
       "      <td>35.000000</td>\n",
       "      <td>11.000000</td>\n",
       "      <td>15.000000</td>\n",
       "      <td>66.000000</td>\n",
       "      <td>51.000000</td>\n",
       "      <td>4.000000</td>\n",
       "      <td>4.000000</td>\n",
       "      <td>0.000000</td>\n",
       "      <td>0.000000</td>\n",
       "      <td>31.80000</td>\n",
       "    </tr>\n",
       "    <tr>\n",
       "      <th>75%</th>\n",
       "      <td>0.800000</td>\n",
       "      <td>7.400000</td>\n",
       "      <td>10.800000</td>\n",
       "      <td>43.000000</td>\n",
       "      <td>16.500000</td>\n",
       "      <td>20.000000</td>\n",
       "      <td>76.000000</td>\n",
       "      <td>61.000000</td>\n",
       "      <td>7.000000</td>\n",
       "      <td>7.000000</td>\n",
       "      <td>0.000000</td>\n",
       "      <td>0.000000</td>\n",
       "      <td>34.20000</td>\n",
       "    </tr>\n",
       "    <tr>\n",
       "      <th>max</th>\n",
       "      <td>182.600000</td>\n",
       "      <td>44.000000</td>\n",
       "      <td>13.900000</td>\n",
       "      <td>104.000000</td>\n",
       "      <td>65.000000</td>\n",
       "      <td>76.000000</td>\n",
       "      <td>100.000000</td>\n",
       "      <td>100.000000</td>\n",
       "      <td>8.000000</td>\n",
       "      <td>8.000000</td>\n",
       "      <td>1.000000</td>\n",
       "      <td>1.000000</td>\n",
       "      <td>38.50000</td>\n",
       "    </tr>\n",
       "  </tbody>\n",
       "</table>\n",
       "</div>"
      ],
      "text/plain": [
       "           Rainfall   Evaporation      Sunshine  WindGustSpeed  WindSpeed9am  \\\n",
       "count  11226.000000  11226.000000  11226.000000   11226.000000  11226.000000   \n",
       "mean       2.772225      5.550169      8.111598      36.317299     12.224657   \n",
       "std        8.988295      2.873037      3.601981      12.326782      8.017472   \n",
       "min        0.000000      0.000000      0.000000       9.000000      0.000000   \n",
       "25%        0.000000      3.400000      5.800000      28.000000      7.000000   \n",
       "50%        0.000000      5.400000      9.200000      35.000000     11.000000   \n",
       "75%        0.800000      7.400000     10.800000      43.000000     16.500000   \n",
       "max      182.600000     44.000000     13.900000     104.000000     65.000000   \n",
       "\n",
       "       WindSpeed3pm   Humidity9am   Humidity3pm      Cloud9am      Cloud3pm  \\\n",
       "count  11226.000000  11226.000000  11226.000000  11226.000000  11226.000000   \n",
       "mean      16.495991     65.425174     50.831374      4.100303      4.112507   \n",
       "std        7.709170     15.395848     16.831389      2.728111      2.647567   \n",
       "min        0.000000     11.000000      5.000000      0.000000      0.000000   \n",
       "25%       11.000000     56.000000     40.000000      1.000000      1.000000   \n",
       "50%       15.000000     66.000000     51.000000      4.000000      4.000000   \n",
       "75%       20.000000     76.000000     61.000000      7.000000      7.000000   \n",
       "max       76.000000    100.000000    100.000000      8.000000      8.000000   \n",
       "\n",
       "          RainToday  RainTomorrow  AverageTemp  \n",
       "count  11226.000000  11226.000000  11226.00000  \n",
       "mean       0.235257      0.231605     31.54796  \n",
       "std        0.424179      0.421877      2.95343  \n",
       "min        0.000000      0.000000     24.30000  \n",
       "25%        0.000000      0.000000     29.10000  \n",
       "50%        0.000000      0.000000     31.80000  \n",
       "75%        0.000000      0.000000     34.20000  \n",
       "max        1.000000      1.000000     38.50000  "
      ]
     },
     "execution_count": 35,
     "metadata": {},
     "output_type": "execute_result"
    }
   ],
   "source": [
    "# descriptive statistics for the numerical variables\n",
    "df[num_cols].describe()"
   ]
  },
  {
   "cell_type": "code",
   "execution_count": 36,
   "id": "e4562efb",
   "metadata": {},
   "outputs": [
    {
     "data": {
      "image/png": "[encoded data removed]",
      "text/plain": [
       "<Figure size 864x864 with 16 Axes>"
      ]
     },
     "metadata": {
      "needs_background": "light"
     },
     "output_type": "display_data"
    }
   ],
   "source": [
    "# plot histogram to the numerical variables\n",
    "df[num_cols].hist(bins=30, figsize=(12,12))\n",
    "plt.show()"
   ]
  },
  {
   "cell_type": "markdown",
   "id": "89922f3d",
   "metadata": {},
   "source": [
    "### Step 3: Insights for Exploratory Data Analysis"
   ]
  },
  {
   "cell_type": "markdown",
   "id": "9d75ed00",
   "metadata": {},
   "source": [
    "###### 3.1 Proportion of Rate of 'RainTomorrow'"
   ]
  },
  {
   "cell_type": "code",
   "execution_count": 37,
   "id": "e0119929",
   "metadata": {},
   "outputs": [
    {
     "data": {
      "image/png": "[encoded data removed]",
      "text/plain": [
       "<Figure size 864x288 with 2 Axes>"
      ]
     },
     "metadata": {
      "needs_background": "light"
     },
     "output_type": "display_data"
    }
   ],
   "source": [
    "# define figure size\n",
    "plt.figure(figsize=(12, 4))\n",
    "\n",
    "# pie chart\n",
    "plt.subplot(1, 2, 1)\n",
    "df['RainTomorrow'].value_counts().plot(kind = 'pie', autopct = '%1.1f%%')\n",
    "plt.title(\"Pie Chart of Rate of 'RainTomorrow'\")\n",
    "\n",
    "# bar chart\n",
    "plt.subplot(1, 2, 2)\n",
    "sns.countplot(x='RainTomorrow', data=df)\n",
    "plt.title(\"Bar Chart of Rate of 'RainTomorrow'\")\n",
    "\n",
    "plt.show()"
   ]
  },
  {
   "cell_type": "markdown",
   "id": "1bf05242",
   "metadata": {},
   "source": [
    "3.1. Out of the 11226 cleaned records, 23.2% of them had rained the next day ('RainTomorrow')."
   ]
  },
  {
   "cell_type": "markdown",
   "id": "58fb7548",
   "metadata": {},
   "source": [
    "###### 3.2 Rate of 'RainTomorrow' In Terms of 'Location'"
   ]
  },
  {
   "cell_type": "code",
   "execution_count": 38,
   "id": "0ff4ba21",
   "metadata": {},
   "outputs": [
    {
     "data": {
      "text/plain": [
       "<AxesSubplot:xlabel='Location', ylabel='count'>"
      ]
     },
     "execution_count": 38,
     "metadata": {},
     "output_type": "execute_result"
    },
    {
     "data": {
      "image/png": "[encoded data removed]",
      "text/plain": [
       "<Figure size 864x360 with 1 Axes>"
      ]
     },
     "metadata": {
      "needs_background": "light"
     },
     "output_type": "display_data"
    }
   ],
   "source": [
    "# bar chart \n",
    "plt.figure(figsize=(12, 5))\n",
    "sns.countplot(x='Location', hue='RainTomorrow', data=df)"
   ]
  },
  {
   "cell_type": "code",
   "execution_count": 39,
   "id": "1838027a",
   "metadata": {
    "scrolled": true
   },
   "outputs": [
    {
     "data": {
      "text/html": [
       "<div>\n",
       "<style scoped>\n",
       "    .dataframe tbody tr th:only-of-type {\n",
       "        vertical-align: middle;\n",
       "    }\n",
       "\n",
       "    .dataframe tbody tr th {\n",
       "        vertical-align: top;\n",
       "    }\n",
       "\n",
       "    .dataframe thead th {\n",
       "        text-align: right;\n",
       "    }\n",
       "</style>\n",
       "<table border=\"1\" class=\"dataframe\">\n",
       "  <thead>\n",
       "    <tr style=\"text-align: right;\">\n",
       "      <th></th>\n",
       "      <th>Rainfall</th>\n",
       "      <th>Evaporation</th>\n",
       "      <th>Sunshine</th>\n",
       "      <th>WindGustSpeed</th>\n",
       "      <th>WindSpeed9am</th>\n",
       "      <th>WindSpeed3pm</th>\n",
       "      <th>Humidity9am</th>\n",
       "      <th>Humidity3pm</th>\n",
       "      <th>Cloud9am</th>\n",
       "      <th>Cloud3pm</th>\n",
       "      <th>RainToday</th>\n",
       "      <th>RainTomorrow</th>\n",
       "      <th>AverageTemp</th>\n",
       "    </tr>\n",
       "    <tr>\n",
       "      <th>Location</th>\n",
       "      <th></th>\n",
       "      <th></th>\n",
       "      <th></th>\n",
       "      <th></th>\n",
       "      <th></th>\n",
       "      <th></th>\n",
       "      <th></th>\n",
       "      <th></th>\n",
       "      <th></th>\n",
       "      <th></th>\n",
       "      <th></th>\n",
       "      <th></th>\n",
       "      <th></th>\n",
       "    </tr>\n",
       "  </thead>\n",
       "  <tbody>\n",
       "    <tr>\n",
       "      <th>Changi</th>\n",
       "      <td>2.900033</td>\n",
       "      <td>5.398684</td>\n",
       "      <td>8.079862</td>\n",
       "      <td>28.154656</td>\n",
       "      <td>6.948009</td>\n",
       "      <td>10.997697</td>\n",
       "      <td>64.011517</td>\n",
       "      <td>53.798947</td>\n",
       "      <td>3.893715</td>\n",
       "      <td>3.870352</td>\n",
       "      <td>0.221125</td>\n",
       "      <td>0.223758</td>\n",
       "      <td>31.451728</td>\n",
       "    </tr>\n",
       "    <tr>\n",
       "      <th>Sentosa</th>\n",
       "      <td>1.907946</td>\n",
       "      <td>4.497936</td>\n",
       "      <td>6.323426</td>\n",
       "      <td>44.900929</td>\n",
       "      <td>18.542312</td>\n",
       "      <td>21.438596</td>\n",
       "      <td>67.700206</td>\n",
       "      <td>51.596491</td>\n",
       "      <td>5.296698</td>\n",
       "      <td>5.294118</td>\n",
       "      <td>0.271414</td>\n",
       "      <td>0.246646</td>\n",
       "      <td>28.812229</td>\n",
       "    </tr>\n",
       "    <tr>\n",
       "      <th>Tuas</th>\n",
       "      <td>1.917294</td>\n",
       "      <td>5.597850</td>\n",
       "      <td>8.780462</td>\n",
       "      <td>34.881126</td>\n",
       "      <td>10.696807</td>\n",
       "      <td>14.520076</td>\n",
       "      <td>62.686058</td>\n",
       "      <td>46.914006</td>\n",
       "      <td>3.382548</td>\n",
       "      <td>3.466013</td>\n",
       "      <td>0.203288</td>\n",
       "      <td>0.202656</td>\n",
       "      <td>30.244199</td>\n",
       "    </tr>\n",
       "    <tr>\n",
       "      <th>Woodlands</th>\n",
       "      <td>4.065392</td>\n",
       "      <td>6.311277</td>\n",
       "      <td>8.580266</td>\n",
       "      <td>40.437135</td>\n",
       "      <td>15.019443</td>\n",
       "      <td>20.831821</td>\n",
       "      <td>68.196047</td>\n",
       "      <td>51.443616</td>\n",
       "      <td>4.288075</td>\n",
       "      <td>4.271549</td>\n",
       "      <td>0.259235</td>\n",
       "      <td>0.259559</td>\n",
       "      <td>34.697051</td>\n",
       "    </tr>\n",
       "  </tbody>\n",
       "</table>\n",
       "</div>"
      ],
      "text/plain": [
       "           Rainfall  Evaporation  Sunshine  WindGustSpeed  WindSpeed9am  \\\n",
       "Location                                                                  \n",
       "Changi     2.900033     5.398684  8.079862      28.154656      6.948009   \n",
       "Sentosa    1.907946     4.497936  6.323426      44.900929     18.542312   \n",
       "Tuas       1.917294     5.597850  8.780462      34.881126     10.696807   \n",
       "Woodlands  4.065392     6.311277  8.580266      40.437135     15.019443   \n",
       "\n",
       "           WindSpeed3pm  Humidity9am  Humidity3pm  Cloud9am  Cloud3pm  \\\n",
       "Location                                                                \n",
       "Changi        10.997697    64.011517    53.798947  3.893715  3.870352   \n",
       "Sentosa       21.438596    67.700206    51.596491  5.296698  5.294118   \n",
       "Tuas          14.520076    62.686058    46.914006  3.382548  3.466013   \n",
       "Woodlands     20.831821    68.196047    51.443616  4.288075  4.271549   \n",
       "\n",
       "           RainToday  RainTomorrow  AverageTemp  \n",
       "Location                                         \n",
       "Changi      0.221125      0.223758    31.451728  \n",
       "Sentosa     0.271414      0.246646    28.812229  \n",
       "Tuas        0.203288      0.202656    30.244199  \n",
       "Woodlands   0.259235      0.259559    34.697051  "
      ]
     },
     "execution_count": 39,
     "metadata": {},
     "output_type": "execute_result"
    }
   ],
   "source": [
    "# mean value of various variables\n",
    "df.groupby(['Location']).mean()"
   ]
  },
  {
   "cell_type": "markdown",
   "id": "bce82cfe",
   "metadata": {},
   "source": [
    "3.2. The rate of 'RainTomorrow' among the various 'Location' were similar, ranging from 20.3% to 25.6%."
   ]
  },
  {
   "cell_type": "markdown",
   "id": "5aa128e5",
   "metadata": {},
   "source": [
    "###### 3.3 Rate of 'RainTomorrow' In Terms of 'Rainfall'"
   ]
  },
  {
   "cell_type": "code",
   "execution_count": 40,
   "id": "44f25d8f",
   "metadata": {
    "scrolled": true
   },
   "outputs": [
    {
     "data": {
      "text/plain": [
       "<AxesSubplot:xlabel='Count', ylabel='Rainfall'>"
      ]
     },
     "execution_count": 40,
     "metadata": {},
     "output_type": "execute_result"
    },
    {
     "data": {
      "image/png": "[encoded data removed]",
      "text/plain": [
       "<Figure size 1224x1440 with 1 Axes>"
      ]
     },
     "metadata": {
      "needs_background": "light"
     },
     "output_type": "display_data"
    }
   ],
   "source": [
    "# histogram\n",
    "plt.figure(figsize=(17, 20))\n",
    "sns.histplot(data=df, y='Rainfall', hue='RainTomorrow', stat='count', binwidth=1, multiple='stack')"
   ]
  },
  {
   "cell_type": "code",
   "execution_count": 41,
   "id": "f0b75734",
   "metadata": {},
   "outputs": [
    {
     "data": {
      "image/png": "[encoded data removed]",
      "text/plain": [
       "<Figure size 432x288 with 1 Axes>"
      ]
     },
     "metadata": {
      "needs_background": "light"
     },
     "output_type": "display_data"
    }
   ],
   "source": [
    "# box plot\n",
    "box_plot = sns.boxplot(x='RainTomorrow', y='Rainfall', data=df)\n",
    "\n",
    "ax = box_plot.axes\n",
    "lines = ax.get_lines()\n",
    "categories = ax.get_xticks()\n",
    "\n",
    "for cat in categories:\n",
    "    # every 4th line at the interval of 6 is median line\n",
    "    # 0 -> p25 1 -> p75 2 -> lower whisker 3 -> upper whisker 4 -> p50 5 -> upper extreme value\n",
    "    y = round(lines[4+cat*6].get_ydata()[0],1) \n",
    "\n",
    "    ax.text(\n",
    "        cat, \n",
    "        y, \n",
    "        f'{y}', \n",
    "        ha='center', \n",
    "        va='center', \n",
    "        fontweight='bold', \n",
    "        size=10,\n",
    "        color='white',\n",
    "        bbox=dict(facecolor='#445A64'))\n",
    "\n",
    "box_plot.figure.tight_layout()"
   ]
  },
  {
   "cell_type": "markdown",
   "id": "1446f2c8",
   "metadata": {},
   "source": [
    "3.3. a) Most of the days had 'Rainfall' of between 0.0mm to 1.0mm.<br>\n",
    "b) Days that had rained the next day ('RainTomorrow') had a higher 'Rainfall' median of 1.2.<br>\n",
    "c) There are many outliers present in 'Rainfall'. They have to be treated to have a better ML model performance. \n"
   ]
  },
  {
   "cell_type": "markdown",
   "id": "ffa364d6",
   "metadata": {},
   "source": [
    "###### 3.4 Rate of 'RainTomorrow' In Terms of 'Evaporation'"
   ]
  },
  {
   "cell_type": "code",
   "execution_count": 42,
   "id": "d6598e6d",
   "metadata": {},
   "outputs": [
    {
     "data": {
      "text/plain": [
       "<AxesSubplot:xlabel='Count', ylabel='Evaporation'>"
      ]
     },
     "execution_count": 42,
     "metadata": {},
     "output_type": "execute_result"
    },
    {
     "data": {
      "image/png": "[encoded data removed]",
      "text/plain": [
       "<Figure size 1296x288 with 1 Axes>"
      ]
     },
     "metadata": {
      "needs_background": "light"
     },
     "output_type": "display_data"
    }
   ],
   "source": [
    "# histogram\n",
    "plt.figure(figsize=(18, 4))\n",
    "sns.histplot(data=df, y='Evaporation', hue='RainTomorrow', stat='count', binwidth=4, multiple='stack')"
   ]
  },
  {
   "cell_type": "code",
   "execution_count": 43,
   "id": "c814a5ec",
   "metadata": {
    "scrolled": false
   },
   "outputs": [
    {
     "data": {
      "text/plain": [
       "<AxesSubplot:xlabel='RainTomorrow', ylabel='Evaporation'>"
      ]
     },
     "execution_count": 43,
     "metadata": {},
     "output_type": "execute_result"
    },
    {
     "data": {
      "image/png": "[encoded data removed]",
      "text/plain": [
       "<Figure size 432x432 with 1 Axes>"
      ]
     },
     "metadata": {
      "needs_background": "light"
     },
     "output_type": "display_data"
    }
   ],
   "source": [
    "# box plot\n",
    "plt.figure(figsize=(6, 6))\n",
    "sns.boxplot(data=df, x='RainTomorrow', y='Evaporation')"
   ]
  },
  {
   "cell_type": "markdown",
   "id": "2a14d625",
   "metadata": {},
   "source": [
    "3.4. a) Most of the days had 'Evaporation' of 4mm to 8mm; followed by 0mm to 4mm; and 8mm to 12mm.<br> \n",
    "b) Days that had rained the next day ('RainTomorrow') had a lower 'Evaporation' median.<br>\n",
    "c) There is presence of an extreme outlier. "
   ]
  },
  {
   "cell_type": "markdown",
   "id": "568db308",
   "metadata": {},
   "source": [
    "###### 3.5 Rate of 'RainTomorrow' In Terms of 'Sunshine'"
   ]
  },
  {
   "cell_type": "code",
   "execution_count": 44,
   "id": "67cbc68c",
   "metadata": {},
   "outputs": [
    {
     "data": {
      "text/plain": [
       "<AxesSubplot:xlabel='Count', ylabel='Sunshine'>"
      ]
     },
     "execution_count": 44,
     "metadata": {},
     "output_type": "execute_result"
    },
    {
     "data": {
      "image/png": "[encoded data removed]",
      "text/plain": [
       "<Figure size 1296x288 with 1 Axes>"
      ]
     },
     "metadata": {
      "needs_background": "light"
     },
     "output_type": "display_data"
    }
   ],
   "source": [
    "# histogram\n",
    "plt.figure(figsize=(18, 4))\n",
    "sns.histplot(data=df, y='Sunshine', hue='RainTomorrow', stat='count', binwidth=2, multiple='stack')"
   ]
  },
  {
   "cell_type": "code",
   "execution_count": 45,
   "id": "529a260d",
   "metadata": {},
   "outputs": [
    {
     "data": {
      "text/plain": [
       "<AxesSubplot:xlabel='RainTomorrow', ylabel='Sunshine'>"
      ]
     },
     "execution_count": 45,
     "metadata": {},
     "output_type": "execute_result"
    },
    {
     "data": {
      "image/png": "[encoded data removed]",
      "text/plain": [
       "<Figure size 432x432 with 1 Axes>"
      ]
     },
     "metadata": {
      "needs_background": "light"
     },
     "output_type": "display_data"
    }
   ],
   "source": [
    "# box plot\n",
    "plt.figure(figsize=(6, 6))\n",
    "sns.boxplot(data=df, x='RainTomorrow', y='Sunshine')"
   ]
  },
  {
   "cell_type": "markdown",
   "id": "3a5e4273",
   "metadata": {},
   "source": [
    "3.5. a) Most of the days had 'Sunshine' of 6 hours to 12 hours.<br>\n",
    "b) Days with 'Sunshine' of fewer than 2 hours had the highest proportion of rain the next day ('RainTomorrow').<br>\n",
    "c) Days that had rained the next day ('RainTomorrow') had a significantly lower 'Sunshine' median."
   ]
  },
  {
   "cell_type": "markdown",
   "id": "3b179f24",
   "metadata": {},
   "source": [
    "###### 3.6 Rate of 'RainTomorrow' In Terms of 'WindGustDir'"
   ]
  },
  {
   "cell_type": "code",
   "execution_count": 46,
   "id": "2a0ea75c",
   "metadata": {},
   "outputs": [
    {
     "data": {
      "text/plain": [
       "<AxesSubplot:xlabel='WindGustDir', ylabel='count'>"
      ]
     },
     "execution_count": 46,
     "metadata": {},
     "output_type": "execute_result"
    },
    {
     "data": {
      "image/png": "[encoded data removed]",
      "text/plain": [
       "<Figure size 1296x432 with 1 Axes>"
      ]
     },
     "metadata": {
      "needs_background": "light"
     },
     "output_type": "display_data"
    }
   ],
   "source": [
    "# bar chart \n",
    "plt.figure(figsize=(18, 6))\n",
    "sns.countplot(x='WindGustDir', hue='RainTomorrow', data=df)"
   ]
  },
  {
   "cell_type": "code",
   "execution_count": 47,
   "id": "647b56a6",
   "metadata": {
    "scrolled": true
   },
   "outputs": [
    {
     "data": {
      "text/html": [
       "<div>\n",
       "<style scoped>\n",
       "    .dataframe tbody tr th:only-of-type {\n",
       "        vertical-align: middle;\n",
       "    }\n",
       "\n",
       "    .dataframe tbody tr th {\n",
       "        vertical-align: top;\n",
       "    }\n",
       "\n",
       "    .dataframe thead th {\n",
       "        text-align: right;\n",
       "    }\n",
       "</style>\n",
       "<table border=\"1\" class=\"dataframe\">\n",
       "  <thead>\n",
       "    <tr style=\"text-align: right;\">\n",
       "      <th></th>\n",
       "      <th>Rainfall</th>\n",
       "      <th>Evaporation</th>\n",
       "      <th>Sunshine</th>\n",
       "      <th>WindGustSpeed</th>\n",
       "      <th>WindSpeed9am</th>\n",
       "      <th>WindSpeed3pm</th>\n",
       "      <th>Humidity9am</th>\n",
       "      <th>Humidity3pm</th>\n",
       "      <th>Cloud9am</th>\n",
       "      <th>Cloud3pm</th>\n",
       "      <th>RainToday</th>\n",
       "      <th>RainTomorrow</th>\n",
       "      <th>AverageTemp</th>\n",
       "    </tr>\n",
       "    <tr>\n",
       "      <th>WindGustDir</th>\n",
       "      <th></th>\n",
       "      <th></th>\n",
       "      <th></th>\n",
       "      <th></th>\n",
       "      <th></th>\n",
       "      <th></th>\n",
       "      <th></th>\n",
       "      <th></th>\n",
       "      <th></th>\n",
       "      <th></th>\n",
       "      <th></th>\n",
       "      <th></th>\n",
       "      <th></th>\n",
       "    </tr>\n",
       "  </thead>\n",
       "  <tbody>\n",
       "    <tr>\n",
       "      <th>E</th>\n",
       "      <td>2.289228</td>\n",
       "      <td>6.286260</td>\n",
       "      <td>8.985920</td>\n",
       "      <td>35.178117</td>\n",
       "      <td>12.245123</td>\n",
       "      <td>15.372349</td>\n",
       "      <td>62.766751</td>\n",
       "      <td>46.836302</td>\n",
       "      <td>3.860051</td>\n",
       "      <td>3.689567</td>\n",
       "      <td>0.169635</td>\n",
       "      <td>0.168787</td>\n",
       "      <td>32.902375</td>\n",
       "    </tr>\n",
       "    <tr>\n",
       "      <th>ENE</th>\n",
       "      <td>1.659287</td>\n",
       "      <td>6.154367</td>\n",
       "      <td>9.097048</td>\n",
       "      <td>30.714637</td>\n",
       "      <td>9.612546</td>\n",
       "      <td>13.469865</td>\n",
       "      <td>63.526445</td>\n",
       "      <td>49.327183</td>\n",
       "      <td>3.685117</td>\n",
       "      <td>3.521525</td>\n",
       "      <td>0.168512</td>\n",
       "      <td>0.167282</td>\n",
       "      <td>32.476138</td>\n",
       "    </tr>\n",
       "    <tr>\n",
       "      <th>ESE</th>\n",
       "      <td>1.854707</td>\n",
       "      <td>6.442112</td>\n",
       "      <td>8.866412</td>\n",
       "      <td>37.810433</td>\n",
       "      <td>13.945293</td>\n",
       "      <td>16.095420</td>\n",
       "      <td>59.442748</td>\n",
       "      <td>43.375318</td>\n",
       "      <td>3.666667</td>\n",
       "      <td>3.762087</td>\n",
       "      <td>0.161578</td>\n",
       "      <td>0.159033</td>\n",
       "      <td>32.830280</td>\n",
       "    </tr>\n",
       "    <tr>\n",
       "      <th>EW</th>\n",
       "      <td>2.638298</td>\n",
       "      <td>5.485106</td>\n",
       "      <td>8.363830</td>\n",
       "      <td>34.872340</td>\n",
       "      <td>10.404255</td>\n",
       "      <td>16.021277</td>\n",
       "      <td>65.957447</td>\n",
       "      <td>53.851064</td>\n",
       "      <td>3.787234</td>\n",
       "      <td>4.446809</td>\n",
       "      <td>0.276596</td>\n",
       "      <td>0.170213</td>\n",
       "      <td>32.061702</td>\n",
       "    </tr>\n",
       "    <tr>\n",
       "      <th>N</th>\n",
       "      <td>1.620353</td>\n",
       "      <td>5.209450</td>\n",
       "      <td>7.143094</td>\n",
       "      <td>45.689512</td>\n",
       "      <td>19.176532</td>\n",
       "      <td>22.230530</td>\n",
       "      <td>66.453790</td>\n",
       "      <td>50.529595</td>\n",
       "      <td>4.533749</td>\n",
       "      <td>4.859813</td>\n",
       "      <td>0.174455</td>\n",
       "      <td>0.264798</td>\n",
       "      <td>30.947664</td>\n",
       "    </tr>\n",
       "    <tr>\n",
       "      <th>NE</th>\n",
       "      <td>2.271298</td>\n",
       "      <td>5.749017</td>\n",
       "      <td>8.849803</td>\n",
       "      <td>30.221494</td>\n",
       "      <td>9.200524</td>\n",
       "      <td>12.395806</td>\n",
       "      <td>62.495413</td>\n",
       "      <td>49.709043</td>\n",
       "      <td>3.369594</td>\n",
       "      <td>3.562254</td>\n",
       "      <td>0.146789</td>\n",
       "      <td>0.208388</td>\n",
       "      <td>31.816645</td>\n",
       "    </tr>\n",
       "    <tr>\n",
       "      <th>NNE</th>\n",
       "      <td>1.293764</td>\n",
       "      <td>4.987991</td>\n",
       "      <td>8.115704</td>\n",
       "      <td>34.000000</td>\n",
       "      <td>11.205543</td>\n",
       "      <td>15.711316</td>\n",
       "      <td>66.392610</td>\n",
       "      <td>49.644342</td>\n",
       "      <td>3.803695</td>\n",
       "      <td>3.815242</td>\n",
       "      <td>0.133949</td>\n",
       "      <td>0.230947</td>\n",
       "      <td>31.386836</td>\n",
       "    </tr>\n",
       "    <tr>\n",
       "      <th>NNW</th>\n",
       "      <td>2.701449</td>\n",
       "      <td>5.050242</td>\n",
       "      <td>7.617633</td>\n",
       "      <td>36.147343</td>\n",
       "      <td>12.055556</td>\n",
       "      <td>17.975845</td>\n",
       "      <td>70.560386</td>\n",
       "      <td>53.746377</td>\n",
       "      <td>4.282609</td>\n",
       "      <td>4.606280</td>\n",
       "      <td>0.239130</td>\n",
       "      <td>0.318841</td>\n",
       "      <td>32.318116</td>\n",
       "    </tr>\n",
       "    <tr>\n",
       "      <th>NS</th>\n",
       "      <td>3.680645</td>\n",
       "      <td>6.138710</td>\n",
       "      <td>7.833871</td>\n",
       "      <td>36.516129</td>\n",
       "      <td>12.967742</td>\n",
       "      <td>16.983871</td>\n",
       "      <td>64.629032</td>\n",
       "      <td>51.048387</td>\n",
       "      <td>4.532258</td>\n",
       "      <td>4.241935</td>\n",
       "      <td>0.258065</td>\n",
       "      <td>0.225806</td>\n",
       "      <td>31.572581</td>\n",
       "    </tr>\n",
       "    <tr>\n",
       "      <th>NW</th>\n",
       "      <td>3.815984</td>\n",
       "      <td>5.307787</td>\n",
       "      <td>7.728484</td>\n",
       "      <td>38.018443</td>\n",
       "      <td>12.522541</td>\n",
       "      <td>19.727459</td>\n",
       "      <td>70.709016</td>\n",
       "      <td>57.473361</td>\n",
       "      <td>4.627049</td>\n",
       "      <td>4.690574</td>\n",
       "      <td>0.336066</td>\n",
       "      <td>0.377049</td>\n",
       "      <td>32.790779</td>\n",
       "    </tr>\n",
       "    <tr>\n",
       "      <th>S</th>\n",
       "      <td>2.695192</td>\n",
       "      <td>4.900000</td>\n",
       "      <td>7.629567</td>\n",
       "      <td>35.379808</td>\n",
       "      <td>11.923077</td>\n",
       "      <td>17.064904</td>\n",
       "      <td>68.901442</td>\n",
       "      <td>52.468750</td>\n",
       "      <td>5.024038</td>\n",
       "      <td>4.189904</td>\n",
       "      <td>0.276442</td>\n",
       "      <td>0.180288</td>\n",
       "      <td>30.005529</td>\n",
       "    </tr>\n",
       "    <tr>\n",
       "      <th>SE</th>\n",
       "      <td>3.618862</td>\n",
       "      <td>5.959512</td>\n",
       "      <td>7.787154</td>\n",
       "      <td>36.539837</td>\n",
       "      <td>12.406504</td>\n",
       "      <td>14.721951</td>\n",
       "      <td>63.783740</td>\n",
       "      <td>49.847154</td>\n",
       "      <td>4.235772</td>\n",
       "      <td>4.312195</td>\n",
       "      <td>0.263415</td>\n",
       "      <td>0.250407</td>\n",
       "      <td>31.955285</td>\n",
       "    </tr>\n",
       "    <tr>\n",
       "      <th>SSE</th>\n",
       "      <td>3.580851</td>\n",
       "      <td>4.948759</td>\n",
       "      <td>7.028014</td>\n",
       "      <td>34.335106</td>\n",
       "      <td>10.810284</td>\n",
       "      <td>15.264184</td>\n",
       "      <td>69.358156</td>\n",
       "      <td>54.900709</td>\n",
       "      <td>4.875887</td>\n",
       "      <td>4.666667</td>\n",
       "      <td>0.299645</td>\n",
       "      <td>0.225177</td>\n",
       "      <td>30.538121</td>\n",
       "    </tr>\n",
       "    <tr>\n",
       "      <th>SSW</th>\n",
       "      <td>2.915135</td>\n",
       "      <td>5.726622</td>\n",
       "      <td>8.619189</td>\n",
       "      <td>35.152703</td>\n",
       "      <td>10.437838</td>\n",
       "      <td>16.282432</td>\n",
       "      <td>65.391892</td>\n",
       "      <td>51.959459</td>\n",
       "      <td>3.948649</td>\n",
       "      <td>3.683784</td>\n",
       "      <td>0.235135</td>\n",
       "      <td>0.158108</td>\n",
       "      <td>30.456892</td>\n",
       "    </tr>\n",
       "    <tr>\n",
       "      <th>SW</th>\n",
       "      <td>2.405912</td>\n",
       "      <td>5.807951</td>\n",
       "      <td>8.801325</td>\n",
       "      <td>37.151886</td>\n",
       "      <td>11.271152</td>\n",
       "      <td>16.924567</td>\n",
       "      <td>63.716616</td>\n",
       "      <td>50.092762</td>\n",
       "      <td>3.649337</td>\n",
       "      <td>3.599388</td>\n",
       "      <td>0.250765</td>\n",
       "      <td>0.160041</td>\n",
       "      <td>30.338736</td>\n",
       "    </tr>\n",
       "    <tr>\n",
       "      <th>W</th>\n",
       "      <td>4.700147</td>\n",
       "      <td>4.545815</td>\n",
       "      <td>7.155213</td>\n",
       "      <td>36.792952</td>\n",
       "      <td>11.638767</td>\n",
       "      <td>15.483113</td>\n",
       "      <td>65.271659</td>\n",
       "      <td>50.146843</td>\n",
       "      <td>4.014684</td>\n",
       "      <td>4.375918</td>\n",
       "      <td>0.343612</td>\n",
       "      <td>0.281938</td>\n",
       "      <td>30.404258</td>\n",
       "    </tr>\n",
       "    <tr>\n",
       "      <th>WNW</th>\n",
       "      <td>4.394848</td>\n",
       "      <td>5.417727</td>\n",
       "      <td>7.611667</td>\n",
       "      <td>38.357576</td>\n",
       "      <td>12.642424</td>\n",
       "      <td>19.942424</td>\n",
       "      <td>70.240909</td>\n",
       "      <td>57.837879</td>\n",
       "      <td>4.612121</td>\n",
       "      <td>4.666667</td>\n",
       "      <td>0.321212</td>\n",
       "      <td>0.377273</td>\n",
       "      <td>32.883030</td>\n",
       "    </tr>\n",
       "    <tr>\n",
       "      <th>WSW</th>\n",
       "      <td>3.934944</td>\n",
       "      <td>4.579710</td>\n",
       "      <td>6.951208</td>\n",
       "      <td>36.950081</td>\n",
       "      <td>12.156200</td>\n",
       "      <td>15.771337</td>\n",
       "      <td>67.837359</td>\n",
       "      <td>54.392915</td>\n",
       "      <td>4.512077</td>\n",
       "      <td>4.726248</td>\n",
       "      <td>0.378422</td>\n",
       "      <td>0.349436</td>\n",
       "      <td>29.912721</td>\n",
       "    </tr>\n",
       "  </tbody>\n",
       "</table>\n",
       "</div>"
      ],
      "text/plain": [
       "             Rainfall  Evaporation  Sunshine  WindGustSpeed  WindSpeed9am  \\\n",
       "WindGustDir                                                                 \n",
       "E            2.289228     6.286260  8.985920      35.178117     12.245123   \n",
       "ENE          1.659287     6.154367  9.097048      30.714637      9.612546   \n",
       "ESE          1.854707     6.442112  8.866412      37.810433     13.945293   \n",
       "EW           2.638298     5.485106  8.363830      34.872340     10.404255   \n",
       "N            1.620353     5.209450  7.143094      45.689512     19.176532   \n",
       "NE           2.271298     5.749017  8.849803      30.221494      9.200524   \n",
       "NNE          1.293764     4.987991  8.115704      34.000000     11.205543   \n",
       "NNW          2.701449     5.050242  7.617633      36.147343     12.055556   \n",
       "NS           3.680645     6.138710  7.833871      36.516129     12.967742   \n",
       "NW           3.815984     5.307787  7.728484      38.018443     12.522541   \n",
       "S            2.695192     4.900000  7.629567      35.379808     11.923077   \n",
       "SE           3.618862     5.959512  7.787154      36.539837     12.406504   \n",
       "SSE          3.580851     4.948759  7.028014      34.335106     10.810284   \n",
       "SSW          2.915135     5.726622  8.619189      35.152703     10.437838   \n",
       "SW           2.405912     5.807951  8.801325      37.151886     11.271152   \n",
       "W            4.700147     4.545815  7.155213      36.792952     11.638767   \n",
       "WNW          4.394848     5.417727  7.611667      38.357576     12.642424   \n",
       "WSW          3.934944     4.579710  6.951208      36.950081     12.156200   \n",
       "\n",
       "             WindSpeed3pm  Humidity9am  Humidity3pm  Cloud9am  Cloud3pm  \\\n",
       "WindGustDir                                                               \n",
       "E               15.372349    62.766751    46.836302  3.860051  3.689567   \n",
       "ENE             13.469865    63.526445    49.327183  3.685117  3.521525   \n",
       "ESE             16.095420    59.442748    43.375318  3.666667  3.762087   \n",
       "EW              16.021277    65.957447    53.851064  3.787234  4.446809   \n",
       "N               22.230530    66.453790    50.529595  4.533749  4.859813   \n",
       "NE              12.395806    62.495413    49.709043  3.369594  3.562254   \n",
       "NNE             15.711316    66.392610    49.644342  3.803695  3.815242   \n",
       "NNW             17.975845    70.560386    53.746377  4.282609  4.606280   \n",
       "NS              16.983871    64.629032    51.048387  4.532258  4.241935   \n",
       "NW              19.727459    70.709016    57.473361  4.627049  4.690574   \n",
       "S               17.064904    68.901442    52.468750  5.024038  4.189904   \n",
       "SE              14.721951    63.783740    49.847154  4.235772  4.312195   \n",
       "SSE             15.264184    69.358156    54.900709  4.875887  4.666667   \n",
       "SSW             16.282432    65.391892    51.959459  3.948649  3.683784   \n",
       "SW              16.924567    63.716616    50.092762  3.649337  3.599388   \n",
       "W               15.483113    65.271659    50.146843  4.014684  4.375918   \n",
       "WNW             19.942424    70.240909    57.837879  4.612121  4.666667   \n",
       "WSW             15.771337    67.837359    54.392915  4.512077  4.726248   \n",
       "\n",
       "             RainToday  RainTomorrow  AverageTemp  \n",
       "WindGustDir                                        \n",
       "E             0.169635      0.168787    32.902375  \n",
       "ENE           0.168512      0.167282    32.476138  \n",
       "ESE           0.161578      0.159033    32.830280  \n",
       "EW            0.276596      0.170213    32.061702  \n",
       "N             0.174455      0.264798    30.947664  \n",
       "NE            0.146789      0.208388    31.816645  \n",
       "NNE           0.133949      0.230947    31.386836  \n",
       "NNW           0.239130      0.318841    32.318116  \n",
       "NS            0.258065      0.225806    31.572581  \n",
       "NW            0.336066      0.377049    32.790779  \n",
       "S             0.276442      0.180288    30.005529  \n",
       "SE            0.263415      0.250407    31.955285  \n",
       "SSE           0.299645      0.225177    30.538121  \n",
       "SSW           0.235135      0.158108    30.456892  \n",
       "SW            0.250765      0.160041    30.338736  \n",
       "W             0.343612      0.281938    30.404258  \n",
       "WNW           0.321212      0.377273    32.883030  \n",
       "WSW           0.378422      0.349436    29.912721  "
      ]
     },
     "execution_count": 47,
     "metadata": {},
     "output_type": "execute_result"
    }
   ],
   "source": [
    "# mean value of various variables\n",
    "df.groupby(['WindGustDir']).mean()"
   ]
  },
  {
   "cell_type": "markdown",
   "id": "36b2e51d",
   "metadata": {},
   "source": [
    "3.6. a) 'WindGustDir' of WNW, NW and WSW had the highest rate of 'RainTomorrow' at 37.73%, 37.70% and 34.9% respectively.<br> \n",
    "b) 'WindGustDir' of SSW, ESE and SW had the lowest rate of 'RainTomorrow' at 15.8%, 15.9% and 16.0% respectively. "
   ]
  },
  {
   "cell_type": "markdown",
   "id": "a2ad38d5",
   "metadata": {},
   "source": [
    "###### 3.7 Rate of 'RainTomorrow' In Terms of 'WindGustSpeed'"
   ]
  },
  {
   "cell_type": "code",
   "execution_count": 48,
   "id": "a1f3822b",
   "metadata": {},
   "outputs": [
    {
     "data": {
      "text/plain": [
       "<AxesSubplot:xlabel='Count', ylabel='WindGustSpeed'>"
      ]
     },
     "execution_count": 48,
     "metadata": {},
     "output_type": "execute_result"
    },
    {
     "data": {
      "image/png": "[encoded data removed]",
      "text/plain": [
       "<Figure size 1296x288 with 1 Axes>"
      ]
     },
     "metadata": {
      "needs_background": "light"
     },
     "output_type": "display_data"
    }
   ],
   "source": [
    "# histogram\n",
    "plt.figure(figsize=(18, 4))\n",
    "sns.histplot(data=df, y='WindGustSpeed', hue='RainTomorrow', stat='count', binwidth=10, multiple='stack')"
   ]
  },
  {
   "cell_type": "code",
   "execution_count": 49,
   "id": "d7b659c1",
   "metadata": {
    "scrolled": false
   },
   "outputs": [
    {
     "data": {
      "text/plain": [
       "<AxesSubplot:xlabel='RainTomorrow', ylabel='WindGustSpeed'>"
      ]
     },
     "execution_count": 49,
     "metadata": {},
     "output_type": "execute_result"
    },
    {
     "data": {
      "image/png": "[encoded data removed]",
      "text/plain": [
       "<Figure size 432x432 with 1 Axes>"
      ]
     },
     "metadata": {
      "needs_background": "light"
     },
     "output_type": "display_data"
    }
   ],
   "source": [
    "# box plot\n",
    "plt.figure(figsize=(6, 6))\n",
    "sns.boxplot(data=df, x='RainTomorrow', y='WindGustSpeed')"
   ]
  },
  {
   "cell_type": "markdown",
   "id": "82e3784b",
   "metadata": {},
   "source": [
    "3.7. a) Most of the days had 'WindGustSpeed' of 20km/h to 50km/h.<br>\n",
    "b) Days with 'WindGustSpeed' of more than 60km/h had higher proportion of rain the next day ('RainTomorrow').<br>\n",
    "c) Days that had rained the next day ('RainTomorrow') had a higher 'WindGustSpeed' median."
   ]
  },
  {
   "cell_type": "markdown",
   "id": "8246f6ac",
   "metadata": {},
   "source": [
    "###### 3.8 Rate of 'RainTomorrow' In Terms of 'WindDir9am'"
   ]
  },
  {
   "cell_type": "code",
   "execution_count": 50,
   "id": "fe29c59e",
   "metadata": {},
   "outputs": [
    {
     "data": {
      "text/plain": [
       "<AxesSubplot:xlabel='WindDir9am', ylabel='count'>"
      ]
     },
     "execution_count": 50,
     "metadata": {},
     "output_type": "execute_result"
    },
    {
     "data": {
      "image/png": "[encoded data removed]",
      "text/plain": [
       "<Figure size 1296x432 with 1 Axes>"
      ]
     },
     "metadata": {
      "needs_background": "light"
     },
     "output_type": "display_data"
    }
   ],
   "source": [
    "# bar chart \n",
    "plt.figure(figsize=(18, 6))\n",
    "sns.countplot(x='WindDir9am', hue='RainTomorrow', data=df)"
   ]
  },
  {
   "cell_type": "code",
   "execution_count": 51,
   "id": "c09f530a",
   "metadata": {
    "scrolled": true
   },
   "outputs": [
    {
     "data": {
      "text/html": [
       "<div>\n",
       "<style scoped>\n",
       "    .dataframe tbody tr th:only-of-type {\n",
       "        vertical-align: middle;\n",
       "    }\n",
       "\n",
       "    .dataframe tbody tr th {\n",
       "        vertical-align: top;\n",
       "    }\n",
       "\n",
       "    .dataframe thead th {\n",
       "        text-align: right;\n",
       "    }\n",
       "</style>\n",
       "<table border=\"1\" class=\"dataframe\">\n",
       "  <thead>\n",
       "    <tr style=\"text-align: right;\">\n",
       "      <th></th>\n",
       "      <th>Rainfall</th>\n",
       "      <th>Evaporation</th>\n",
       "      <th>Sunshine</th>\n",
       "      <th>WindGustSpeed</th>\n",
       "      <th>WindSpeed9am</th>\n",
       "      <th>WindSpeed3pm</th>\n",
       "      <th>Humidity9am</th>\n",
       "      <th>Humidity3pm</th>\n",
       "      <th>Cloud9am</th>\n",
       "      <th>Cloud3pm</th>\n",
       "      <th>RainToday</th>\n",
       "      <th>RainTomorrow</th>\n",
       "      <th>AverageTemp</th>\n",
       "    </tr>\n",
       "    <tr>\n",
       "      <th>WindDir9am</th>\n",
       "      <th></th>\n",
       "      <th></th>\n",
       "      <th></th>\n",
       "      <th></th>\n",
       "      <th></th>\n",
       "      <th></th>\n",
       "      <th></th>\n",
       "      <th></th>\n",
       "      <th></th>\n",
       "      <th></th>\n",
       "      <th></th>\n",
       "      <th></th>\n",
       "      <th></th>\n",
       "    </tr>\n",
       "  </thead>\n",
       "  <tbody>\n",
       "    <tr>\n",
       "      <th>E</th>\n",
       "      <td>1.804089</td>\n",
       "      <td>6.633178</td>\n",
       "      <td>9.641264</td>\n",
       "      <td>36.173792</td>\n",
       "      <td>13.357807</td>\n",
       "      <td>16.419145</td>\n",
       "      <td>61.285316</td>\n",
       "      <td>43.246283</td>\n",
       "      <td>3.098513</td>\n",
       "      <td>3.220260</td>\n",
       "      <td>0.112454</td>\n",
       "      <td>0.114312</td>\n",
       "      <td>32.765335</td>\n",
       "    </tr>\n",
       "    <tr>\n",
       "      <th>ENE</th>\n",
       "      <td>1.935880</td>\n",
       "      <td>6.255252</td>\n",
       "      <td>9.222647</td>\n",
       "      <td>33.667121</td>\n",
       "      <td>11.556617</td>\n",
       "      <td>15.036835</td>\n",
       "      <td>61.885402</td>\n",
       "      <td>45.167804</td>\n",
       "      <td>3.289222</td>\n",
       "      <td>3.425648</td>\n",
       "      <td>0.140518</td>\n",
       "      <td>0.175989</td>\n",
       "      <td>32.495225</td>\n",
       "    </tr>\n",
       "    <tr>\n",
       "      <th>ESE</th>\n",
       "      <td>2.367109</td>\n",
       "      <td>6.541114</td>\n",
       "      <td>9.100398</td>\n",
       "      <td>36.844828</td>\n",
       "      <td>13.238727</td>\n",
       "      <td>16.828912</td>\n",
       "      <td>60.970822</td>\n",
       "      <td>46.001326</td>\n",
       "      <td>3.798408</td>\n",
       "      <td>3.663130</td>\n",
       "      <td>0.183024</td>\n",
       "      <td>0.149867</td>\n",
       "      <td>32.842042</td>\n",
       "    </tr>\n",
       "    <tr>\n",
       "      <th>N</th>\n",
       "      <td>1.664301</td>\n",
       "      <td>4.951148</td>\n",
       "      <td>6.533716</td>\n",
       "      <td>47.545929</td>\n",
       "      <td>20.398747</td>\n",
       "      <td>22.112735</td>\n",
       "      <td>65.965553</td>\n",
       "      <td>52.368476</td>\n",
       "      <td>4.772443</td>\n",
       "      <td>5.263048</td>\n",
       "      <td>0.223382</td>\n",
       "      <td>0.362213</td>\n",
       "      <td>30.209708</td>\n",
       "    </tr>\n",
       "    <tr>\n",
       "      <th>NE</th>\n",
       "      <td>1.571272</td>\n",
       "      <td>5.470451</td>\n",
       "      <td>8.611354</td>\n",
       "      <td>32.663475</td>\n",
       "      <td>10.867305</td>\n",
       "      <td>14.326949</td>\n",
       "      <td>63.547196</td>\n",
       "      <td>46.915185</td>\n",
       "      <td>3.522572</td>\n",
       "      <td>3.709986</td>\n",
       "      <td>0.160055</td>\n",
       "      <td>0.236662</td>\n",
       "      <td>31.548016</td>\n",
       "    </tr>\n",
       "    <tr>\n",
       "      <th>NNE</th>\n",
       "      <td>2.017345</td>\n",
       "      <td>4.878230</td>\n",
       "      <td>7.678053</td>\n",
       "      <td>34.300885</td>\n",
       "      <td>10.012389</td>\n",
       "      <td>15.467257</td>\n",
       "      <td>68.934513</td>\n",
       "      <td>53.686726</td>\n",
       "      <td>4.100885</td>\n",
       "      <td>4.348673</td>\n",
       "      <td>0.191150</td>\n",
       "      <td>0.332743</td>\n",
       "      <td>31.022124</td>\n",
       "    </tr>\n",
       "    <tr>\n",
       "      <th>NNW</th>\n",
       "      <td>3.167974</td>\n",
       "      <td>5.537908</td>\n",
       "      <td>7.201634</td>\n",
       "      <td>40.434641</td>\n",
       "      <td>12.454248</td>\n",
       "      <td>18.049020</td>\n",
       "      <td>67.911765</td>\n",
       "      <td>57.934641</td>\n",
       "      <td>4.803922</td>\n",
       "      <td>4.977124</td>\n",
       "      <td>0.339869</td>\n",
       "      <td>0.356209</td>\n",
       "      <td>31.931373</td>\n",
       "    </tr>\n",
       "    <tr>\n",
       "      <th>NW</th>\n",
       "      <td>4.344118</td>\n",
       "      <td>5.627206</td>\n",
       "      <td>7.466176</td>\n",
       "      <td>39.330882</td>\n",
       "      <td>11.742647</td>\n",
       "      <td>18.125000</td>\n",
       "      <td>67.172794</td>\n",
       "      <td>58.805147</td>\n",
       "      <td>4.886029</td>\n",
       "      <td>4.783088</td>\n",
       "      <td>0.327206</td>\n",
       "      <td>0.349265</td>\n",
       "      <td>31.751103</td>\n",
       "    </tr>\n",
       "    <tr>\n",
       "      <th>NoWind</th>\n",
       "      <td>3.445238</td>\n",
       "      <td>3.393254</td>\n",
       "      <td>6.401984</td>\n",
       "      <td>28.222222</td>\n",
       "      <td>0.000000</td>\n",
       "      <td>11.404762</td>\n",
       "      <td>79.468254</td>\n",
       "      <td>57.730159</td>\n",
       "      <td>4.678571</td>\n",
       "      <td>4.480159</td>\n",
       "      <td>0.353175</td>\n",
       "      <td>0.261905</td>\n",
       "      <td>29.753968</td>\n",
       "    </tr>\n",
       "    <tr>\n",
       "      <th>S</th>\n",
       "      <td>4.385959</td>\n",
       "      <td>5.847945</td>\n",
       "      <td>8.019692</td>\n",
       "      <td>35.554795</td>\n",
       "      <td>10.304795</td>\n",
       "      <td>16.532534</td>\n",
       "      <td>68.950342</td>\n",
       "      <td>55.618151</td>\n",
       "      <td>4.465753</td>\n",
       "      <td>4.073630</td>\n",
       "      <td>0.289384</td>\n",
       "      <td>0.231164</td>\n",
       "      <td>31.571747</td>\n",
       "    </tr>\n",
       "    <tr>\n",
       "      <th>SE</th>\n",
       "      <td>2.333480</td>\n",
       "      <td>6.572357</td>\n",
       "      <td>9.093612</td>\n",
       "      <td>38.573789</td>\n",
       "      <td>14.798458</td>\n",
       "      <td>17.551762</td>\n",
       "      <td>58.034141</td>\n",
       "      <td>43.854626</td>\n",
       "      <td>3.785242</td>\n",
       "      <td>3.591410</td>\n",
       "      <td>0.170705</td>\n",
       "      <td>0.142070</td>\n",
       "      <td>32.654736</td>\n",
       "    </tr>\n",
       "    <tr>\n",
       "      <th>SSE</th>\n",
       "      <td>2.994294</td>\n",
       "      <td>5.926877</td>\n",
       "      <td>8.639039</td>\n",
       "      <td>35.516517</td>\n",
       "      <td>11.054054</td>\n",
       "      <td>16.645646</td>\n",
       "      <td>65.801802</td>\n",
       "      <td>51.382883</td>\n",
       "      <td>4.295796</td>\n",
       "      <td>3.833333</td>\n",
       "      <td>0.259760</td>\n",
       "      <td>0.162162</td>\n",
       "      <td>31.765766</td>\n",
       "    </tr>\n",
       "    <tr>\n",
       "      <th>SSW</th>\n",
       "      <td>2.709760</td>\n",
       "      <td>5.337440</td>\n",
       "      <td>8.083840</td>\n",
       "      <td>31.996800</td>\n",
       "      <td>8.963200</td>\n",
       "      <td>15.016000</td>\n",
       "      <td>67.924800</td>\n",
       "      <td>54.036800</td>\n",
       "      <td>4.281600</td>\n",
       "      <td>3.988800</td>\n",
       "      <td>0.248000</td>\n",
       "      <td>0.185600</td>\n",
       "      <td>31.095680</td>\n",
       "    </tr>\n",
       "    <tr>\n",
       "      <th>SW</th>\n",
       "      <td>2.352522</td>\n",
       "      <td>4.411869</td>\n",
       "      <td>7.566766</td>\n",
       "      <td>29.242334</td>\n",
       "      <td>8.673591</td>\n",
       "      <td>12.460930</td>\n",
       "      <td>68.129575</td>\n",
       "      <td>52.871414</td>\n",
       "      <td>4.007913</td>\n",
       "      <td>4.093966</td>\n",
       "      <td>0.245302</td>\n",
       "      <td>0.195846</td>\n",
       "      <td>30.352028</td>\n",
       "    </tr>\n",
       "    <tr>\n",
       "      <th>W</th>\n",
       "      <td>4.585438</td>\n",
       "      <td>5.000149</td>\n",
       "      <td>7.077563</td>\n",
       "      <td>41.190193</td>\n",
       "      <td>14.356612</td>\n",
       "      <td>19.552749</td>\n",
       "      <td>68.393759</td>\n",
       "      <td>56.001486</td>\n",
       "      <td>4.887073</td>\n",
       "      <td>4.891530</td>\n",
       "      <td>0.392273</td>\n",
       "      <td>0.344725</td>\n",
       "      <td>31.160921</td>\n",
       "    </tr>\n",
       "    <tr>\n",
       "      <th>WNW</th>\n",
       "      <td>7.115040</td>\n",
       "      <td>5.219525</td>\n",
       "      <td>6.824274</td>\n",
       "      <td>40.775726</td>\n",
       "      <td>13.886544</td>\n",
       "      <td>19.361478</td>\n",
       "      <td>70.303430</td>\n",
       "      <td>60.443272</td>\n",
       "      <td>5.110818</td>\n",
       "      <td>5.358839</td>\n",
       "      <td>0.430079</td>\n",
       "      <td>0.430079</td>\n",
       "      <td>32.008443</td>\n",
       "    </tr>\n",
       "    <tr>\n",
       "      <th>WSW</th>\n",
       "      <td>3.472033</td>\n",
       "      <td>4.915962</td>\n",
       "      <td>7.610778</td>\n",
       "      <td>34.306958</td>\n",
       "      <td>11.114598</td>\n",
       "      <td>14.904502</td>\n",
       "      <td>66.466576</td>\n",
       "      <td>53.061392</td>\n",
       "      <td>4.255116</td>\n",
       "      <td>4.252387</td>\n",
       "      <td>0.315143</td>\n",
       "      <td>0.240109</td>\n",
       "      <td>30.582674</td>\n",
       "    </tr>\n",
       "  </tbody>\n",
       "</table>\n",
       "</div>"
      ],
      "text/plain": [
       "            Rainfall  Evaporation  Sunshine  WindGustSpeed  WindSpeed9am  \\\n",
       "WindDir9am                                                                 \n",
       "E           1.804089     6.633178  9.641264      36.173792     13.357807   \n",
       "ENE         1.935880     6.255252  9.222647      33.667121     11.556617   \n",
       "ESE         2.367109     6.541114  9.100398      36.844828     13.238727   \n",
       "N           1.664301     4.951148  6.533716      47.545929     20.398747   \n",
       "NE          1.571272     5.470451  8.611354      32.663475     10.867305   \n",
       "NNE         2.017345     4.878230  7.678053      34.300885     10.012389   \n",
       "NNW         3.167974     5.537908  7.201634      40.434641     12.454248   \n",
       "NW          4.344118     5.627206  7.466176      39.330882     11.742647   \n",
       "NoWind      3.445238     3.393254  6.401984      28.222222      0.000000   \n",
       "S           4.385959     5.847945  8.019692      35.554795     10.304795   \n",
       "SE          2.333480     6.572357  9.093612      38.573789     14.798458   \n",
       "SSE         2.994294     5.926877  8.639039      35.516517     11.054054   \n",
       "SSW         2.709760     5.337440  8.083840      31.996800      8.963200   \n",
       "SW          2.352522     4.411869  7.566766      29.242334      8.673591   \n",
       "W           4.585438     5.000149  7.077563      41.190193     14.356612   \n",
       "WNW         7.115040     5.219525  6.824274      40.775726     13.886544   \n",
       "WSW         3.472033     4.915962  7.610778      34.306958     11.114598   \n",
       "\n",
       "            WindSpeed3pm  Humidity9am  Humidity3pm  Cloud9am  Cloud3pm  \\\n",
       "WindDir9am                                                               \n",
       "E              16.419145    61.285316    43.246283  3.098513  3.220260   \n",
       "ENE            15.036835    61.885402    45.167804  3.289222  3.425648   \n",
       "ESE            16.828912    60.970822    46.001326  3.798408  3.663130   \n",
       "N              22.112735    65.965553    52.368476  4.772443  5.263048   \n",
       "NE             14.326949    63.547196    46.915185  3.522572  3.709986   \n",
       "NNE            15.467257    68.934513    53.686726  4.100885  4.348673   \n",
       "NNW            18.049020    67.911765    57.934641  4.803922  4.977124   \n",
       "NW             18.125000    67.172794    58.805147  4.886029  4.783088   \n",
       "NoWind         11.404762    79.468254    57.730159  4.678571  4.480159   \n",
       "S              16.532534    68.950342    55.618151  4.465753  4.073630   \n",
       "SE             17.551762    58.034141    43.854626  3.785242  3.591410   \n",
       "SSE            16.645646    65.801802    51.382883  4.295796  3.833333   \n",
       "SSW            15.016000    67.924800    54.036800  4.281600  3.988800   \n",
       "SW             12.460930    68.129575    52.871414  4.007913  4.093966   \n",
       "W              19.552749    68.393759    56.001486  4.887073  4.891530   \n",
       "WNW            19.361478    70.303430    60.443272  5.110818  5.358839   \n",
       "WSW            14.904502    66.466576    53.061392  4.255116  4.252387   \n",
       "\n",
       "            RainToday  RainTomorrow  AverageTemp  \n",
       "WindDir9am                                        \n",
       "E            0.112454      0.114312    32.765335  \n",
       "ENE          0.140518      0.175989    32.495225  \n",
       "ESE          0.183024      0.149867    32.842042  \n",
       "N            0.223382      0.362213    30.209708  \n",
       "NE           0.160055      0.236662    31.548016  \n",
       "NNE          0.191150      0.332743    31.022124  \n",
       "NNW          0.339869      0.356209    31.931373  \n",
       "NW           0.327206      0.349265    31.751103  \n",
       "NoWind       0.353175      0.261905    29.753968  \n",
       "S            0.289384      0.231164    31.571747  \n",
       "SE           0.170705      0.142070    32.654736  \n",
       "SSE          0.259760      0.162162    31.765766  \n",
       "SSW          0.248000      0.185600    31.095680  \n",
       "SW           0.245302      0.195846    30.352028  \n",
       "W            0.392273      0.344725    31.160921  \n",
       "WNW          0.430079      0.430079    32.008443  \n",
       "WSW          0.315143      0.240109    30.582674  "
      ]
     },
     "execution_count": 51,
     "metadata": {},
     "output_type": "execute_result"
    }
   ],
   "source": [
    "# mean value of various variables\n",
    "df.groupby(['WindDir9am']).mean()"
   ]
  },
  {
   "cell_type": "markdown",
   "id": "f70716cb",
   "metadata": {},
   "source": [
    "3.8. a) 'WindDir9am' of WNW, N and NNW had the highest rate of 'RainTomorrow' at 43.0%, 36.2% and 35.6% respectively.<br> \n",
    "b) 'WindDir9am' of E, SE and ESE had the lowest rate of 'RainTomorrow' at 11.4%, 14.2% and 15.0% respectively. "
   ]
  },
  {
   "cell_type": "markdown",
   "id": "7f3d7f35",
   "metadata": {},
   "source": [
    "###### 3.9 Rate of 'RainTomorrow' In Terms of 'WindDir3pm'"
   ]
  },
  {
   "cell_type": "code",
   "execution_count": 52,
   "id": "7f185b09",
   "metadata": {},
   "outputs": [
    {
     "data": {
      "text/plain": [
       "<AxesSubplot:xlabel='WindDir3pm', ylabel='count'>"
      ]
     },
     "execution_count": 52,
     "metadata": {},
     "output_type": "execute_result"
    },
    {
     "data": {
      "image/png": "[encoded data removed]",
      "text/plain": [
       "<Figure size 1296x432 with 1 Axes>"
      ]
     },
     "metadata": {
      "needs_background": "light"
     },
     "output_type": "display_data"
    }
   ],
   "source": [
    "# bar chart \n",
    "plt.figure(figsize=(18, 6))\n",
    "sns.countplot(x='WindDir3pm', hue='RainTomorrow', data=df)"
   ]
  },
  {
   "cell_type": "code",
   "execution_count": 53,
   "id": "9921fbbc",
   "metadata": {
    "scrolled": true
   },
   "outputs": [
    {
     "data": {
      "text/html": [
       "<div>\n",
       "<style scoped>\n",
       "    .dataframe tbody tr th:only-of-type {\n",
       "        vertical-align: middle;\n",
       "    }\n",
       "\n",
       "    .dataframe tbody tr th {\n",
       "        vertical-align: top;\n",
       "    }\n",
       "\n",
       "    .dataframe thead th {\n",
       "        text-align: right;\n",
       "    }\n",
       "</style>\n",
       "<table border=\"1\" class=\"dataframe\">\n",
       "  <thead>\n",
       "    <tr style=\"text-align: right;\">\n",
       "      <th></th>\n",
       "      <th>Rainfall</th>\n",
       "      <th>Evaporation</th>\n",
       "      <th>Sunshine</th>\n",
       "      <th>WindGustSpeed</th>\n",
       "      <th>WindSpeed9am</th>\n",
       "      <th>WindSpeed3pm</th>\n",
       "      <th>Humidity9am</th>\n",
       "      <th>Humidity3pm</th>\n",
       "      <th>Cloud9am</th>\n",
       "      <th>Cloud3pm</th>\n",
       "      <th>RainToday</th>\n",
       "      <th>RainTomorrow</th>\n",
       "      <th>AverageTemp</th>\n",
       "    </tr>\n",
       "    <tr>\n",
       "      <th>WindDir3pm</th>\n",
       "      <th></th>\n",
       "      <th></th>\n",
       "      <th></th>\n",
       "      <th></th>\n",
       "      <th></th>\n",
       "      <th></th>\n",
       "      <th></th>\n",
       "      <th></th>\n",
       "      <th></th>\n",
       "      <th></th>\n",
       "      <th></th>\n",
       "      <th></th>\n",
       "      <th></th>\n",
       "    </tr>\n",
       "  </thead>\n",
       "  <tbody>\n",
       "    <tr>\n",
       "      <th>E</th>\n",
       "      <td>1.988049</td>\n",
       "      <td>6.050366</td>\n",
       "      <td>8.616463</td>\n",
       "      <td>34.204878</td>\n",
       "      <td>12.200000</td>\n",
       "      <td>14.898780</td>\n",
       "      <td>62.257317</td>\n",
       "      <td>47.068293</td>\n",
       "      <td>3.935366</td>\n",
       "      <td>3.919512</td>\n",
       "      <td>0.169512</td>\n",
       "      <td>0.156098</td>\n",
       "      <td>32.437805</td>\n",
       "    </tr>\n",
       "    <tr>\n",
       "      <th>ENE</th>\n",
       "      <td>2.207746</td>\n",
       "      <td>5.893897</td>\n",
       "      <td>8.816080</td>\n",
       "      <td>30.627934</td>\n",
       "      <td>9.856808</td>\n",
       "      <td>13.134977</td>\n",
       "      <td>62.469484</td>\n",
       "      <td>49.180751</td>\n",
       "      <td>3.782864</td>\n",
       "      <td>3.525822</td>\n",
       "      <td>0.185446</td>\n",
       "      <td>0.161972</td>\n",
       "      <td>32.207746</td>\n",
       "    </tr>\n",
       "    <tr>\n",
       "      <th>ESE</th>\n",
       "      <td>2.011212</td>\n",
       "      <td>6.197424</td>\n",
       "      <td>8.243788</td>\n",
       "      <td>34.927273</td>\n",
       "      <td>11.846970</td>\n",
       "      <td>14.224242</td>\n",
       "      <td>61.486364</td>\n",
       "      <td>47.059091</td>\n",
       "      <td>4.062121</td>\n",
       "      <td>4.077273</td>\n",
       "      <td>0.181818</td>\n",
       "      <td>0.192424</td>\n",
       "      <td>32.015303</td>\n",
       "    </tr>\n",
       "    <tr>\n",
       "      <th>N</th>\n",
       "      <td>1.653370</td>\n",
       "      <td>5.149931</td>\n",
       "      <td>7.336864</td>\n",
       "      <td>46.250344</td>\n",
       "      <td>18.614856</td>\n",
       "      <td>24.066025</td>\n",
       "      <td>66.836314</td>\n",
       "      <td>49.231087</td>\n",
       "      <td>4.314993</td>\n",
       "      <td>4.624484</td>\n",
       "      <td>0.178817</td>\n",
       "      <td>0.283356</td>\n",
       "      <td>31.308941</td>\n",
       "    </tr>\n",
       "    <tr>\n",
       "      <th>NE</th>\n",
       "      <td>2.244733</td>\n",
       "      <td>5.618726</td>\n",
       "      <td>8.841482</td>\n",
       "      <td>29.566970</td>\n",
       "      <td>8.399220</td>\n",
       "      <td>12.123537</td>\n",
       "      <td>64.543563</td>\n",
       "      <td>52.431730</td>\n",
       "      <td>3.621586</td>\n",
       "      <td>3.587776</td>\n",
       "      <td>0.149545</td>\n",
       "      <td>0.206762</td>\n",
       "      <td>31.998440</td>\n",
       "    </tr>\n",
       "    <tr>\n",
       "      <th>NNE</th>\n",
       "      <td>1.861776</td>\n",
       "      <td>5.540927</td>\n",
       "      <td>8.654633</td>\n",
       "      <td>35.194981</td>\n",
       "      <td>11.714286</td>\n",
       "      <td>15.646718</td>\n",
       "      <td>64.667954</td>\n",
       "      <td>50.295367</td>\n",
       "      <td>3.604247</td>\n",
       "      <td>3.805019</td>\n",
       "      <td>0.158301</td>\n",
       "      <td>0.245174</td>\n",
       "      <td>32.005985</td>\n",
       "    </tr>\n",
       "    <tr>\n",
       "      <th>NNW</th>\n",
       "      <td>2.347033</td>\n",
       "      <td>5.668452</td>\n",
       "      <td>8.282055</td>\n",
       "      <td>39.081042</td>\n",
       "      <td>13.487699</td>\n",
       "      <td>19.675832</td>\n",
       "      <td>68.927641</td>\n",
       "      <td>52.545586</td>\n",
       "      <td>4.053546</td>\n",
       "      <td>4.244573</td>\n",
       "      <td>0.192475</td>\n",
       "      <td>0.286541</td>\n",
       "      <td>33.039508</td>\n",
       "    </tr>\n",
       "    <tr>\n",
       "      <th>NW</th>\n",
       "      <td>3.567841</td>\n",
       "      <td>5.438438</td>\n",
       "      <td>7.943492</td>\n",
       "      <td>39.042879</td>\n",
       "      <td>12.856049</td>\n",
       "      <td>19.075038</td>\n",
       "      <td>69.411945</td>\n",
       "      <td>53.817764</td>\n",
       "      <td>4.306279</td>\n",
       "      <td>4.428790</td>\n",
       "      <td>0.266462</td>\n",
       "      <td>0.352221</td>\n",
       "      <td>32.684686</td>\n",
       "    </tr>\n",
       "    <tr>\n",
       "      <th>NoWind</th>\n",
       "      <td>5.609756</td>\n",
       "      <td>3.034146</td>\n",
       "      <td>3.068293</td>\n",
       "      <td>21.170732</td>\n",
       "      <td>5.048780</td>\n",
       "      <td>0.000000</td>\n",
       "      <td>84.560976</td>\n",
       "      <td>69.048780</td>\n",
       "      <td>5.902439</td>\n",
       "      <td>6.609756</td>\n",
       "      <td>0.439024</td>\n",
       "      <td>0.414634</td>\n",
       "      <td>29.441463</td>\n",
       "    </tr>\n",
       "    <tr>\n",
       "      <th>S</th>\n",
       "      <td>3.251789</td>\n",
       "      <td>4.750596</td>\n",
       "      <td>6.902044</td>\n",
       "      <td>35.691652</td>\n",
       "      <td>12.952300</td>\n",
       "      <td>16.596252</td>\n",
       "      <td>68.325383</td>\n",
       "      <td>52.885860</td>\n",
       "      <td>4.982964</td>\n",
       "      <td>4.572402</td>\n",
       "      <td>0.310051</td>\n",
       "      <td>0.166951</td>\n",
       "      <td>29.521295</td>\n",
       "    </tr>\n",
       "    <tr>\n",
       "      <th>SE</th>\n",
       "      <td>2.879566</td>\n",
       "      <td>6.009403</td>\n",
       "      <td>8.056420</td>\n",
       "      <td>35.889693</td>\n",
       "      <td>12.627486</td>\n",
       "      <td>14.135624</td>\n",
       "      <td>61.795660</td>\n",
       "      <td>45.589512</td>\n",
       "      <td>3.967450</td>\n",
       "      <td>3.925859</td>\n",
       "      <td>0.211573</td>\n",
       "      <td>0.197107</td>\n",
       "      <td>31.622061</td>\n",
       "    </tr>\n",
       "    <tr>\n",
       "      <th>SSE</th>\n",
       "      <td>2.825513</td>\n",
       "      <td>5.176082</td>\n",
       "      <td>7.350797</td>\n",
       "      <td>35.678815</td>\n",
       "      <td>12.892938</td>\n",
       "      <td>15.603645</td>\n",
       "      <td>66.521640</td>\n",
       "      <td>49.430524</td>\n",
       "      <td>4.514806</td>\n",
       "      <td>4.321185</td>\n",
       "      <td>0.255125</td>\n",
       "      <td>0.159453</td>\n",
       "      <td>30.148064</td>\n",
       "    </tr>\n",
       "    <tr>\n",
       "      <th>SSW</th>\n",
       "      <td>2.201328</td>\n",
       "      <td>5.803984</td>\n",
       "      <td>8.667995</td>\n",
       "      <td>35.342629</td>\n",
       "      <td>11.163347</td>\n",
       "      <td>15.798141</td>\n",
       "      <td>64.660027</td>\n",
       "      <td>51.227092</td>\n",
       "      <td>3.717131</td>\n",
       "      <td>3.575033</td>\n",
       "      <td>0.209827</td>\n",
       "      <td>0.136786</td>\n",
       "      <td>30.176228</td>\n",
       "    </tr>\n",
       "    <tr>\n",
       "      <th>SW</th>\n",
       "      <td>2.336878</td>\n",
       "      <td>5.908824</td>\n",
       "      <td>8.991516</td>\n",
       "      <td>36.341629</td>\n",
       "      <td>11.176471</td>\n",
       "      <td>16.783937</td>\n",
       "      <td>62.485294</td>\n",
       "      <td>49.894796</td>\n",
       "      <td>3.567873</td>\n",
       "      <td>3.528281</td>\n",
       "      <td>0.234163</td>\n",
       "      <td>0.130090</td>\n",
       "      <td>30.441629</td>\n",
       "    </tr>\n",
       "    <tr>\n",
       "      <th>W</th>\n",
       "      <td>4.751804</td>\n",
       "      <td>4.931572</td>\n",
       "      <td>7.262371</td>\n",
       "      <td>38.212629</td>\n",
       "      <td>12.523196</td>\n",
       "      <td>16.451031</td>\n",
       "      <td>65.891753</td>\n",
       "      <td>51.791237</td>\n",
       "      <td>4.380155</td>\n",
       "      <td>4.595361</td>\n",
       "      <td>0.363402</td>\n",
       "      <td>0.337629</td>\n",
       "      <td>30.951804</td>\n",
       "    </tr>\n",
       "    <tr>\n",
       "      <th>WNW</th>\n",
       "      <td>4.248436</td>\n",
       "      <td>5.301390</td>\n",
       "      <td>7.718772</td>\n",
       "      <td>39.314021</td>\n",
       "      <td>12.614137</td>\n",
       "      <td>19.867903</td>\n",
       "      <td>70.892236</td>\n",
       "      <td>56.710313</td>\n",
       "      <td>4.706837</td>\n",
       "      <td>4.800695</td>\n",
       "      <td>0.345307</td>\n",
       "      <td>0.392816</td>\n",
       "      <td>33.056547</td>\n",
       "    </tr>\n",
       "    <tr>\n",
       "      <th>WSW</th>\n",
       "      <td>3.733438</td>\n",
       "      <td>5.196094</td>\n",
       "      <td>7.632969</td>\n",
       "      <td>37.128125</td>\n",
       "      <td>12.335938</td>\n",
       "      <td>16.184375</td>\n",
       "      <td>65.221875</td>\n",
       "      <td>51.346875</td>\n",
       "      <td>4.281250</td>\n",
       "      <td>4.371875</td>\n",
       "      <td>0.337500</td>\n",
       "      <td>0.271875</td>\n",
       "      <td>30.357500</td>\n",
       "    </tr>\n",
       "  </tbody>\n",
       "</table>\n",
       "</div>"
      ],
      "text/plain": [
       "            Rainfall  Evaporation  Sunshine  WindGustSpeed  WindSpeed9am  \\\n",
       "WindDir3pm                                                                 \n",
       "E           1.988049     6.050366  8.616463      34.204878     12.200000   \n",
       "ENE         2.207746     5.893897  8.816080      30.627934      9.856808   \n",
       "ESE         2.011212     6.197424  8.243788      34.927273     11.846970   \n",
       "N           1.653370     5.149931  7.336864      46.250344     18.614856   \n",
       "NE          2.244733     5.618726  8.841482      29.566970      8.399220   \n",
       "NNE         1.861776     5.540927  8.654633      35.194981     11.714286   \n",
       "NNW         2.347033     5.668452  8.282055      39.081042     13.487699   \n",
       "NW          3.567841     5.438438  7.943492      39.042879     12.856049   \n",
       "NoWind      5.609756     3.034146  3.068293      21.170732      5.048780   \n",
       "S           3.251789     4.750596  6.902044      35.691652     12.952300   \n",
       "SE          2.879566     6.009403  8.056420      35.889693     12.627486   \n",
       "SSE         2.825513     5.176082  7.350797      35.678815     12.892938   \n",
       "SSW         2.201328     5.803984  8.667995      35.342629     11.163347   \n",
       "SW          2.336878     5.908824  8.991516      36.341629     11.176471   \n",
       "W           4.751804     4.931572  7.262371      38.212629     12.523196   \n",
       "WNW         4.248436     5.301390  7.718772      39.314021     12.614137   \n",
       "WSW         3.733438     5.196094  7.632969      37.128125     12.335938   \n",
       "\n",
       "            WindSpeed3pm  Humidity9am  Humidity3pm  Cloud9am  Cloud3pm  \\\n",
       "WindDir3pm                                                               \n",
       "E              14.898780    62.257317    47.068293  3.935366  3.919512   \n",
       "ENE            13.134977    62.469484    49.180751  3.782864  3.525822   \n",
       "ESE            14.224242    61.486364    47.059091  4.062121  4.077273   \n",
       "N              24.066025    66.836314    49.231087  4.314993  4.624484   \n",
       "NE             12.123537    64.543563    52.431730  3.621586  3.587776   \n",
       "NNE            15.646718    64.667954    50.295367  3.604247  3.805019   \n",
       "NNW            19.675832    68.927641    52.545586  4.053546  4.244573   \n",
       "NW             19.075038    69.411945    53.817764  4.306279  4.428790   \n",
       "NoWind          0.000000    84.560976    69.048780  5.902439  6.609756   \n",
       "S              16.596252    68.325383    52.885860  4.982964  4.572402   \n",
       "SE             14.135624    61.795660    45.589512  3.967450  3.925859   \n",
       "SSE            15.603645    66.521640    49.430524  4.514806  4.321185   \n",
       "SSW            15.798141    64.660027    51.227092  3.717131  3.575033   \n",
       "SW             16.783937    62.485294    49.894796  3.567873  3.528281   \n",
       "W              16.451031    65.891753    51.791237  4.380155  4.595361   \n",
       "WNW            19.867903    70.892236    56.710313  4.706837  4.800695   \n",
       "WSW            16.184375    65.221875    51.346875  4.281250  4.371875   \n",
       "\n",
       "            RainToday  RainTomorrow  AverageTemp  \n",
       "WindDir3pm                                        \n",
       "E            0.169512      0.156098    32.437805  \n",
       "ENE          0.185446      0.161972    32.207746  \n",
       "ESE          0.181818      0.192424    32.015303  \n",
       "N            0.178817      0.283356    31.308941  \n",
       "NE           0.149545      0.206762    31.998440  \n",
       "NNE          0.158301      0.245174    32.005985  \n",
       "NNW          0.192475      0.286541    33.039508  \n",
       "NW           0.266462      0.352221    32.684686  \n",
       "NoWind       0.439024      0.414634    29.441463  \n",
       "S            0.310051      0.166951    29.521295  \n",
       "SE           0.211573      0.197107    31.622061  \n",
       "SSE          0.255125      0.159453    30.148064  \n",
       "SSW          0.209827      0.136786    30.176228  \n",
       "SW           0.234163      0.130090    30.441629  \n",
       "W            0.363402      0.337629    30.951804  \n",
       "WNW          0.345307      0.392816    33.056547  \n",
       "WSW          0.337500      0.271875    30.357500  "
      ]
     },
     "execution_count": 53,
     "metadata": {},
     "output_type": "execute_result"
    }
   ],
   "source": [
    "# mean value of various variables\n",
    "df.groupby(['WindDir3pm']).mean()"
   ]
  },
  {
   "cell_type": "markdown",
   "id": "a6a972d0",
   "metadata": {},
   "source": [
    "3.9. a) 'WindDir3pm' of NoWind, WNW and NW had the highest rate of 'RainTomorrow' at 41.5%, 39.3% and 35.2% respectively.<br> \n",
    "b) 'WindDir3pm' of SW, SSW and E had the lowest rate of 'RainTomorrow' at 13.0%, 13.7% and 15.6% respectively. "
   ]
  },
  {
   "cell_type": "markdown",
   "id": "4fcad247",
   "metadata": {},
   "source": [
    "###### 3.10 Rate of 'RainTomorrow' In Terms of ' WindSpeed9am'"
   ]
  },
  {
   "cell_type": "code",
   "execution_count": 54,
   "id": "20898b94",
   "metadata": {},
   "outputs": [
    {
     "data": {
      "text/plain": [
       "<AxesSubplot:xlabel='Count', ylabel='WindSpeed9am'>"
      ]
     },
     "execution_count": 54,
     "metadata": {},
     "output_type": "execute_result"
    },
    {
     "data": {
      "image/png": "[encoded data removed]",
      "text/plain": [
       "<Figure size 1296x288 with 1 Axes>"
      ]
     },
     "metadata": {
      "needs_background": "light"
     },
     "output_type": "display_data"
    }
   ],
   "source": [
    "# histogram\n",
    "plt.figure(figsize=(18, 4))\n",
    "sns.histplot(data=df, y='WindSpeed9am', hue='RainTomorrow', stat='count', binwidth=10, multiple='stack')"
   ]
  },
  {
   "cell_type": "code",
   "execution_count": 55,
   "id": "9fe6ee53",
   "metadata": {
    "scrolled": false
   },
   "outputs": [
    {
     "data": {
      "text/plain": [
       "<AxesSubplot:xlabel='RainTomorrow', ylabel='WindSpeed9am'>"
      ]
     },
     "execution_count": 55,
     "metadata": {},
     "output_type": "execute_result"
    },
    {
     "data": {
      "image/png": "[encoded data removed]",
      "text/plain": [
       "<Figure size 432x432 with 1 Axes>"
      ]
     },
     "metadata": {
      "needs_background": "light"
     },
     "output_type": "display_data"
    }
   ],
   "source": [
    "# box plot\n",
    "plt.figure(figsize=(6, 6))\n",
    "sns.boxplot(data=df, x='RainTomorrow', y='WindSpeed9am')"
   ]
  },
  {
   "cell_type": "markdown",
   "id": "213c103b",
   "metadata": {},
   "source": [
    "3.10. a) Most of the days had 'WindSpeed9am' of 0km/h to 20km/h.<br>\n",
    "b) Days that had rained the next day ('RainTomorrow') had similar 'WindSpeed9am' median as days that had not rained the next day. "
   ]
  },
  {
   "cell_type": "markdown",
   "id": "c88e06b2",
   "metadata": {},
   "source": [
    "###### 3.11 Rate of 'RainTomorrow' In Terms of 'WindSpeed3pm'"
   ]
  },
  {
   "cell_type": "code",
   "execution_count": 56,
   "id": "df2ada4d",
   "metadata": {},
   "outputs": [
    {
     "data": {
      "text/plain": [
       "<AxesSubplot:xlabel='Count', ylabel='WindSpeed3pm'>"
      ]
     },
     "execution_count": 56,
     "metadata": {},
     "output_type": "execute_result"
    },
    {
     "data": {
      "image/png": "[encoded data removed]",
      "text/plain": [
       "<Figure size 1296x288 with 1 Axes>"
      ]
     },
     "metadata": {
      "needs_background": "light"
     },
     "output_type": "display_data"
    }
   ],
   "source": [
    "# histogram\n",
    "plt.figure(figsize=(18, 4))\n",
    "sns.histplot(data=df, y='WindSpeed3pm', hue='RainTomorrow', stat='count', binwidth=10, multiple='stack')"
   ]
  },
  {
   "cell_type": "code",
   "execution_count": 57,
   "id": "772a7609",
   "metadata": {
    "scrolled": false
   },
   "outputs": [
    {
     "data": {
      "text/plain": [
       "<AxesSubplot:xlabel='RainTomorrow', ylabel='WindSpeed3pm'>"
      ]
     },
     "execution_count": 57,
     "metadata": {},
     "output_type": "execute_result"
    },
    {
     "data": {
      "image/png": "[encoded data removed]",
      "text/plain": [
       "<Figure size 432x432 with 1 Axes>"
      ]
     },
     "metadata": {
      "needs_background": "light"
     },
     "output_type": "display_data"
    }
   ],
   "source": [
    "# box plot\n",
    "plt.figure(figsize=(6, 6))\n",
    "sns.boxplot(data=df, x='RainTomorrow', y='WindSpeed3pm')"
   ]
  },
  {
   "cell_type": "markdown",
   "id": "40d2a5fe",
   "metadata": {},
   "source": [
    "3.11. a) Most of the days had 'WindSpeed3pm' of 0km/h to 30km/h.<br>\n",
    "b) Days that had rained the next day ('RainTomorrow') had similar 'WindSpeed3pm' median as days that had not rained the next day. "
   ]
  },
  {
   "cell_type": "markdown",
   "id": "9294cad1",
   "metadata": {},
   "source": [
    "###### 3.12 Rate of 'RainTomorrow' In Terms of 'Humidity9am'"
   ]
  },
  {
   "cell_type": "code",
   "execution_count": 58,
   "id": "54a0173e",
   "metadata": {},
   "outputs": [
    {
     "data": {
      "text/plain": [
       "<AxesSubplot:xlabel='Count', ylabel='Humidity9am'>"
      ]
     },
     "execution_count": 58,
     "metadata": {},
     "output_type": "execute_result"
    },
    {
     "data": {
      "image/png": "[encoded data removed]",
      "text/plain": [
       "<Figure size 1296x288 with 1 Axes>"
      ]
     },
     "metadata": {
      "needs_background": "light"
     },
     "output_type": "display_data"
    }
   ],
   "source": [
    "# histogram\n",
    "plt.figure(figsize=(18, 4))\n",
    "sns.histplot(data=df, y='Humidity9am', hue='RainTomorrow', stat='count', binwidth=10, multiple='stack')"
   ]
  },
  {
   "cell_type": "code",
   "execution_count": 59,
   "id": "51103509",
   "metadata": {},
   "outputs": [
    {
     "data": {
      "text/plain": [
       "<AxesSubplot:xlabel='RainTomorrow', ylabel='Humidity9am'>"
      ]
     },
     "execution_count": 59,
     "metadata": {},
     "output_type": "execute_result"
    },
    {
     "data": {
      "image/png": "[encoded data removed]",
      "text/plain": [
       "<Figure size 432x432 with 1 Axes>"
      ]
     },
     "metadata": {
      "needs_background": "light"
     },
     "output_type": "display_data"
    }
   ],
   "source": [
    "# box plot\n",
    "plt.figure(figsize=(6, 6))\n",
    "sns.boxplot(data=df, x='RainTomorrow', y='Humidity9am')"
   ]
  },
  {
   "cell_type": "markdown",
   "id": "3b6c554f",
   "metadata": {},
   "source": [
    "3.12. a) Most of the days had 'Humidity9am' of 40% to 90%.<br>\n",
    "b) Days with 'Humidity9am' of more than 90% had higher proportion of rain the next day ('RainTomorrow').<br>\n",
    "c) Days that had rained the next day ('RainTomorrow') had a higher 'Humidity9am' median."
   ]
  },
  {
   "cell_type": "markdown",
   "id": "953f72f3",
   "metadata": {},
   "source": [
    "###### 3.13 Rate of 'RainTomorrow' In Terms of 'Humidity3pm'"
   ]
  },
  {
   "cell_type": "code",
   "execution_count": 60,
   "id": "62b7f1b7",
   "metadata": {},
   "outputs": [
    {
     "data": {
      "text/plain": [
       "<AxesSubplot:xlabel='Count', ylabel='Humidity3pm'>"
      ]
     },
     "execution_count": 60,
     "metadata": {},
     "output_type": "execute_result"
    },
    {
     "data": {
      "image/png": "[encoded data removed]",
      "text/plain": [
       "<Figure size 1296x288 with 1 Axes>"
      ]
     },
     "metadata": {
      "needs_background": "light"
     },
     "output_type": "display_data"
    }
   ],
   "source": [
    "# histogram\n",
    "plt.figure(figsize=(18, 4))\n",
    "sns.histplot(data=df, y='Humidity3pm', hue='RainTomorrow', stat='count', binwidth=10, multiple='stack')"
   ]
  },
  {
   "cell_type": "code",
   "execution_count": 61,
   "id": "815b4041",
   "metadata": {},
   "outputs": [
    {
     "data": {
      "text/plain": [
       "<AxesSubplot:xlabel='RainTomorrow', ylabel='Humidity3pm'>"
      ]
     },
     "execution_count": 61,
     "metadata": {},
     "output_type": "execute_result"
    },
    {
     "data": {
      "image/png": "[encoded data removed]",
      "text/plain": [
       "<Figure size 432x432 with 1 Axes>"
      ]
     },
     "metadata": {
      "needs_background": "light"
     },
     "output_type": "display_data"
    }
   ],
   "source": [
    "# box plot\n",
    "plt.figure(figsize=(6, 6))\n",
    "sns.boxplot(data=df, x='RainTomorrow', y='Humidity3pm')"
   ]
  },
  {
   "cell_type": "markdown",
   "id": "30de5e83",
   "metadata": {},
   "source": [
    "3.13. a) Most of the days had 'Humidity3pm' of 30% to 80%.<br>\n",
    "b) Days with 'Humidity3pm' of more than 70% had higher proportion of rain the next day ('RainTomorrow').<br>\n",
    "c) Days that had rained the next day ('RainTomorrow') had a higher 'Humidity3pm' median."
   ]
  },
  {
   "cell_type": "markdown",
   "id": "56feafec",
   "metadata": {},
   "source": [
    "###### 3.14 Rate of 'RainTomorrow' In Terms of 'Pressure9am'"
   ]
  },
  {
   "cell_type": "code",
   "execution_count": 62,
   "id": "30fe322c",
   "metadata": {},
   "outputs": [
    {
     "data": {
      "text/plain": [
       "<AxesSubplot:xlabel='Pressure9am', ylabel='count'>"
      ]
     },
     "execution_count": 62,
     "metadata": {},
     "output_type": "execute_result"
    },
    {
     "data": {
      "image/png": "[encoded data removed]",
      "text/plain": [
       "<Figure size 648x360 with 1 Axes>"
      ]
     },
     "metadata": {
      "needs_background": "light"
     },
     "output_type": "display_data"
    }
   ],
   "source": [
    "# bar chart \n",
    "plt.figure(figsize=(9, 5))\n",
    "sns.countplot(x='Pressure9am', hue='RainTomorrow', data=df)"
   ]
  },
  {
   "cell_type": "code",
   "execution_count": 63,
   "id": "1bf91c72",
   "metadata": {},
   "outputs": [
    {
     "data": {
      "text/html": [
       "<div>\n",
       "<style scoped>\n",
       "    .dataframe tbody tr th:only-of-type {\n",
       "        vertical-align: middle;\n",
       "    }\n",
       "\n",
       "    .dataframe tbody tr th {\n",
       "        vertical-align: top;\n",
       "    }\n",
       "\n",
       "    .dataframe thead th {\n",
       "        text-align: right;\n",
       "    }\n",
       "</style>\n",
       "<table border=\"1\" class=\"dataframe\">\n",
       "  <thead>\n",
       "    <tr style=\"text-align: right;\">\n",
       "      <th></th>\n",
       "      <th>Rainfall</th>\n",
       "      <th>Evaporation</th>\n",
       "      <th>Sunshine</th>\n",
       "      <th>WindGustSpeed</th>\n",
       "      <th>WindSpeed9am</th>\n",
       "      <th>WindSpeed3pm</th>\n",
       "      <th>Humidity9am</th>\n",
       "      <th>Humidity3pm</th>\n",
       "      <th>Cloud9am</th>\n",
       "      <th>Cloud3pm</th>\n",
       "      <th>RainToday</th>\n",
       "      <th>RainTomorrow</th>\n",
       "      <th>AverageTemp</th>\n",
       "    </tr>\n",
       "    <tr>\n",
       "      <th>Pressure9am</th>\n",
       "      <th></th>\n",
       "      <th></th>\n",
       "      <th></th>\n",
       "      <th></th>\n",
       "      <th></th>\n",
       "      <th></th>\n",
       "      <th></th>\n",
       "      <th></th>\n",
       "      <th></th>\n",
       "      <th></th>\n",
       "      <th></th>\n",
       "      <th></th>\n",
       "      <th></th>\n",
       "    </tr>\n",
       "  </thead>\n",
       "  <tbody>\n",
       "    <tr>\n",
       "      <th>HIGH</th>\n",
       "      <td>1.044880</td>\n",
       "      <td>3.643094</td>\n",
       "      <td>7.781656</td>\n",
       "      <td>29.651852</td>\n",
       "      <td>9.463617</td>\n",
       "      <td>12.660566</td>\n",
       "      <td>68.155991</td>\n",
       "      <td>49.127233</td>\n",
       "      <td>3.568192</td>\n",
       "      <td>3.707190</td>\n",
       "      <td>0.158170</td>\n",
       "      <td>0.109804</td>\n",
       "      <td>28.726841</td>\n",
       "    </tr>\n",
       "    <tr>\n",
       "      <th>LOW</th>\n",
       "      <td>7.348041</td>\n",
       "      <td>6.113619</td>\n",
       "      <td>6.656576</td>\n",
       "      <td>44.319963</td>\n",
       "      <td>15.038713</td>\n",
       "      <td>20.146922</td>\n",
       "      <td>70.390858</td>\n",
       "      <td>61.045709</td>\n",
       "      <td>5.531716</td>\n",
       "      <td>5.659515</td>\n",
       "      <td>0.465485</td>\n",
       "      <td>0.499534</td>\n",
       "      <td>33.240485</td>\n",
       "    </tr>\n",
       "    <tr>\n",
       "      <th>MED</th>\n",
       "      <td>1.910830</td>\n",
       "      <td>6.017047</td>\n",
       "      <td>8.682805</td>\n",
       "      <td>36.043171</td>\n",
       "      <td>12.269338</td>\n",
       "      <td>16.639605</td>\n",
       "      <td>62.933107</td>\n",
       "      <td>48.180934</td>\n",
       "      <td>3.828054</td>\n",
       "      <td>3.760866</td>\n",
       "      <td>0.188596</td>\n",
       "      <td>0.188154</td>\n",
       "      <td>31.967246</td>\n",
       "    </tr>\n",
       "  </tbody>\n",
       "</table>\n",
       "</div>"
      ],
      "text/plain": [
       "             Rainfall  Evaporation  Sunshine  WindGustSpeed  WindSpeed9am  \\\n",
       "Pressure9am                                                                 \n",
       "HIGH         1.044880     3.643094  7.781656      29.651852      9.463617   \n",
       "LOW          7.348041     6.113619  6.656576      44.319963     15.038713   \n",
       "MED          1.910830     6.017047  8.682805      36.043171     12.269338   \n",
       "\n",
       "             WindSpeed3pm  Humidity9am  Humidity3pm  Cloud9am  Cloud3pm  \\\n",
       "Pressure9am                                                               \n",
       "HIGH            12.660566    68.155991    49.127233  3.568192  3.707190   \n",
       "LOW             20.146922    70.390858    61.045709  5.531716  5.659515   \n",
       "MED             16.639605    62.933107    48.180934  3.828054  3.760866   \n",
       "\n",
       "             RainToday  RainTomorrow  AverageTemp  \n",
       "Pressure9am                                        \n",
       "HIGH          0.158170      0.109804    28.726841  \n",
       "LOW           0.465485      0.499534    33.240485  \n",
       "MED           0.188596      0.188154    31.967246  "
      ]
     },
     "execution_count": 63,
     "metadata": {},
     "output_type": "execute_result"
    }
   ],
   "source": [
    "# mean value of various variables\n",
    "df.groupby(['Pressure9am']).mean()"
   ]
  },
  {
   "cell_type": "markdown",
   "id": "e09c3f48",
   "metadata": {},
   "source": [
    "3.14. a) 'Pressure9am' of LOW had the highest rate of 'RainTomorrow' at 49.9%.<br>\n",
    "b) 'Pressure9am' of HIGH had the lowest rate of 'RainTomorrow' at 11.0%."
   ]
  },
  {
   "cell_type": "markdown",
   "id": "fe296415",
   "metadata": {},
   "source": [
    "###### 3.15 Rate of 'RainTomorrow' In Terms of 'Pressure3pm'"
   ]
  },
  {
   "cell_type": "code",
   "execution_count": 64,
   "id": "894086f5",
   "metadata": {},
   "outputs": [
    {
     "data": {
      "text/plain": [
       "<AxesSubplot:xlabel='Pressure3pm', ylabel='count'>"
      ]
     },
     "execution_count": 64,
     "metadata": {},
     "output_type": "execute_result"
    },
    {
     "data": {
      "image/png": "[encoded data removed]",
      "text/plain": [
       "<Figure size 648x360 with 1 Axes>"
      ]
     },
     "metadata": {
      "needs_background": "light"
     },
     "output_type": "display_data"
    }
   ],
   "source": [
    "# bar chart \n",
    "plt.figure(figsize=(9, 5))\n",
    "sns.countplot(x='Pressure3pm', hue='RainTomorrow', data=df)"
   ]
  },
  {
   "cell_type": "code",
   "execution_count": 65,
   "id": "7be1e0c4",
   "metadata": {
    "scrolled": true
   },
   "outputs": [
    {
     "data": {
      "text/html": [
       "<div>\n",
       "<style scoped>\n",
       "    .dataframe tbody tr th:only-of-type {\n",
       "        vertical-align: middle;\n",
       "    }\n",
       "\n",
       "    .dataframe tbody tr th {\n",
       "        vertical-align: top;\n",
       "    }\n",
       "\n",
       "    .dataframe thead th {\n",
       "        text-align: right;\n",
       "    }\n",
       "</style>\n",
       "<table border=\"1\" class=\"dataframe\">\n",
       "  <thead>\n",
       "    <tr style=\"text-align: right;\">\n",
       "      <th></th>\n",
       "      <th>Rainfall</th>\n",
       "      <th>Evaporation</th>\n",
       "      <th>Sunshine</th>\n",
       "      <th>WindGustSpeed</th>\n",
       "      <th>WindSpeed9am</th>\n",
       "      <th>WindSpeed3pm</th>\n",
       "      <th>Humidity9am</th>\n",
       "      <th>Humidity3pm</th>\n",
       "      <th>Cloud9am</th>\n",
       "      <th>Cloud3pm</th>\n",
       "      <th>RainToday</th>\n",
       "      <th>RainTomorrow</th>\n",
       "      <th>AverageTemp</th>\n",
       "    </tr>\n",
       "    <tr>\n",
       "      <th>Pressure3pm</th>\n",
       "      <th></th>\n",
       "      <th></th>\n",
       "      <th></th>\n",
       "      <th></th>\n",
       "      <th></th>\n",
       "      <th></th>\n",
       "      <th></th>\n",
       "      <th></th>\n",
       "      <th></th>\n",
       "      <th></th>\n",
       "      <th></th>\n",
       "      <th></th>\n",
       "      <th></th>\n",
       "    </tr>\n",
       "  </thead>\n",
       "  <tbody>\n",
       "    <tr>\n",
       "      <th>HIGH</th>\n",
       "      <td>1.368263</td>\n",
       "      <td>3.614371</td>\n",
       "      <td>7.521600</td>\n",
       "      <td>30.536356</td>\n",
       "      <td>9.910607</td>\n",
       "      <td>13.189050</td>\n",
       "      <td>68.757485</td>\n",
       "      <td>50.274594</td>\n",
       "      <td>3.810522</td>\n",
       "      <td>3.949957</td>\n",
       "      <td>0.202310</td>\n",
       "      <td>0.116766</td>\n",
       "      <td>28.636655</td>\n",
       "    </tr>\n",
       "    <tr>\n",
       "      <th>LOW</th>\n",
       "      <td>6.626601</td>\n",
       "      <td>6.157206</td>\n",
       "      <td>7.103203</td>\n",
       "      <td>43.040480</td>\n",
       "      <td>14.399911</td>\n",
       "      <td>20.068950</td>\n",
       "      <td>70.321619</td>\n",
       "      <td>59.208185</td>\n",
       "      <td>5.263345</td>\n",
       "      <td>5.372776</td>\n",
       "      <td>0.418149</td>\n",
       "      <td>0.463523</td>\n",
       "      <td>33.757251</td>\n",
       "    </tr>\n",
       "    <tr>\n",
       "      <th>MED</th>\n",
       "      <td>1.961657</td>\n",
       "      <td>6.026265</td>\n",
       "      <td>8.660738</td>\n",
       "      <td>36.076657</td>\n",
       "      <td>12.303012</td>\n",
       "      <td>16.450753</td>\n",
       "      <td>62.594127</td>\n",
       "      <td>48.191416</td>\n",
       "      <td>3.808584</td>\n",
       "      <td>3.743072</td>\n",
       "      <td>0.184940</td>\n",
       "      <td>0.193524</td>\n",
       "      <td>31.825090</td>\n",
       "    </tr>\n",
       "  </tbody>\n",
       "</table>\n",
       "</div>"
      ],
      "text/plain": [
       "             Rainfall  Evaporation  Sunshine  WindGustSpeed  WindSpeed9am  \\\n",
       "Pressure3pm                                                                 \n",
       "HIGH         1.368263     3.614371  7.521600      30.536356      9.910607   \n",
       "LOW          6.626601     6.157206  7.103203      43.040480     14.399911   \n",
       "MED          1.961657     6.026265  8.660738      36.076657     12.303012   \n",
       "\n",
       "             WindSpeed3pm  Humidity9am  Humidity3pm  Cloud9am  Cloud3pm  \\\n",
       "Pressure3pm                                                               \n",
       "HIGH            13.189050    68.757485    50.274594  3.810522  3.949957   \n",
       "LOW             20.068950    70.321619    59.208185  5.263345  5.372776   \n",
       "MED             16.450753    62.594127    48.191416  3.808584  3.743072   \n",
       "\n",
       "             RainToday  RainTomorrow  AverageTemp  \n",
       "Pressure3pm                                        \n",
       "HIGH          0.202310      0.116766    28.636655  \n",
       "LOW           0.418149      0.463523    33.757251  \n",
       "MED           0.184940      0.193524    31.825090  "
      ]
     },
     "execution_count": 65,
     "metadata": {},
     "output_type": "execute_result"
    }
   ],
   "source": [
    "# mean value of various variables\n",
    "df.groupby(['Pressure3pm']).mean()"
   ]
  },
  {
   "cell_type": "markdown",
   "id": "138c2abb",
   "metadata": {},
   "source": [
    "3.15. a) 'Pressure3pm' of LOW had the highest rate of 'RainTomorrow' at 46.4%.<br>\n",
    "b) 'Pressure3pm' of HIGH had the lowest rate of 'RainTomorrow' at 11.7%."
   ]
  },
  {
   "cell_type": "markdown",
   "id": "97f90cfe",
   "metadata": {},
   "source": [
    "###### 3.16 Rate of 'RainTomorrow' In Terms of 'Cloud9am'"
   ]
  },
  {
   "cell_type": "code",
   "execution_count": 66,
   "id": "9e1d4e22",
   "metadata": {},
   "outputs": [
    {
     "data": {
      "text/plain": [
       "<AxesSubplot:xlabel='Cloud9am', ylabel='count'>"
      ]
     },
     "execution_count": 66,
     "metadata": {},
     "output_type": "execute_result"
    },
    {
     "data": {
      "image/png": "[encoded data removed]",
      "text/plain": [
       "<Figure size 1296x432 with 1 Axes>"
      ]
     },
     "metadata": {
      "needs_background": "light"
     },
     "output_type": "display_data"
    }
   ],
   "source": [
    "# bar chart \n",
    "plt.figure(figsize=(18, 6))\n",
    "sns.countplot(x='Cloud9am', hue='RainTomorrow', data=df)"
   ]
  },
  {
   "cell_type": "code",
   "execution_count": 67,
   "id": "ecc8430b",
   "metadata": {
    "scrolled": true
   },
   "outputs": [
    {
     "data": {
      "text/html": [
       "<div>\n",
       "<style scoped>\n",
       "    .dataframe tbody tr th:only-of-type {\n",
       "        vertical-align: middle;\n",
       "    }\n",
       "\n",
       "    .dataframe tbody tr th {\n",
       "        vertical-align: top;\n",
       "    }\n",
       "\n",
       "    .dataframe thead th {\n",
       "        text-align: right;\n",
       "    }\n",
       "</style>\n",
       "<table border=\"1\" class=\"dataframe\">\n",
       "  <thead>\n",
       "    <tr style=\"text-align: right;\">\n",
       "      <th></th>\n",
       "      <th>Rainfall</th>\n",
       "      <th>Evaporation</th>\n",
       "      <th>Sunshine</th>\n",
       "      <th>WindGustSpeed</th>\n",
       "      <th>WindSpeed9am</th>\n",
       "      <th>WindSpeed3pm</th>\n",
       "      <th>Humidity9am</th>\n",
       "      <th>Humidity3pm</th>\n",
       "      <th>Cloud3pm</th>\n",
       "      <th>RainToday</th>\n",
       "      <th>RainTomorrow</th>\n",
       "      <th>AverageTemp</th>\n",
       "    </tr>\n",
       "    <tr>\n",
       "      <th>Cloud9am</th>\n",
       "      <th></th>\n",
       "      <th></th>\n",
       "      <th></th>\n",
       "      <th></th>\n",
       "      <th></th>\n",
       "      <th></th>\n",
       "      <th></th>\n",
       "      <th></th>\n",
       "      <th></th>\n",
       "      <th></th>\n",
       "      <th></th>\n",
       "      <th></th>\n",
       "    </tr>\n",
       "  </thead>\n",
       "  <tbody>\n",
       "    <tr>\n",
       "      <th>0.0</th>\n",
       "      <td>0.082800</td>\n",
       "      <td>6.719600</td>\n",
       "      <td>11.197200</td>\n",
       "      <td>33.883000</td>\n",
       "      <td>11.456000</td>\n",
       "      <td>14.695000</td>\n",
       "      <td>52.028000</td>\n",
       "      <td>33.802000</td>\n",
       "      <td>0.877000</td>\n",
       "      <td>0.017000</td>\n",
       "      <td>0.020000</td>\n",
       "      <td>31.191700</td>\n",
       "    </tr>\n",
       "    <tr>\n",
       "      <th>1.0</th>\n",
       "      <td>0.779319</td>\n",
       "      <td>5.763190</td>\n",
       "      <td>10.464560</td>\n",
       "      <td>33.939019</td>\n",
       "      <td>11.250994</td>\n",
       "      <td>15.402563</td>\n",
       "      <td>59.880247</td>\n",
       "      <td>42.358374</td>\n",
       "      <td>2.218736</td>\n",
       "      <td>0.086611</td>\n",
       "      <td>0.073796</td>\n",
       "      <td>31.250243</td>\n",
       "    </tr>\n",
       "    <tr>\n",
       "      <th>2.0</th>\n",
       "      <td>0.975139</td>\n",
       "      <td>5.900999</td>\n",
       "      <td>9.980022</td>\n",
       "      <td>35.059933</td>\n",
       "      <td>11.829079</td>\n",
       "      <td>16.791343</td>\n",
       "      <td>61.726970</td>\n",
       "      <td>47.374029</td>\n",
       "      <td>3.266371</td>\n",
       "      <td>0.129856</td>\n",
       "      <td>0.130966</td>\n",
       "      <td>32.098335</td>\n",
       "    </tr>\n",
       "    <tr>\n",
       "      <th>3.0</th>\n",
       "      <td>1.543300</td>\n",
       "      <td>5.745626</td>\n",
       "      <td>9.680066</td>\n",
       "      <td>36.183832</td>\n",
       "      <td>12.230343</td>\n",
       "      <td>17.236988</td>\n",
       "      <td>62.890365</td>\n",
       "      <td>49.161683</td>\n",
       "      <td>3.725360</td>\n",
       "      <td>0.166113</td>\n",
       "      <td>0.160576</td>\n",
       "      <td>31.982281</td>\n",
       "    </tr>\n",
       "    <tr>\n",
       "      <th>4.0</th>\n",
       "      <td>2.176412</td>\n",
       "      <td>5.853821</td>\n",
       "      <td>9.352326</td>\n",
       "      <td>37.182724</td>\n",
       "      <td>12.134551</td>\n",
       "      <td>17.818937</td>\n",
       "      <td>64.765781</td>\n",
       "      <td>51.468439</td>\n",
       "      <td>3.910299</td>\n",
       "      <td>0.230897</td>\n",
       "      <td>0.215947</td>\n",
       "      <td>32.238040</td>\n",
       "    </tr>\n",
       "    <tr>\n",
       "      <th>5.0</th>\n",
       "      <td>2.315451</td>\n",
       "      <td>5.663412</td>\n",
       "      <td>8.551916</td>\n",
       "      <td>36.535229</td>\n",
       "      <td>12.658838</td>\n",
       "      <td>17.234858</td>\n",
       "      <td>65.673671</td>\n",
       "      <td>51.955501</td>\n",
       "      <td>4.634116</td>\n",
       "      <td>0.247219</td>\n",
       "      <td>0.220025</td>\n",
       "      <td>31.824475</td>\n",
       "    </tr>\n",
       "    <tr>\n",
       "      <th>6.0</th>\n",
       "      <td>2.882042</td>\n",
       "      <td>5.348856</td>\n",
       "      <td>7.813204</td>\n",
       "      <td>37.551937</td>\n",
       "      <td>12.749120</td>\n",
       "      <td>17.303697</td>\n",
       "      <td>67.536092</td>\n",
       "      <td>53.370599</td>\n",
       "      <td>4.970070</td>\n",
       "      <td>0.299296</td>\n",
       "      <td>0.278169</td>\n",
       "      <td>31.791373</td>\n",
       "    </tr>\n",
       "    <tr>\n",
       "      <th>7.0</th>\n",
       "      <td>4.016501</td>\n",
       "      <td>4.980646</td>\n",
       "      <td>5.318151</td>\n",
       "      <td>38.485734</td>\n",
       "      <td>13.194225</td>\n",
       "      <td>17.279134</td>\n",
       "      <td>71.443451</td>\n",
       "      <td>58.622551</td>\n",
       "      <td>5.980749</td>\n",
       "      <td>0.366105</td>\n",
       "      <td>0.371949</td>\n",
       "      <td>31.403369</td>\n",
       "    </tr>\n",
       "    <tr>\n",
       "      <th>8.0</th>\n",
       "      <td>12.604552</td>\n",
       "      <td>4.791892</td>\n",
       "      <td>2.210953</td>\n",
       "      <td>37.258890</td>\n",
       "      <td>11.669986</td>\n",
       "      <td>14.718350</td>\n",
       "      <td>82.291607</td>\n",
       "      <td>70.724040</td>\n",
       "      <td>6.849218</td>\n",
       "      <td>0.593172</td>\n",
       "      <td>0.631579</td>\n",
       "      <td>31.045661</td>\n",
       "    </tr>\n",
       "  </tbody>\n",
       "</table>\n",
       "</div>"
      ],
      "text/plain": [
       "           Rainfall  Evaporation   Sunshine  WindGustSpeed  WindSpeed9am  \\\n",
       "Cloud9am                                                                   \n",
       "0.0        0.082800     6.719600  11.197200      33.883000     11.456000   \n",
       "1.0        0.779319     5.763190  10.464560      33.939019     11.250994   \n",
       "2.0        0.975139     5.900999   9.980022      35.059933     11.829079   \n",
       "3.0        1.543300     5.745626   9.680066      36.183832     12.230343   \n",
       "4.0        2.176412     5.853821   9.352326      37.182724     12.134551   \n",
       "5.0        2.315451     5.663412   8.551916      36.535229     12.658838   \n",
       "6.0        2.882042     5.348856   7.813204      37.551937     12.749120   \n",
       "7.0        4.016501     4.980646   5.318151      38.485734     13.194225   \n",
       "8.0       12.604552     4.791892   2.210953      37.258890     11.669986   \n",
       "\n",
       "          WindSpeed3pm  Humidity9am  Humidity3pm  Cloud3pm  RainToday  \\\n",
       "Cloud9am                                                                \n",
       "0.0          14.695000    52.028000    33.802000  0.877000   0.017000   \n",
       "1.0          15.402563    59.880247    42.358374  2.218736   0.086611   \n",
       "2.0          16.791343    61.726970    47.374029  3.266371   0.129856   \n",
       "3.0          17.236988    62.890365    49.161683  3.725360   0.166113   \n",
       "4.0          17.818937    64.765781    51.468439  3.910299   0.230897   \n",
       "5.0          17.234858    65.673671    51.955501  4.634116   0.247219   \n",
       "6.0          17.303697    67.536092    53.370599  4.970070   0.299296   \n",
       "7.0          17.279134    71.443451    58.622551  5.980749   0.366105   \n",
       "8.0          14.718350    82.291607    70.724040  6.849218   0.593172   \n",
       "\n",
       "          RainTomorrow  AverageTemp  \n",
       "Cloud9am                             \n",
       "0.0           0.020000    31.191700  \n",
       "1.0           0.073796    31.250243  \n",
       "2.0           0.130966    32.098335  \n",
       "3.0           0.160576    31.982281  \n",
       "4.0           0.215947    32.238040  \n",
       "5.0           0.220025    31.824475  \n",
       "6.0           0.278169    31.791373  \n",
       "7.0           0.371949    31.403369  \n",
       "8.0           0.631579    31.045661  "
      ]
     },
     "execution_count": 67,
     "metadata": {},
     "output_type": "execute_result"
    }
   ],
   "source": [
    "# mean value of various variables\n",
    "df.groupby(['Cloud9am']).mean()"
   ]
  },
  {
   "cell_type": "markdown",
   "id": "b31425a1",
   "metadata": {},
   "source": [
    "3.16. a) 'Cloud9am' of 8 oktas had the highest rate of 'RainTomorrow' at 63.2%.<br>\n",
    "b) 'Cloud9am' of 0 okta had the lowest rate of 'RainTomorrow' at 2.0%."
   ]
  },
  {
   "cell_type": "markdown",
   "id": "c313039c",
   "metadata": {},
   "source": [
    "###### 3.17 Rate of 'RainTomorrow' In Terms of 'Cloud3pm'"
   ]
  },
  {
   "cell_type": "code",
   "execution_count": 68,
   "id": "2f8ddd3f",
   "metadata": {},
   "outputs": [
    {
     "data": {
      "text/plain": [
       "<AxesSubplot:xlabel='Cloud3pm', ylabel='count'>"
      ]
     },
     "execution_count": 68,
     "metadata": {},
     "output_type": "execute_result"
    },
    {
     "data": {
      "image/png": "[encoded data removed]",
      "text/plain": [
       "<Figure size 1296x432 with 1 Axes>"
      ]
     },
     "metadata": {
      "needs_background": "light"
     },
     "output_type": "display_data"
    }
   ],
   "source": [
    "# bar chart \n",
    "plt.figure(figsize=(18, 6))\n",
    "sns.countplot(x='Cloud3pm', hue='RainTomorrow', data=df)"
   ]
  },
  {
   "cell_type": "code",
   "execution_count": 69,
   "id": "472e86f0",
   "metadata": {
    "scrolled": true
   },
   "outputs": [
    {
     "data": {
      "text/html": [
       "<div>\n",
       "<style scoped>\n",
       "    .dataframe tbody tr th:only-of-type {\n",
       "        vertical-align: middle;\n",
       "    }\n",
       "\n",
       "    .dataframe tbody tr th {\n",
       "        vertical-align: top;\n",
       "    }\n",
       "\n",
       "    .dataframe thead th {\n",
       "        text-align: right;\n",
       "    }\n",
       "</style>\n",
       "<table border=\"1\" class=\"dataframe\">\n",
       "  <thead>\n",
       "    <tr style=\"text-align: right;\">\n",
       "      <th></th>\n",
       "      <th>Rainfall</th>\n",
       "      <th>Evaporation</th>\n",
       "      <th>Sunshine</th>\n",
       "      <th>WindGustSpeed</th>\n",
       "      <th>WindSpeed9am</th>\n",
       "      <th>WindSpeed3pm</th>\n",
       "      <th>Humidity9am</th>\n",
       "      <th>Humidity3pm</th>\n",
       "      <th>Cloud9am</th>\n",
       "      <th>RainToday</th>\n",
       "      <th>RainTomorrow</th>\n",
       "      <th>AverageTemp</th>\n",
       "    </tr>\n",
       "    <tr>\n",
       "      <th>Cloud3pm</th>\n",
       "      <th></th>\n",
       "      <th></th>\n",
       "      <th></th>\n",
       "      <th></th>\n",
       "      <th></th>\n",
       "      <th></th>\n",
       "      <th></th>\n",
       "      <th></th>\n",
       "      <th></th>\n",
       "      <th></th>\n",
       "      <th></th>\n",
       "      <th></th>\n",
       "    </tr>\n",
       "  </thead>\n",
       "  <tbody>\n",
       "    <tr>\n",
       "      <th>0.0</th>\n",
       "      <td>0.114543</td>\n",
       "      <td>7.159588</td>\n",
       "      <td>11.389447</td>\n",
       "      <td>35.449163</td>\n",
       "      <td>12.615187</td>\n",
       "      <td>15.401544</td>\n",
       "      <td>50.077220</td>\n",
       "      <td>31.611326</td>\n",
       "      <td>0.718147</td>\n",
       "      <td>0.018018</td>\n",
       "      <td>0.007722</td>\n",
       "      <td>31.287387</td>\n",
       "    </tr>\n",
       "    <tr>\n",
       "      <th>1.0</th>\n",
       "      <td>0.611732</td>\n",
       "      <td>6.267369</td>\n",
       "      <td>10.803071</td>\n",
       "      <td>33.549496</td>\n",
       "      <td>10.977544</td>\n",
       "      <td>15.751604</td>\n",
       "      <td>59.269936</td>\n",
       "      <td>41.664986</td>\n",
       "      <td>1.997250</td>\n",
       "      <td>0.060037</td>\n",
       "      <td>0.035747</td>\n",
       "      <td>31.725665</td>\n",
       "    </tr>\n",
       "    <tr>\n",
       "      <th>2.0</th>\n",
       "      <td>1.422500</td>\n",
       "      <td>5.970089</td>\n",
       "      <td>10.234643</td>\n",
       "      <td>34.080357</td>\n",
       "      <td>10.967857</td>\n",
       "      <td>16.514286</td>\n",
       "      <td>62.907143</td>\n",
       "      <td>46.420536</td>\n",
       "      <td>2.995536</td>\n",
       "      <td>0.153571</td>\n",
       "      <td>0.078571</td>\n",
       "      <td>32.157768</td>\n",
       "    </tr>\n",
       "    <tr>\n",
       "      <th>3.0</th>\n",
       "      <td>1.694645</td>\n",
       "      <td>5.400584</td>\n",
       "      <td>9.590458</td>\n",
       "      <td>34.634859</td>\n",
       "      <td>11.174294</td>\n",
       "      <td>16.158715</td>\n",
       "      <td>65.322298</td>\n",
       "      <td>47.991237</td>\n",
       "      <td>3.614411</td>\n",
       "      <td>0.196689</td>\n",
       "      <td>0.147030</td>\n",
       "      <td>31.694645</td>\n",
       "    </tr>\n",
       "    <tr>\n",
       "      <th>4.0</th>\n",
       "      <td>2.390390</td>\n",
       "      <td>5.348949</td>\n",
       "      <td>8.969369</td>\n",
       "      <td>36.270270</td>\n",
       "      <td>11.432432</td>\n",
       "      <td>16.710210</td>\n",
       "      <td>66.484985</td>\n",
       "      <td>50.198198</td>\n",
       "      <td>4.162162</td>\n",
       "      <td>0.252252</td>\n",
       "      <td>0.183183</td>\n",
       "      <td>31.573724</td>\n",
       "    </tr>\n",
       "    <tr>\n",
       "      <th>5.0</th>\n",
       "      <td>2.662253</td>\n",
       "      <td>5.246341</td>\n",
       "      <td>8.341115</td>\n",
       "      <td>36.373984</td>\n",
       "      <td>12.197445</td>\n",
       "      <td>16.914053</td>\n",
       "      <td>67.343786</td>\n",
       "      <td>50.645761</td>\n",
       "      <td>4.610918</td>\n",
       "      <td>0.264808</td>\n",
       "      <td>0.214866</td>\n",
       "      <td>31.418002</td>\n",
       "    </tr>\n",
       "    <tr>\n",
       "      <th>6.0</th>\n",
       "      <td>3.298662</td>\n",
       "      <td>5.079839</td>\n",
       "      <td>7.384478</td>\n",
       "      <td>38.299732</td>\n",
       "      <td>13.137377</td>\n",
       "      <td>17.876004</td>\n",
       "      <td>68.591436</td>\n",
       "      <td>53.610169</td>\n",
       "      <td>5.066012</td>\n",
       "      <td>0.319358</td>\n",
       "      <td>0.279215</td>\n",
       "      <td>31.384478</td>\n",
       "    </tr>\n",
       "    <tr>\n",
       "      <th>7.0</th>\n",
       "      <td>4.186320</td>\n",
       "      <td>4.907659</td>\n",
       "      <td>5.207125</td>\n",
       "      <td>38.887424</td>\n",
       "      <td>13.810830</td>\n",
       "      <td>17.267902</td>\n",
       "      <td>70.628785</td>\n",
       "      <td>59.195226</td>\n",
       "      <td>6.014250</td>\n",
       "      <td>0.364090</td>\n",
       "      <td>0.413253</td>\n",
       "      <td>31.297649</td>\n",
       "    </tr>\n",
       "    <tr>\n",
       "      <th>8.0</th>\n",
       "      <td>10.572331</td>\n",
       "      <td>4.940000</td>\n",
       "      <td>1.920301</td>\n",
       "      <td>38.562406</td>\n",
       "      <td>12.193985</td>\n",
       "      <td>14.366917</td>\n",
       "      <td>77.106767</td>\n",
       "      <td>76.066165</td>\n",
       "      <td>7.133835</td>\n",
       "      <td>0.520301</td>\n",
       "      <td>0.747368</td>\n",
       "      <td>31.490376</td>\n",
       "    </tr>\n",
       "  </tbody>\n",
       "</table>\n",
       "</div>"
      ],
      "text/plain": [
       "           Rainfall  Evaporation   Sunshine  WindGustSpeed  WindSpeed9am  \\\n",
       "Cloud3pm                                                                   \n",
       "0.0        0.114543     7.159588  11.389447      35.449163     12.615187   \n",
       "1.0        0.611732     6.267369  10.803071      33.549496     10.977544   \n",
       "2.0        1.422500     5.970089  10.234643      34.080357     10.967857   \n",
       "3.0        1.694645     5.400584   9.590458      34.634859     11.174294   \n",
       "4.0        2.390390     5.348949   8.969369      36.270270     11.432432   \n",
       "5.0        2.662253     5.246341   8.341115      36.373984     12.197445   \n",
       "6.0        3.298662     5.079839   7.384478      38.299732     13.137377   \n",
       "7.0        4.186320     4.907659   5.207125      38.887424     13.810830   \n",
       "8.0       10.572331     4.940000   1.920301      38.562406     12.193985   \n",
       "\n",
       "          WindSpeed3pm  Humidity9am  Humidity3pm  Cloud9am  RainToday  \\\n",
       "Cloud3pm                                                                \n",
       "0.0          15.401544    50.077220    31.611326  0.718147   0.018018   \n",
       "1.0          15.751604    59.269936    41.664986  1.997250   0.060037   \n",
       "2.0          16.514286    62.907143    46.420536  2.995536   0.153571   \n",
       "3.0          16.158715    65.322298    47.991237  3.614411   0.196689   \n",
       "4.0          16.710210    66.484985    50.198198  4.162162   0.252252   \n",
       "5.0          16.914053    67.343786    50.645761  4.610918   0.264808   \n",
       "6.0          17.876004    68.591436    53.610169  5.066012   0.319358   \n",
       "7.0          17.267902    70.628785    59.195226  6.014250   0.364090   \n",
       "8.0          14.366917    77.106767    76.066165  7.133835   0.520301   \n",
       "\n",
       "          RainTomorrow  AverageTemp  \n",
       "Cloud3pm                             \n",
       "0.0           0.007722    31.287387  \n",
       "1.0           0.035747    31.725665  \n",
       "2.0           0.078571    32.157768  \n",
       "3.0           0.147030    31.694645  \n",
       "4.0           0.183183    31.573724  \n",
       "5.0           0.214866    31.418002  \n",
       "6.0           0.279215    31.384478  \n",
       "7.0           0.413253    31.297649  \n",
       "8.0           0.747368    31.490376  "
      ]
     },
     "execution_count": 69,
     "metadata": {},
     "output_type": "execute_result"
    }
   ],
   "source": [
    "# mean value of various variables\n",
    "df.groupby(['Cloud3pm']).mean()"
   ]
  },
  {
   "cell_type": "markdown",
   "id": "cab804a8",
   "metadata": {},
   "source": [
    "3.17. a) 'Cloud3pm' of 8 oktas had the highest rate of 'RainTomorrow' at 74.7%.<br>\n",
    "b) 'Cloud3pm' of 0 okta had the lowest rate of 'RainTomorrow' at 0.8%."
   ]
  },
  {
   "cell_type": "markdown",
   "id": "243fd2e2",
   "metadata": {},
   "source": [
    "###### 3.18 Rate of 'RainTomorrow' In Terms of 'RainToday'"
   ]
  },
  {
   "cell_type": "code",
   "execution_count": 70,
   "id": "4ac5f80f",
   "metadata": {},
   "outputs": [
    {
     "data": {
      "text/plain": [
       "<AxesSubplot:xlabel='RainToday', ylabel='count'>"
      ]
     },
     "execution_count": 70,
     "metadata": {},
     "output_type": "execute_result"
    },
    {
     "data": {
      "image/png": "[encoded data removed]",
      "text/plain": [
       "<Figure size 432x360 with 1 Axes>"
      ]
     },
     "metadata": {
      "needs_background": "light"
     },
     "output_type": "display_data"
    }
   ],
   "source": [
    "# bar chart \n",
    "plt.figure(figsize=(6, 5))\n",
    "sns.countplot(x='RainToday', hue='RainTomorrow', data=df)"
   ]
  },
  {
   "cell_type": "code",
   "execution_count": 71,
   "id": "629a6bd1",
   "metadata": {
    "scrolled": true
   },
   "outputs": [
    {
     "data": {
      "text/html": [
       "<div>\n",
       "<style scoped>\n",
       "    .dataframe tbody tr th:only-of-type {\n",
       "        vertical-align: middle;\n",
       "    }\n",
       "\n",
       "    .dataframe tbody tr th {\n",
       "        vertical-align: top;\n",
       "    }\n",
       "\n",
       "    .dataframe thead th {\n",
       "        text-align: right;\n",
       "    }\n",
       "</style>\n",
       "<table border=\"1\" class=\"dataframe\">\n",
       "  <thead>\n",
       "    <tr style=\"text-align: right;\">\n",
       "      <th></th>\n",
       "      <th>Rainfall</th>\n",
       "      <th>Evaporation</th>\n",
       "      <th>Sunshine</th>\n",
       "      <th>WindGustSpeed</th>\n",
       "      <th>WindSpeed9am</th>\n",
       "      <th>WindSpeed3pm</th>\n",
       "      <th>Humidity9am</th>\n",
       "      <th>Humidity3pm</th>\n",
       "      <th>Cloud9am</th>\n",
       "      <th>Cloud3pm</th>\n",
       "      <th>RainTomorrow</th>\n",
       "      <th>AverageTemp</th>\n",
       "    </tr>\n",
       "    <tr>\n",
       "      <th>RainToday</th>\n",
       "      <th></th>\n",
       "      <th></th>\n",
       "      <th></th>\n",
       "      <th></th>\n",
       "      <th></th>\n",
       "      <th></th>\n",
       "      <th></th>\n",
       "      <th></th>\n",
       "      <th></th>\n",
       "      <th></th>\n",
       "      <th></th>\n",
       "      <th></th>\n",
       "    </tr>\n",
       "  </thead>\n",
       "  <tbody>\n",
       "    <tr>\n",
       "      <th>0</th>\n",
       "      <td>0.057426</td>\n",
       "      <td>5.927874</td>\n",
       "      <td>8.856610</td>\n",
       "      <td>35.323821</td>\n",
       "      <td>12.135119</td>\n",
       "      <td>16.340012</td>\n",
       "      <td>61.80000</td>\n",
       "      <td>47.090274</td>\n",
       "      <td>3.583343</td>\n",
       "      <td>3.634712</td>\n",
       "      <td>0.150728</td>\n",
       "      <td>31.638847</td>\n",
       "    </tr>\n",
       "    <tr>\n",
       "      <th>1</th>\n",
       "      <td>11.597122</td>\n",
       "      <td>4.322378</td>\n",
       "      <td>5.689814</td>\n",
       "      <td>39.546763</td>\n",
       "      <td>12.515714</td>\n",
       "      <td>17.003029</td>\n",
       "      <td>77.20939</td>\n",
       "      <td>62.992427</td>\n",
       "      <td>5.780765</td>\n",
       "      <td>5.665657</td>\n",
       "      <td>0.494510</td>\n",
       "      <td>31.252518</td>\n",
       "    </tr>\n",
       "  </tbody>\n",
       "</table>\n",
       "</div>"
      ],
      "text/plain": [
       "            Rainfall  Evaporation  Sunshine  WindGustSpeed  WindSpeed9am  \\\n",
       "RainToday                                                                  \n",
       "0           0.057426     5.927874  8.856610      35.323821     12.135119   \n",
       "1          11.597122     4.322378  5.689814      39.546763     12.515714   \n",
       "\n",
       "           WindSpeed3pm  Humidity9am  Humidity3pm  Cloud9am  Cloud3pm  \\\n",
       "RainToday                                                               \n",
       "0             16.340012     61.80000    47.090274  3.583343  3.634712   \n",
       "1             17.003029     77.20939    62.992427  5.780765  5.665657   \n",
       "\n",
       "           RainTomorrow  AverageTemp  \n",
       "RainToday                             \n",
       "0              0.150728    31.638847  \n",
       "1              0.494510    31.252518  "
      ]
     },
     "execution_count": 71,
     "metadata": {},
     "output_type": "execute_result"
    }
   ],
   "source": [
    "# mean value of various variables\n",
    "df.groupby(['RainToday']).mean()"
   ]
  },
  {
   "cell_type": "markdown",
   "id": "c581eebe",
   "metadata": {},
   "source": [
    "3.18. Days that rained today had a higher rate of raining the next day ('RainTomorrow') at 49.5%."
   ]
  },
  {
   "cell_type": "markdown",
   "id": "2d4e9cbf",
   "metadata": {},
   "source": [
    "###### 3.19 Rate of 'RainTomorrow' In Terms of 'ColourOfBoats'"
   ]
  },
  {
   "cell_type": "code",
   "execution_count": 72,
   "id": "b37365dc",
   "metadata": {
    "scrolled": true
   },
   "outputs": [
    {
     "data": {
      "text/plain": [
       "<AxesSubplot:xlabel='ColourOfBoats', ylabel='count'>"
      ]
     },
     "execution_count": 72,
     "metadata": {},
     "output_type": "execute_result"
    },
    {
     "data": {
      "image/png": "[encoded data removed]",
      "text/plain": [
       "<Figure size 864x360 with 1 Axes>"
      ]
     },
     "metadata": {
      "needs_background": "light"
     },
     "output_type": "display_data"
    }
   ],
   "source": [
    "# bar chart \n",
    "plt.figure(figsize=(12, 5))\n",
    "sns.countplot(x='ColourOfBoats', hue='RainTomorrow', data=df)"
   ]
  },
  {
   "cell_type": "code",
   "execution_count": 73,
   "id": "4b64854a",
   "metadata": {
    "scrolled": true
   },
   "outputs": [
    {
     "data": {
      "text/html": [
       "<div>\n",
       "<style scoped>\n",
       "    .dataframe tbody tr th:only-of-type {\n",
       "        vertical-align: middle;\n",
       "    }\n",
       "\n",
       "    .dataframe tbody tr th {\n",
       "        vertical-align: top;\n",
       "    }\n",
       "\n",
       "    .dataframe thead th {\n",
       "        text-align: right;\n",
       "    }\n",
       "</style>\n",
       "<table border=\"1\" class=\"dataframe\">\n",
       "  <thead>\n",
       "    <tr style=\"text-align: right;\">\n",
       "      <th></th>\n",
       "      <th>Rainfall</th>\n",
       "      <th>Evaporation</th>\n",
       "      <th>Sunshine</th>\n",
       "      <th>WindGustSpeed</th>\n",
       "      <th>WindSpeed9am</th>\n",
       "      <th>WindSpeed3pm</th>\n",
       "      <th>Humidity9am</th>\n",
       "      <th>Humidity3pm</th>\n",
       "      <th>Cloud9am</th>\n",
       "      <th>Cloud3pm</th>\n",
       "      <th>RainToday</th>\n",
       "      <th>RainTomorrow</th>\n",
       "      <th>AverageTemp</th>\n",
       "    </tr>\n",
       "    <tr>\n",
       "      <th>ColourOfBoats</th>\n",
       "      <th></th>\n",
       "      <th></th>\n",
       "      <th></th>\n",
       "      <th></th>\n",
       "      <th></th>\n",
       "      <th></th>\n",
       "      <th></th>\n",
       "      <th></th>\n",
       "      <th></th>\n",
       "      <th></th>\n",
       "      <th></th>\n",
       "      <th></th>\n",
       "      <th></th>\n",
       "    </tr>\n",
       "  </thead>\n",
       "  <tbody>\n",
       "    <tr>\n",
       "      <th>blue</th>\n",
       "      <td>2.869016</td>\n",
       "      <td>5.601969</td>\n",
       "      <td>8.125078</td>\n",
       "      <td>36.398618</td>\n",
       "      <td>12.134715</td>\n",
       "      <td>16.438342</td>\n",
       "      <td>65.448705</td>\n",
       "      <td>50.940587</td>\n",
       "      <td>4.091537</td>\n",
       "      <td>4.112263</td>\n",
       "      <td>0.245596</td>\n",
       "      <td>0.239724</td>\n",
       "      <td>31.570846</td>\n",
       "    </tr>\n",
       "    <tr>\n",
       "      <th>grey</th>\n",
       "      <td>2.928891</td>\n",
       "      <td>5.515004</td>\n",
       "      <td>8.045756</td>\n",
       "      <td>36.592331</td>\n",
       "      <td>12.523455</td>\n",
       "      <td>16.816456</td>\n",
       "      <td>65.635517</td>\n",
       "      <td>51.020477</td>\n",
       "      <td>4.132539</td>\n",
       "      <td>4.152271</td>\n",
       "      <td>0.234550</td>\n",
       "      <td>0.240879</td>\n",
       "      <td>31.561690</td>\n",
       "    </tr>\n",
       "    <tr>\n",
       "      <th>red</th>\n",
       "      <td>2.803630</td>\n",
       "      <td>5.475267</td>\n",
       "      <td>8.079537</td>\n",
       "      <td>36.113167</td>\n",
       "      <td>12.095374</td>\n",
       "      <td>16.323488</td>\n",
       "      <td>65.385765</td>\n",
       "      <td>50.840569</td>\n",
       "      <td>4.080783</td>\n",
       "      <td>4.107473</td>\n",
       "      <td>0.228470</td>\n",
       "      <td>0.222776</td>\n",
       "      <td>31.469181</td>\n",
       "    </tr>\n",
       "    <tr>\n",
       "      <th>white</th>\n",
       "      <td>2.493827</td>\n",
       "      <td>5.604832</td>\n",
       "      <td>8.191993</td>\n",
       "      <td>36.176014</td>\n",
       "      <td>12.161552</td>\n",
       "      <td>16.422222</td>\n",
       "      <td>65.240917</td>\n",
       "      <td>50.531570</td>\n",
       "      <td>4.098060</td>\n",
       "      <td>4.080071</td>\n",
       "      <td>0.232099</td>\n",
       "      <td>0.223280</td>\n",
       "      <td>31.589665</td>\n",
       "    </tr>\n",
       "  </tbody>\n",
       "</table>\n",
       "</div>"
      ],
      "text/plain": [
       "               Rainfall  Evaporation  Sunshine  WindGustSpeed  WindSpeed9am  \\\n",
       "ColourOfBoats                                                                 \n",
       "blue           2.869016     5.601969  8.125078      36.398618     12.134715   \n",
       "grey           2.928891     5.515004  8.045756      36.592331     12.523455   \n",
       "red            2.803630     5.475267  8.079537      36.113167     12.095374   \n",
       "white          2.493827     5.604832  8.191993      36.176014     12.161552   \n",
       "\n",
       "               WindSpeed3pm  Humidity9am  Humidity3pm  Cloud9am  Cloud3pm  \\\n",
       "ColourOfBoats                                                               \n",
       "blue              16.438342    65.448705    50.940587  4.091537  4.112263   \n",
       "grey              16.816456    65.635517    51.020477  4.132539  4.152271   \n",
       "red               16.323488    65.385765    50.840569  4.080783  4.107473   \n",
       "white             16.422222    65.240917    50.531570  4.098060  4.080071   \n",
       "\n",
       "               RainToday  RainTomorrow  AverageTemp  \n",
       "ColourOfBoats                                        \n",
       "blue            0.245596      0.239724    31.570846  \n",
       "grey            0.234550      0.240879    31.561690  \n",
       "red             0.228470      0.222776    31.469181  \n",
       "white           0.232099      0.223280    31.589665  "
      ]
     },
     "execution_count": 73,
     "metadata": {},
     "output_type": "execute_result"
    }
   ],
   "source": [
    "# mean value of various variables\n",
    "df.groupby(['ColourOfBoats']).mean()"
   ]
  },
  {
   "cell_type": "markdown",
   "id": "d8fc2223",
   "metadata": {},
   "source": [
    "3.19. The rate of 'RainTomorrow' among the various 'ColourOfBoats' were similar, ranging from 22.2% to 24.1%."
   ]
  },
  {
   "cell_type": "markdown",
   "id": "c4a9c527",
   "metadata": {},
   "source": [
    "###### 3.20 Rate of 'RainTomorrow' In Terms of 'AverageTemp'"
   ]
  },
  {
   "cell_type": "code",
   "execution_count": 74,
   "id": "f71d6ea7",
   "metadata": {},
   "outputs": [
    {
     "data": {
      "text/plain": [
       "<AxesSubplot:xlabel='Count', ylabel='AverageTemp'>"
      ]
     },
     "execution_count": 74,
     "metadata": {},
     "output_type": "execute_result"
    },
    {
     "data": {
      "image/png": "[encoded data removed]",
      "text/plain": [
       "<Figure size 1296x288 with 1 Axes>"
      ]
     },
     "metadata": {
      "needs_background": "light"
     },
     "output_type": "display_data"
    }
   ],
   "source": [
    "# histogram\n",
    "plt.figure(figsize=(18, 4))\n",
    "sns.histplot(data=df, y='AverageTemp', hue='RainTomorrow', stat='count', binwidth=2, multiple='stack')"
   ]
  },
  {
   "cell_type": "code",
   "execution_count": 75,
   "id": "ccc790c3",
   "metadata": {},
   "outputs": [
    {
     "data": {
      "text/plain": [
       "<AxesSubplot:xlabel='RainTomorrow', ylabel='AverageTemp'>"
      ]
     },
     "execution_count": 75,
     "metadata": {},
     "output_type": "execute_result"
    },
    {
     "data": {
      "image/png": "[encoded data removed]",
      "text/plain": [
       "<Figure size 432x432 with 1 Axes>"
      ]
     },
     "metadata": {
      "needs_background": "light"
     },
     "output_type": "display_data"
    }
   ],
   "source": [
    "# box plot\n",
    "plt.figure(figsize=(6, 6))\n",
    "sns.boxplot(data=df, x='RainTomorrow', y='AverageTemp')"
   ]
  },
  {
   "cell_type": "markdown",
   "id": "19009374",
   "metadata": {},
   "source": [
    "3.20. a) Most of the days had 'AverageTemp' of 26degC to 36degC.<br>\n",
    "b) Days that had rained the next day ('RainTomorrow') had similar 'AverageTemp' median as days that had not rained the next day. "
   ]
  },
  {
   "cell_type": "markdown",
   "id": "07b42398",
   "metadata": {},
   "source": [
    "###### 3.21 Correlation Matrix"
   ]
  },
  {
   "cell_type": "code",
   "execution_count": 76,
   "id": "b26c33cc",
   "metadata": {
    "scrolled": false
   },
   "outputs": [
    {
     "data": {
      "text/plain": [
       "<AxesSubplot:>"
      ]
     },
     "execution_count": 76,
     "metadata": {},
     "output_type": "execute_result"
    },
    {
     "data": {
      "image/png": "[encoded data removed]",
      "text/plain": [
       "<Figure size 864x648 with 2 Axes>"
      ]
     },
     "metadata": {
      "needs_background": "light"
     },
     "output_type": "display_data"
    }
   ],
   "source": [
    "# correlation matrix\n",
    "plt.figure(figsize = (12,9))\n",
    "sns.heatmap(df.corr(), cmap='viridis', annot=True, fmt='.2g')"
   ]
  },
  {
   "cell_type": "markdown",
   "id": "acb86e13",
   "metadata": {},
   "source": [
    "3.21. With respect to 'RainTomorrow', the highest correlated variables are:<br>\n",
    "1. 'Humidity3pm' (0.51)\n",
    "2. 'Sunshine' (-0.48)\n",
    "3. 'Cloud3pm' (0.43)\n",
    "4. 'Cloud9am' (0.36)\n",
    "5. 'Cloud3pm' (0.35)"
   ]
  }
 ],
 "metadata": {
  "kernelspec": {
   "display_name": "Python 3",
   "language": "python",
   "name": "python3"
  },
  "language_info": {
   "codemirror_mode": {
    "name": "ipython",
    "version": 3
   },
   "file_extension": ".py",
   "mimetype": "text/x-python",
   "name": "python",
   "nbconvert_exporter": "python",
   "pygments_lexer": "ipython3",
   "version": "3.8.8"
  }
 },
 "nbformat": 4,
 "nbformat_minor": 5
}
